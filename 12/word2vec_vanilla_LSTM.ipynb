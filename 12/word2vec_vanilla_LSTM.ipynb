{
 "cells": [
  {
   "cell_type": "markdown",
   "id": "fd769af5",
   "metadata": {},
   "source": [
    "# Preparação dos dados"
   ]
  },
  {
   "cell_type": "code",
   "execution_count": 2,
   "id": "16d72509",
   "metadata": {},
   "outputs": [
    {
     "data": {
      "text/html": [
       "<div>\n",
       "<style scoped>\n",
       "    .dataframe tbody tr th:only-of-type {\n",
       "        vertical-align: middle;\n",
       "    }\n",
       "\n",
       "    .dataframe tbody tr th {\n",
       "        vertical-align: top;\n",
       "    }\n",
       "\n",
       "    .dataframe thead th {\n",
       "        text-align: right;\n",
       "    }\n",
       "</style>\n",
       "<table border=\"1\" class=\"dataframe\">\n",
       "  <thead>\n",
       "    <tr style=\"text-align: right;\">\n",
       "      <th></th>\n",
       "      <th>date</th>\n",
       "      <th>time</th>\n",
       "      <th>title</th>\n",
       "      <th>text</th>\n",
       "      <th>link</th>\n",
       "      <th>club</th>\n",
       "    </tr>\n",
       "  </thead>\n",
       "  <tbody>\n",
       "    <tr>\n",
       "      <th>0</th>\n",
       "      <td>10/11/2022</td>\n",
       "      <td>19h55</td>\n",
       "      <td>Convocados do Uruguai para a Copa do Mundo 202...</td>\n",
       "      <td>O técnico Diego Alonso divulgou a lista dos 2...</td>\n",
       "      <td>https://ge.globo.com/futebol/copa-do-mundo/not...</td>\n",
       "      <td>athletico-pr</td>\n",
       "    </tr>\n",
       "    <tr>\n",
       "      <th>1</th>\n",
       "      <td>22/12/2017</td>\n",
       "      <td>10h04</td>\n",
       "      <td>Conmebol divulga tabela detalhada da pré e da ...</td>\n",
       "      <td>Argentinos são destaques no caminho dos brasi...</td>\n",
       "      <td>https://globoesporte.globo.com/futebol/liberta...</td>\n",
       "      <td>athletico-pr</td>\n",
       "    </tr>\n",
       "    <tr>\n",
       "      <th>2</th>\n",
       "      <td>11/02/2018</td>\n",
       "      <td>08h00</td>\n",
       "      <td>Com assistência, Demethryus recebe elogios no ...</td>\n",
       "      <td>O meia Demethryus conseguiu aproveitar bem a ...</td>\n",
       "      <td>https://globoesporte.globo.com/pr/futebol/time...</td>\n",
       "      <td>athletico-pr</td>\n",
       "    </tr>\n",
       "    <tr>\n",
       "      <th>3</th>\n",
       "      <td>18/12/2020</td>\n",
       "      <td>12h48</td>\n",
       "      <td>Athletico confirma fim de contrato com Welling...</td>\n",
       "      <td>A reportagem do ge já havia adiantado que as ...</td>\n",
       "      <td>https://globoesporte.globo.com/pr/futebol/time...</td>\n",
       "      <td>athletico-pr</td>\n",
       "    </tr>\n",
       "    <tr>\n",
       "      <th>4</th>\n",
       "      <td>13/09/2018</td>\n",
       "      <td>22h17</td>\n",
       "      <td>Alô, cartoleiros! Atlético-PR passa limpo cont...</td>\n",
       "      <td>O atacante Marcelo Cirino, desfalque já nos ú...</td>\n",
       "      <td>https://globoesporte.globo.com/pr/futebol/time...</td>\n",
       "      <td>athletico-pr</td>\n",
       "    </tr>\n",
       "  </tbody>\n",
       "</table>\n",
       "</div>"
      ],
      "text/plain": [
       "         date   time                                              title  \\\n",
       "0  10/11/2022  19h55  Convocados do Uruguai para a Copa do Mundo 202...   \n",
       "1  22/12/2017  10h04  Conmebol divulga tabela detalhada da pré e da ...   \n",
       "2  11/02/2018  08h00  Com assistência, Demethryus recebe elogios no ...   \n",
       "3  18/12/2020  12h48  Athletico confirma fim de contrato com Welling...   \n",
       "4  13/09/2018  22h17  Alô, cartoleiros! Atlético-PR passa limpo cont...   \n",
       "\n",
       "                                                text  \\\n",
       "0   O técnico Diego Alonso divulgou a lista dos 2...   \n",
       "1   Argentinos são destaques no caminho dos brasi...   \n",
       "2   O meia Demethryus conseguiu aproveitar bem a ...   \n",
       "3   A reportagem do ge já havia adiantado que as ...   \n",
       "4   O atacante Marcelo Cirino, desfalque já nos ú...   \n",
       "\n",
       "                                                link          club  \n",
       "0  https://ge.globo.com/futebol/copa-do-mundo/not...  athletico-pr  \n",
       "1  https://globoesporte.globo.com/futebol/liberta...  athletico-pr  \n",
       "2  https://globoesporte.globo.com/pr/futebol/time...  athletico-pr  \n",
       "3  https://globoesporte.globo.com/pr/futebol/time...  athletico-pr  \n",
       "4  https://globoesporte.globo.com/pr/futebol/time...  athletico-pr  "
      ]
     },
     "execution_count": 2,
     "metadata": {},
     "output_type": "execute_result"
    }
   ],
   "source": [
    "import pandas as pd\n",
    "\n",
    "# Lê o arquivo .csv\n",
    "df = pd.read_csv('ge_news.csv')\n",
    "\n",
    "# Exibe as primeiras linhas\n",
    "df.head()"
   ]
  },
  {
   "cell_type": "code",
   "execution_count": 3,
   "id": "4750c7b4",
   "metadata": {},
   "outputs": [],
   "source": [
    "# Removendo simultaneamente as colunas de índice 0, 1, 4 (date, time and link)\n",
    "column_indices = [0, 1, 4]\n",
    "df.drop([df.columns[i] for i in column_indices], axis=1, inplace=True)"
   ]
  },
  {
   "cell_type": "code",
   "execution_count": 4,
   "id": "4190d3fe",
   "metadata": {},
   "outputs": [
    {
     "data": {
      "text/html": [
       "<div>\n",
       "<style scoped>\n",
       "    .dataframe tbody tr th:only-of-type {\n",
       "        vertical-align: middle;\n",
       "    }\n",
       "\n",
       "    .dataframe tbody tr th {\n",
       "        vertical-align: top;\n",
       "    }\n",
       "\n",
       "    .dataframe thead th {\n",
       "        text-align: right;\n",
       "    }\n",
       "</style>\n",
       "<table border=\"1\" class=\"dataframe\">\n",
       "  <thead>\n",
       "    <tr style=\"text-align: right;\">\n",
       "      <th></th>\n",
       "      <th>title</th>\n",
       "      <th>text</th>\n",
       "      <th>club</th>\n",
       "    </tr>\n",
       "  </thead>\n",
       "  <tbody>\n",
       "    <tr>\n",
       "      <th>0</th>\n",
       "      <td>Convocados do Uruguai para a Copa do Mundo 202...</td>\n",
       "      <td>O técnico Diego Alonso divulgou a lista dos 2...</td>\n",
       "      <td>athletico-pr</td>\n",
       "    </tr>\n",
       "    <tr>\n",
       "      <th>1</th>\n",
       "      <td>Conmebol divulga tabela detalhada da pré e da ...</td>\n",
       "      <td>Argentinos são destaques no caminho dos brasi...</td>\n",
       "      <td>athletico-pr</td>\n",
       "    </tr>\n",
       "    <tr>\n",
       "      <th>2</th>\n",
       "      <td>Com assistência, Demethryus recebe elogios no ...</td>\n",
       "      <td>O meia Demethryus conseguiu aproveitar bem a ...</td>\n",
       "      <td>athletico-pr</td>\n",
       "    </tr>\n",
       "    <tr>\n",
       "      <th>3</th>\n",
       "      <td>Athletico confirma fim de contrato com Welling...</td>\n",
       "      <td>A reportagem do ge já havia adiantado que as ...</td>\n",
       "      <td>athletico-pr</td>\n",
       "    </tr>\n",
       "    <tr>\n",
       "      <th>4</th>\n",
       "      <td>Alô, cartoleiros! Atlético-PR passa limpo cont...</td>\n",
       "      <td>O atacante Marcelo Cirino, desfalque já nos ú...</td>\n",
       "      <td>athletico-pr</td>\n",
       "    </tr>\n",
       "  </tbody>\n",
       "</table>\n",
       "</div>"
      ],
      "text/plain": [
       "                                               title  \\\n",
       "0  Convocados do Uruguai para a Copa do Mundo 202...   \n",
       "1  Conmebol divulga tabela detalhada da pré e da ...   \n",
       "2  Com assistência, Demethryus recebe elogios no ...   \n",
       "3  Athletico confirma fim de contrato com Welling...   \n",
       "4  Alô, cartoleiros! Atlético-PR passa limpo cont...   \n",
       "\n",
       "                                                text          club  \n",
       "0   O técnico Diego Alonso divulgou a lista dos 2...  athletico-pr  \n",
       "1   Argentinos são destaques no caminho dos brasi...  athletico-pr  \n",
       "2   O meia Demethryus conseguiu aproveitar bem a ...  athletico-pr  \n",
       "3   A reportagem do ge já havia adiantado que as ...  athletico-pr  \n",
       "4   O atacante Marcelo Cirino, desfalque já nos ú...  athletico-pr  "
      ]
     },
     "execution_count": 4,
     "metadata": {},
     "output_type": "execute_result"
    }
   ],
   "source": [
    "df.head()"
   ]
  },
  {
   "cell_type": "code",
   "execution_count": 5,
   "id": "e7b3299a",
   "metadata": {},
   "outputs": [],
   "source": [
    "# Fundindo colunas 'title' e 'text' para a coluna 'title_and_text'\n",
    "df['data'] = df['title'] + ' ' + df['text']"
   ]
  },
  {
   "cell_type": "code",
   "execution_count": 6,
   "id": "e8db8b90",
   "metadata": {},
   "outputs": [
    {
     "data": {
      "text/html": [
       "<div>\n",
       "<style scoped>\n",
       "    .dataframe tbody tr th:only-of-type {\n",
       "        vertical-align: middle;\n",
       "    }\n",
       "\n",
       "    .dataframe tbody tr th {\n",
       "        vertical-align: top;\n",
       "    }\n",
       "\n",
       "    .dataframe thead th {\n",
       "        text-align: right;\n",
       "    }\n",
       "</style>\n",
       "<table border=\"1\" class=\"dataframe\">\n",
       "  <thead>\n",
       "    <tr style=\"text-align: right;\">\n",
       "      <th></th>\n",
       "      <th>title</th>\n",
       "      <th>text</th>\n",
       "      <th>club</th>\n",
       "      <th>data</th>\n",
       "    </tr>\n",
       "  </thead>\n",
       "  <tbody>\n",
       "    <tr>\n",
       "      <th>0</th>\n",
       "      <td>Convocados do Uruguai para a Copa do Mundo 202...</td>\n",
       "      <td>O técnico Diego Alonso divulgou a lista dos 2...</td>\n",
       "      <td>athletico-pr</td>\n",
       "      <td>Convocados do Uruguai para a Copa do Mundo 202...</td>\n",
       "    </tr>\n",
       "    <tr>\n",
       "      <th>1</th>\n",
       "      <td>Conmebol divulga tabela detalhada da pré e da ...</td>\n",
       "      <td>Argentinos são destaques no caminho dos brasi...</td>\n",
       "      <td>athletico-pr</td>\n",
       "      <td>Conmebol divulga tabela detalhada da pré e da ...</td>\n",
       "    </tr>\n",
       "    <tr>\n",
       "      <th>2</th>\n",
       "      <td>Com assistência, Demethryus recebe elogios no ...</td>\n",
       "      <td>O meia Demethryus conseguiu aproveitar bem a ...</td>\n",
       "      <td>athletico-pr</td>\n",
       "      <td>Com assistência, Demethryus recebe elogios no ...</td>\n",
       "    </tr>\n",
       "    <tr>\n",
       "      <th>3</th>\n",
       "      <td>Athletico confirma fim de contrato com Welling...</td>\n",
       "      <td>A reportagem do ge já havia adiantado que as ...</td>\n",
       "      <td>athletico-pr</td>\n",
       "      <td>Athletico confirma fim de contrato com Welling...</td>\n",
       "    </tr>\n",
       "    <tr>\n",
       "      <th>4</th>\n",
       "      <td>Alô, cartoleiros! Atlético-PR passa limpo cont...</td>\n",
       "      <td>O atacante Marcelo Cirino, desfalque já nos ú...</td>\n",
       "      <td>athletico-pr</td>\n",
       "      <td>Alô, cartoleiros! Atlético-PR passa limpo cont...</td>\n",
       "    </tr>\n",
       "  </tbody>\n",
       "</table>\n",
       "</div>"
      ],
      "text/plain": [
       "                                               title  \\\n",
       "0  Convocados do Uruguai para a Copa do Mundo 202...   \n",
       "1  Conmebol divulga tabela detalhada da pré e da ...   \n",
       "2  Com assistência, Demethryus recebe elogios no ...   \n",
       "3  Athletico confirma fim de contrato com Welling...   \n",
       "4  Alô, cartoleiros! Atlético-PR passa limpo cont...   \n",
       "\n",
       "                                                text          club  \\\n",
       "0   O técnico Diego Alonso divulgou a lista dos 2...  athletico-pr   \n",
       "1   Argentinos são destaques no caminho dos brasi...  athletico-pr   \n",
       "2   O meia Demethryus conseguiu aproveitar bem a ...  athletico-pr   \n",
       "3   A reportagem do ge já havia adiantado que as ...  athletico-pr   \n",
       "4   O atacante Marcelo Cirino, desfalque já nos ú...  athletico-pr   \n",
       "\n",
       "                                                data  \n",
       "0  Convocados do Uruguai para a Copa do Mundo 202...  \n",
       "1  Conmebol divulga tabela detalhada da pré e da ...  \n",
       "2  Com assistência, Demethryus recebe elogios no ...  \n",
       "3  Athletico confirma fim de contrato com Welling...  \n",
       "4  Alô, cartoleiros! Atlético-PR passa limpo cont...  "
      ]
     },
     "execution_count": 6,
     "metadata": {},
     "output_type": "execute_result"
    }
   ],
   "source": [
    "df.head()"
   ]
  },
  {
   "cell_type": "code",
   "execution_count": 7,
   "id": "389e2ace",
   "metadata": {},
   "outputs": [],
   "source": [
    "from sklearn.preprocessing import LabelEncoder\n",
    "\n",
    "# Cria um objeto LabelEncoder\n",
    "le = LabelEncoder()\n",
    "\n",
    "# Treinando o codificador de rótulos, transformando o nome do clube em um identificador numérico\n",
    "df['label'] = le.fit_transform(df['club'])"
   ]
  },
  {
   "cell_type": "code",
   "execution_count": null,
   "id": "e9ef6304",
   "metadata": {},
   "outputs": [],
   "source": [
    "df['club'].unique(), df['label'].unique()"
   ]
  },
  {
   "cell_type": "code",
   "execution_count": 8,
   "id": "5e04bd12",
   "metadata": {},
   "outputs": [],
   "source": [
    "# Removendo as colunas originais, não precisamos mais delas\n",
    "column_indices = [0, 1, 2]\n",
    "df.drop([df.columns[i] for i in column_indices], axis=1, inplace=True)"
   ]
  },
  {
   "cell_type": "code",
   "execution_count": 9,
   "id": "6c41ada1",
   "metadata": {},
   "outputs": [
    {
     "data": {
      "text/html": [
       "<div>\n",
       "<style scoped>\n",
       "    .dataframe tbody tr th:only-of-type {\n",
       "        vertical-align: middle;\n",
       "    }\n",
       "\n",
       "    .dataframe tbody tr th {\n",
       "        vertical-align: top;\n",
       "    }\n",
       "\n",
       "    .dataframe thead th {\n",
       "        text-align: right;\n",
       "    }\n",
       "</style>\n",
       "<table border=\"1\" class=\"dataframe\">\n",
       "  <thead>\n",
       "    <tr style=\"text-align: right;\">\n",
       "      <th></th>\n",
       "      <th>data</th>\n",
       "      <th>label</th>\n",
       "    </tr>\n",
       "  </thead>\n",
       "  <tbody>\n",
       "    <tr>\n",
       "      <th>0</th>\n",
       "      <td>Convocados do Uruguai para a Copa do Mundo 202...</td>\n",
       "      <td>0</td>\n",
       "    </tr>\n",
       "    <tr>\n",
       "      <th>1</th>\n",
       "      <td>Conmebol divulga tabela detalhada da pré e da ...</td>\n",
       "      <td>0</td>\n",
       "    </tr>\n",
       "    <tr>\n",
       "      <th>2</th>\n",
       "      <td>Com assistência, Demethryus recebe elogios no ...</td>\n",
       "      <td>0</td>\n",
       "    </tr>\n",
       "    <tr>\n",
       "      <th>3</th>\n",
       "      <td>Athletico confirma fim de contrato com Welling...</td>\n",
       "      <td>0</td>\n",
       "    </tr>\n",
       "    <tr>\n",
       "      <th>4</th>\n",
       "      <td>Alô, cartoleiros! Atlético-PR passa limpo cont...</td>\n",
       "      <td>0</td>\n",
       "    </tr>\n",
       "  </tbody>\n",
       "</table>\n",
       "</div>"
      ],
      "text/plain": [
       "                                                data  label\n",
       "0  Convocados do Uruguai para a Copa do Mundo 202...      0\n",
       "1  Conmebol divulga tabela detalhada da pré e da ...      0\n",
       "2  Com assistência, Demethryus recebe elogios no ...      0\n",
       "3  Athletico confirma fim de contrato com Welling...      0\n",
       "4  Alô, cartoleiros! Atlético-PR passa limpo cont...      0"
      ]
     },
     "execution_count": 9,
     "metadata": {},
     "output_type": "execute_result"
    }
   ],
   "source": [
    "df.head()"
   ]
  },
  {
   "cell_type": "code",
   "execution_count": 10,
   "id": "13a347bd",
   "metadata": {},
   "outputs": [
    {
     "data": {
      "image/png": "[encoded data removed]",
      "text/plain": [
       "<Figure size 1200x600 with 1 Axes>"
      ]
     },
     "metadata": {},
     "output_type": "display_data"
    }
   ],
   "source": [
    "import pandas as pd\n",
    "import matplotlib.pyplot as plt\n",
    "\n",
    "# Conta quantos elementos (notícias) temos para cada categoria\n",
    "category_counts = df['label'].value_counts()\n",
    "\n",
    "# Plota a distribuição das categorias\n",
    "plt.figure(figsize=(12, 6))\n",
    "category_counts.plot(kind='bar')\n",
    "plt.xlabel('Categories')\n",
    "plt.ylabel('Number of Articles')\n",
    "plt.title('Distribution of Categories in the Dataset')\n",
    "plt.show()"
   ]
  },
  {
   "cell_type": "markdown",
   "id": "b67b64c5",
   "metadata": {},
   "source": [
    "# Pré-processamento"
   ]
  },
  {
   "cell_type": "code",
   "execution_count": 12,
   "id": "4ea6c46b",
   "metadata": {},
   "outputs": [
    {
     "name": "stdout",
     "output_type": "stream",
     "text": [
      "Removendo pontuação...\n"
     ]
    },
    {
     "name": "stderr",
     "output_type": "stream",
     "text": [
      "100%|███████████████████████████████████████████████████████████████████████████████████████████████████████████████████| 191005/191005 [00:24<00:00, 7761.57it/s]\n"
     ]
    },
    {
     "name": "stdout",
     "output_type": "stream",
     "text": [
      "Aplicando tokenização...\n"
     ]
    },
    {
     "name": "stderr",
     "output_type": "stream",
     "text": [
      "100%|███████████████████████████████████████████████████████████████████████████████████████████████████████████████████| 191005/191005 [02:41<00:00, 1185.53it/s]\n"
     ]
    },
    {
     "name": "stdout",
     "output_type": "stream",
     "text": [
      "Removendo stopwords...\n"
     ]
    },
    {
     "name": "stderr",
     "output_type": "stream",
     "text": [
      "100%|██████████████████████████████████████████████████████████████████████████████████████████████████████████████████| 191005/191005 [00:07<00:00, 26689.10it/s]\n"
     ]
    },
    {
     "name": "stdout",
     "output_type": "stream",
     "text": [
      "Computando Lematização...\n"
     ]
    },
    {
     "name": "stderr",
     "output_type": "stream",
     "text": [
      "100%|████████████████████████████████████████████████████████████████████████████████████████████████████████████████████| 191005/191005 [28:07<00:00, 113.16it/s]\n"
     ]
    }
   ],
   "source": [
    "import string\n",
    "import spacy\n",
    "import unicodedata\n",
    "from tqdm import tqdm\n",
    "import pandas as pd\n",
    "import numpy as np\n",
    "\n",
    "# Habilita o suporte do tqdm para métodos de progressão do pandas (como progress_apply)\n",
    "# Com isso, é possível ver barras de progresso em operções feitas no Pandas\n",
    "tqdm.pandas()\n",
    "\n",
    "# Carrega o modelo de linguagem 'pt_core_news_lg' do spaCy para processamento de texto em português\n",
    "# Desabilita os componentes 'parser' e 'ner', já que não são necessários para a lematização\n",
    "spacy_nlp_model = spacy.load(\"pt_core_news_lg\", disable=[\"parser\", \"ner\"])\n",
    "\n",
    "def preprocess_data(df, text_column):\n",
    "    \"\"\"\n",
    "    Realiza o pré-processamento dos dados de texto em um DataFrame do Pandas.\n",
    "    Remove pontuação, números e palavras comuns (stop words), converte para mínusculas, \n",
    "    remove acentos e símbolos diversos, e aplica lematização.\n",
    "    \"\"\"\n",
    "    \n",
    "    # Cria uma tabela de tradução que mapeia cada caractere de pontuação do módulo `string.punctuation` \n",
    "    # para `None` (ou seja, remove-os do texto).\n",
    "    print(\"Removendo pontuação...\")\n",
    "    translator = str.maketrans('', '', string.punctuation) # Só usamos o terceiro parâmetro, que mapeia ocorrências de string.punctuation para None\n",
    "    df[text_column] = df[text_column].progress_apply(lambda x: x.translate(translator))\n",
    "    \n",
    "    print(\"Removendo números...\")\n",
    "    translator = str.maketrans('', '', string.digits)\n",
    "    df[text_column] = df[text_column].progress_apply(lambda x: x.translate(translator))\n",
    "    \n",
    "    print(\"Removendo acentos e símbolos diversos...\")\n",
    "    def remove_accents_and_symbols(text):\n",
    "        try:\n",
    "            # Normaliza a string para a forma NFKD e mantém apenas caracteres que não são diacríticos\n",
    "            # nem combinam caracteres com diacríticos\n",
    "            return ''.join(c for c in unicodedata.normalize('NFKD', text) \n",
    "                           if not unicodedata.combining(c) and unicodedata.category(c) != 'Mn')\n",
    "        except TypeError:\n",
    "            # Se não for possível normalizar um caractere, retorna uma string vazia\n",
    "            return ''\n",
    "\n",
    "    # Aplica a função 'remove_accents_and_symbols' na coluna 'text_column'\n",
    "    df[text_column] = df[text_column].progress_apply(lambda x: remove_accents_and_symbols(x))\n",
    "    \n",
    "    print(\"Convertendo para minúsculas...\")\n",
    "    df[text_column] = df[text_column].progress_apply(lambda x: x.lower())\n",
    "\n",
    "    print(\"Computando Lematização...\")\n",
    "    def lemmatize_text(doc):\n",
    "        return [token.lemma_ for token in doc if not token.is_stop]\n",
    "\n",
    "    n_chunks = 10  # Ajuste esse valor de acordo com o tamanho da base de dados e a memória disponível no sistema\n",
    "    chunks = np.array_split(df, n_chunks) # Divide o dataframe em várias partes\n",
    "\n",
    "    processed_chunks = []\n",
    "    for i, chunk in enumerate(chunks):\n",
    "        print(f\"Processando segmento {i + 1} de {n_chunks}\")\n",
    "        processed_chunk = chunk.copy() # Cria uma cópia para realizar o processamento\n",
    "        \n",
    "        #  Aplica a função 'lemmatize_text' a cada documento processado pelo spaCy (usando 'spacy_nlp_model.pipe') e\n",
    "        # atribui os resultados (uma lista de palavras lematizadas) à coluna 'text_column' do DataFrame 'processed_chunk'.\n",
    "        # O tqdm é utilizado para exibir uma barra de progresso durante o processamento dos documentos.\n",
    "        processed_chunk[text_column] = [lemmatize_text(doc) for doc in tqdm(spacy_nlp_model.pipe(chunk[text_column].astype(str), batch_size=100, disable=['parser', 'ner']), total=len(chunk[text_column]))]\n",
    "\n",
    "        # Junta as partes em uma lista, para formar o dataframe final\n",
    "        processed_chunks.append(processed_chunk)\n",
    "\n",
    "    concatenated_df = pd.concat(processed_chunks) # Concatenar os DataFrames processados\n",
    "    df[text_column] = concatenated_df[text_column] # Atribuir a coluna 'data' processada de volta ao dataframe original\n",
    "    \n",
    "    print(\"Remover tokens com espaços vazios...\")\n",
    "    df['data'] = df['data'].progress_apply(lambda x: [token for token in x if token.strip()])"
   ]
  },
  {
   "cell_type": "code",
   "execution_count": null,
   "id": "3631cd8d",
   "metadata": {},
   "outputs": [],
   "source": [
    "preprocess_data(df, 'data') # Realiza o pré-processamento"
   ]
  },
  {
   "cell_type": "code",
   "execution_count": 1,
   "id": "72e0c6ac",
   "metadata": {
    "scrolled": true
   },
   "outputs": [
    {
     "ename": "NameError",
     "evalue": "name 'df' is not defined",
     "output_type": "error",
     "traceback": [
      "\u001b[0;31m---------------------------------------------------------------------------\u001b[0m",
      "\u001b[0;31mNameError\u001b[0m                                 Traceback (most recent call last)",
      "Cell \u001b[0;32mIn[1], line 2\u001b[0m\n\u001b[1;32m      1\u001b[0m \u001b[38;5;66;03m# Salvar em formato pickle\u001b[39;00m\n\u001b[0;32m----> 2\u001b[0m \u001b[43mdf\u001b[49m\u001b[38;5;241m.\u001b[39mto_pickle(\u001b[38;5;124m\"\u001b[39m\u001b[38;5;124mge.pkl\u001b[39m\u001b[38;5;124m\"\u001b[39m)\n\u001b[1;32m      4\u001b[0m df\n",
      "\u001b[0;31mNameError\u001b[0m: name 'df' is not defined"
     ]
    }
   ],
   "source": [
    "# Salvar em formato pickle\n",
    "df.to_pickle(\"ge_df.pkl\")"
   ]
  },
  {
   "cell_type": "code",
   "execution_count": 1,
   "id": "942bea8d",
   "metadata": {},
   "outputs": [],
   "source": [
    "import pandas as pd\n",
    "\n",
    "# Carregar dataframe salvo em formato pickle\n",
    "df = pd.read_pickle(\"ge_df.pkl\")"
   ]
  },
  {
   "cell_type": "markdown",
   "id": "479c5d8f",
   "metadata": {},
   "source": [
    "# Treinando modelo Word2Vec\n",
    "\n",
    "## Definição\n",
    "\n",
    "O Word2Vec é um algoritmo de aprendizado de máquina não supervisionado que tem como objetivo aprender representações vetoriais (também conhecidas como incorporações ou embeddings) para palavras em um texto. Essas representações vetoriais capturam informações semânticas e sintáticas sobre as palavras e permitem que elas sejam usadas em tarefas de Processamento de Linguagem Natural (PLN), como análise de sentimentos, agrupamento de documentos, classificação de texto e detecção de similaridade entre palavras.\n",
    "\n",
    "O Word2Vec foi desenvolvido por Tomas Mikolov e sua equipe no Google e é baseado em duas arquiteturas diferentes: Continuous Bag-of-Words (CBOW) e Skip-Gram. Ambas as arquiteturas usam redes neurais de uma única camada oculta para aprender as representações vetoriais das palavras.\n",
    "\n",
    "## Tipos de Word2Vec\n",
    "### Continuous Bag-of-Words (CBOW)\n",
    "\n",
    "No CBOW, o modelo tenta prever uma palavra com base no contexto em que ela aparece. O contexto é representado como um conjunto de palavras vizinhas (palavras antes e depois da palavra alvo). O objetivo do treinamento é aprender os pesos da rede neural de forma que, dado o contexto, o modelo seja capaz de prever a palavra alvo com a maior probabilidade possível.\n",
    "\n",
    "### Skip-Gram\n",
    "\n",
    "No Skip-Gram, a abordagem é invertida em comparação com o CBOW. O modelo tenta prever o contexto (palavras vizinhas) a partir de uma palavra alvo. Durante o treinamento, o modelo aprende os pesos da rede neural de forma que, dada uma palavra alvo, ele possa prever as palavras no contexto com a maior probabilidade possível.\n",
    "\n",
    "## Exemplos\n",
    "\n",
    "Vamos supor que temos a seguinte frase: \"O gato pulou sobre o cachorro\". Com um tamanho de janela de contexto de 2 (uma palavra antes e uma depois), o Word2Vec geraria os seguintes pares de treinamento para a arquitetura CBOW:\n",
    "\n",
    "    ([O, pulou], gato)\n",
    "    ([gato, sobre], pulou)\n",
    "    ([pulou, o], sobre)\n",
    "    ([sobre, cachorro], o)\n",
    "\n",
    "E para a arquitetura Skip-Gram:\n",
    "\n",
    "    (gato, O)\n",
    "    (gato, pulou)\n",
    "    (pulou, gato)\n",
    "    (pulou, sobre)\n",
    "    (sobre, pulou)\n",
    "    (sobre, o)\n",
    "\n",
    "Ao treinar o modelo Word2Vec nessas arquiteturas, obtemos representações vetoriais das palavras que preservam a semântica e a sintaxe. Por exemplo, palavras semanticamente semelhantes, como \"gato\" e \"cachorro\", terão representações vetoriais próximas, no espaço vetorial."
   ]
  },
  {
   "cell_type": "code",
   "execution_count": 2,
   "id": "2bb15c8a",
   "metadata": {},
   "outputs": [],
   "source": [
    "# Importar a classe Word2Vec da biblioteca gensim, que permite criar e treinar modelos de \n",
    "# incorporação de palavras (word embeddings) usando o algoritmo Word2Vec\n",
    "from gensim.models import Word2Vec\n",
    "\n",
    "# Importar a classe CallbackAny2Vec da biblioteca gensim, que fornece uma base para criar funções de \n",
    "# retorno de chamada (callbacks) personalizadas \n",
    "# durante o treinamento de modelos Word2Vec (ou outros modelos baseados em Any2Vec)\n",
    "from gensim.models.callbacks import CallbackAny2Vec"
   ]
  },
  {
   "cell_type": "code",
   "execution_count": 3,
   "id": "1c60aac8",
   "metadata": {},
   "outputs": [],
   "source": [
    "class SimpleTextCallback(CallbackAny2Vec):\n",
    "    def __init__(self, total_epochs):\n",
    "        self.epoch = 0  # Inicializa o contador de épocas\n",
    "        self.total_epochs = total_epochs  # Armazena o número total de épocas para exibição\n",
    "\n",
    "    def on_epoch_end(self, model):\n",
    "        self.epoch += 1  # Incrementa o contador de épocas\n",
    "        print(f\"Época {self.epoch} de {self.total_epochs}...\") \n",
    "        # Imprime uma mensagem informando o número da época atual e o total de épocas"
   ]
  },
  {
   "cell_type": "code",
   "execution_count": 4,
   "id": "459e1e34",
   "metadata": {},
   "outputs": [],
   "source": [
    "# Converte a coluna 'data' do DataFrame em uma lista e armazena na variável preprocessed_articles, \n",
    "# para ser usada no word2vec\n",
    "preprocessed_articles = df['data'].tolist()"
   ]
  },
  {
   "cell_type": "code",
   "execution_count": 22,
   "id": "57b48c11",
   "metadata": {},
   "outputs": [
    {
     "name": "stdout",
     "output_type": "stream",
     "text": [
      "Epoch 1 of 10 completed.\n",
      "Epoch 2 of 10 completed.\n",
      "Epoch 3 of 10 completed.\n",
      "Epoch 4 of 10 completed.\n",
      "Epoch 5 of 10 completed.\n",
      "Epoch 6 of 10 completed.\n",
      "Epoch 7 of 10 completed.\n",
      "Epoch 8 of 10 completed.\n",
      "Epoch 9 of 10 completed.\n",
      "Epoch 10 of 10 completed.\n"
     ]
    },
    {
     "data": {
      "text/plain": [
       "(445940014, 455234750)"
      ]
     },
     "execution_count": 22,
     "metadata": {},
     "output_type": "execute_result"
    }
   ],
   "source": [
    "# Instancia o modelo Word2Vec com os seguintes parâmetros:\n",
    "# vector_size=100: Dimensão do vetor de palavras gerado\n",
    "# window=5: Tamanho da janela de contexto ao redor de cada palavra\n",
    "# min_count=1: Ignora palavras com frequência total menor que 1\n",
    "# workers=4: Número de threads a serem usadas para treinar o modelo\n",
    "word2vec_model = Word2Vec(vector_size=100, window=5, min_count=1, workers=4) \n",
    "#Se adicionar sg=0, muda pra CBOW\n",
    "\n",
    "# Constrói o vocabulário com base nos artigos pré-processados\n",
    "word2vec_model.build_vocab(preprocessed_articles)\n",
    "\n",
    "# Define o número total de épocas para o treinamento do modelo\n",
    "total_epochs = 10\n",
    "\n",
    "# Instancia o callback que exibe o progresso do treinamento após cada época\n",
    "callback = SimpleTextCallback(total_epochs)\n",
    "\n",
    "# Treina o modelo Word2Vec nos artigos pré-processados, utilizando o número total de exemplos e \n",
    "# épocas definidos\n",
    "word2vec_model.train(preprocessed_articles, total_examples=word2vec_model.corpus_count, \n",
    "                     epochs=total_epochs, callbacks=[callback])"
   ]
  },
  {
   "cell_type": "code",
   "execution_count": null,
   "id": "637aee13",
   "metadata": {},
   "outputs": [],
   "source": [
    "# Salva o modelo Word2Vec para um arquivo\n",
    "word2vec_model.save(\"word2vec_model.model\")"
   ]
  },
  {
   "cell_type": "code",
   "execution_count": 5,
   "id": "f93908b2",
   "metadata": {},
   "outputs": [],
   "source": [
    "from gensim.models import Word2Vec\n",
    "\n",
    "# Carrega o modelo Word2Vec para um arquivo\n",
    "word2vec_model = Word2Vec.load(\"word2vec_model.model\")"
   ]
  },
  {
   "cell_type": "code",
   "execution_count": 6,
   "id": "0b433193",
   "metadata": {},
   "outputs": [
    {
     "data": {
      "text/plain": [
       "[('fluminense', 0.8631806373596191),\n",
       " ('palmeira', 0.7947038412094116),\n",
       " ('atleticomg', 0.7925401329994202),\n",
       " ('gremio', 0.7683544754981995),\n",
       " ('botafogo', 0.756887674331665),\n",
       " ('vasco', 0.7453044056892395),\n",
       " ('corinthians', 0.7275006175041199),\n",
       " ('corinthian', 0.7189180850982666),\n",
       " ('internacional', 0.7003942728042603),\n",
       " ('Vasco', 0.6960463523864746)]"
      ]
     },
     "execution_count": 6,
     "metadata": {},
     "output_type": "execute_result"
    }
   ],
   "source": [
    "# Encontra palavras mais similares de acordo com a palavra alvo\n",
    "word2vec_model.wv.most_similar('flamengo')"
   ]
  },
  {
   "cell_type": "code",
   "execution_count": 7,
   "id": "f672fdbd",
   "metadata": {},
   "outputs": [],
   "source": [
    "# Cria dois dicionários para mapear as palavras aos seus respectivos índices e vice-versa.\n",
    "# Isso é feito para facilitar a conversão entre palavras e índices durante a criação de sequências\n",
    "# numéricas que representam os textos. Essas sequências numéricas serão usadas como entrada para\n",
    "# modelos de aprendizado de máquina, como redes neurais.\n",
    "# Exemplo: \n",
    "# Suponha que o vocabulário seja ['casa', 'carro', 'jardim'], então os dicionários serão:\n",
    "# word_to_index = {'casa': 1, 'carro': 2, 'jardim': 3}\n",
    "# index_to_word = {1: 'casa', 2: 'carro', 3: 'jardim'}\n",
    "\n",
    "# 'word_to_index' é um dicionário que mapeia cada palavra ao seu índice correspondente.\n",
    "word_to_index = {}\n",
    "\n",
    "# 'index_to_word' é um dicionário que mapeia cada índice à palavra correspondente.\n",
    "index_to_word = {}\n",
    "\n",
    "# Itera sobre a lista de palavras únicas obtida do modelo Word2Vec\n",
    "for i, word in enumerate(word2vec_model.wv.index_to_key):\n",
    "    # Atribui a palavra ao índice i + 1 no dicionário 'word_to_index'.\n",
    "    # Os índices começam em 1 para reservar o índice 0 para preenchimento (padding) quando necessário.\n",
    "    word_to_index[word] = i + 1\n",
    "    \n",
    "    # Atribui o índice i + 1 à palavra no dicionário 'index_to_word'.\n",
    "    index_to_word[i + 1] = word"
   ]
  },
  {
   "cell_type": "code",
   "execution_count": 8,
   "id": "d6ffe380",
   "metadata": {
    "scrolled": false
   },
   "outputs": [
    {
     "name": "stderr",
     "output_type": "stream",
     "text": [
      "100%|████████████████████████████████| 191005/191005 [00:08<00:00, 21676.08it/s]\n"
     ]
    }
   ],
   "source": [
    "from tqdm import tqdm\n",
    "\n",
    "# 'sequences' é uma lista que armazenará as sequências numéricas correspondentes aos artigos\n",
    "# pré-processados.\n",
    "sequences = []\n",
    "\n",
    "# Itera sobre os artigos pré-processados.\n",
    "for tokens in tqdm(preprocessed_articles):\n",
    "    # 'sequence' é uma lista temporária que armazenará a sequência numérica para o artigo atual.\n",
    "    sequence = []\n",
    "    \n",
    "    # Itera sobre os tokens (palavras) no artigo atual.\n",
    "    for token in tokens:\n",
    "        # Verifica se o token atual está presente no dicionário 'word_to_index'.\n",
    "        if token in word_to_index:\n",
    "            # Se o token estiver presente, adiciona o índice correspondente à lista 'sequence'.\n",
    "            sequence.append(word_to_index[token])\n",
    "    \n",
    "    # Após processar todos os tokens do artigo atual, adiciona a sequência numérica completa à lista 'sequences'.\n",
    "    sequences.append(sequence)"
   ]
  },
  {
   "cell_type": "code",
   "execution_count": 9,
   "id": "dc88873c",
   "metadata": {},
   "outputs": [
    {
     "name": "stdout",
     "output_type": "stream",
     "text": [
      "convocar uruguai copa mundo lista tecnico diego Alonso divulgar lista convocar uruguai copa mundo idolo veterano atacante cavani suarez puxar elenco celeste arrascaeta flamengo jovem valverde Real Madrid darwin nunez Liverpool simbolo renovacao Alonso optar manter zagueiro ronald Araujo Barcelona lista defensor recuperar lesao coxa nao jogar setembro expectativa inicial so poder voltar jogar anuncio convocar uruguai copa mundo alem arrascaeta jogador atuar Brasil chamar diego Alonso lateral varela flamengo atacante canobbio Athleticopr conhecer torcida brasileiro tambem estao lista veterano zagueiro diego Godin exatleticomg atualmente velez sarsfield lateral Matias vina expalmeir atualmente Roma uruguai terminar preparacao copa mundo abu dhabi emirado Arabes delegacao desembarcar quintafeira ida catar ocorrer proximo dia celeste h copa Portugal coreia Sul ganar estreia sulcoreano dia estadio cidade educacao Luis suarez Arrascaeta Sergio rochet estao lista uruguai — fotor divulgacao\n"
     ]
    }
   ],
   "source": [
    "# Utiliza uma compreensão de lista para converter a sequência numérica do primeiro artigo em uma lista \n",
    "# de palavras.\n",
    "# Para cada índice 'i' na sequência numérica 'sequences[0]', obtém a palavra correspondente no \n",
    "# dicionário 'index_to_word'.\n",
    "# A compreensão de lista retorna uma lista de palavras.\n",
    "word_list = [index_to_word[i] for i in sequences[0]]\n",
    "\n",
    "# Usa o método 'join()' para combinar as palavras da lista 'word_list' em uma única string.\n",
    "# As palavras são separadas por um espaço em branco.\n",
    "text = \" \".join(word_list)\n",
    "\n",
    "# Imprime o texto reconstruído a partir da sequência numérica.\n",
    "print(text)"
   ]
  },
  {
   "cell_type": "code",
   "execution_count": 10,
   "id": "c75614eb",
   "metadata": {},
   "outputs": [
    {
     "name": "stdout",
     "output_type": "stream",
     "text": [
      "Mean sequence length:  207.9075155100652\n",
      "Maximum sequence length:  4967\n"
     ]
    }
   ],
   "source": [
    "import numpy as np\n",
    "\n",
    "# Calcula o comprimento de cada sequência em 'sequences' e armazena os resultados na lista \n",
    "# 'sequence_lengths'\n",
    "sequence_lengths = [len(seq) for seq in sequences]\n",
    "\n",
    "# Calcula a média dos comprimentos das sequências usando a função 'mean' do numpy\n",
    "mean_length = np.mean(sequence_lengths)\n",
    "\n",
    "# Obtém o comprimento máximo das sequências usando a função 'max' do Python\n",
    "max_length = max(sequence_lengths)\n",
    "\n",
    "# Imprime a média e o comprimento máximo das sequências\n",
    "print(\"Mean sequence length: \", mean_length)\n",
    "print(\"Maximum sequence length: \", max_length)"
   ]
  },
  {
   "cell_type": "code",
   "execution_count": 11,
   "id": "8ab7d458",
   "metadata": {},
   "outputs": [
    {
     "name": "stderr",
     "output_type": "stream",
     "text": [
      "2023-04-03 18:25:54.504117: I tensorflow/core/platform/cpu_feature_guard.cc:193] This TensorFlow binary is optimized with oneAPI Deep Neural Network Library (oneDNN) to use the following CPU instructions in performance-critical operations:  AVX2 FMA\n",
      "To enable them in other operations, rebuild TensorFlow with the appropriate compiler flags.\n",
      "2023-04-03 18:25:55.477727: W tensorflow/compiler/xla/stream_executor/platform/default/dso_loader.cc:64] Could not load dynamic library 'libnvinfer.so.7'; dlerror: libnvinfer.so.7: cannot open shared object file: No such file or directory; LD_LIBRARY_PATH: :/home/lucas/miniconda3/envs/tf/lib/\n",
      "2023-04-03 18:25:55.477814: W tensorflow/compiler/xla/stream_executor/platform/default/dso_loader.cc:64] Could not load dynamic library 'libnvinfer_plugin.so.7'; dlerror: libnvinfer_plugin.so.7: cannot open shared object file: No such file or directory; LD_LIBRARY_PATH: :/home/lucas/miniconda3/envs/tf/lib/\n",
      "2023-04-03 18:25:55.477820: W tensorflow/compiler/tf2tensorrt/utils/py_utils.cc:38] TF-TRT Warning: Cannot dlopen some TensorRT libraries. If you would like to use Nvidia GPU with TensorRT, please make sure the missing libraries mentioned above are installed properly.\n"
     ]
    }
   ],
   "source": [
    "import numpy as np\n",
    "from tensorflow.keras.preprocessing.sequence import pad_sequences\n",
    "\n",
    "|---------------------------------------|\n",
    "0                   |                  100\n",
    "                    50\n",
    "# Calcula o percentil 95 dos comprimentos das sequências (preserva 95% das sequências)\n",
    "max_length = int(np.percentile(sequence_lengths, 95))\n",
    "\n",
    "# Realiza o preenchimento das sequências com base no novo 'max_length'\n",
    "padded_sequences = pad_sequences(sequences, maxlen=max_length, padding='post')"
   ]
  },
  {
   "cell_type": "code",
   "execution_count": 29,
   "id": "bbf394bb",
   "metadata": {},
   "outputs": [
    {
     "data": {
      "text/plain": [
       "21"
      ]
     },
     "execution_count": 29,
     "metadata": {},
     "output_type": "execute_result"
    }
   ],
   "source": [
    "df['label'].nunique() # Retorna o número de categorias únicas (classes) presentes na coluna 'label'"
   ]
  },
  {
   "cell_type": "code",
   "execution_count": 12,
   "id": "f7ce97f5",
   "metadata": {},
   "outputs": [],
   "source": [
    "import tensorflow.keras.utils as ku\n",
    "\n",
    "# Converte rótulos para one-hot encoding\n",
    "num_classes = df['label'].nunique()\n",
    "labels = ku.to_categorical(df['label'], num_classes)"
   ]
  },
  {
   "cell_type": "code",
   "execution_count": 31,
   "id": "22e8993e",
   "metadata": {},
   "outputs": [
    {
     "data": {
      "text/plain": [
       "array([[1., 0., 0., ..., 0., 0., 0.],\n",
       "       [1., 0., 0., ..., 0., 0., 0.],\n",
       "       [1., 0., 0., ..., 0., 0., 0.],\n",
       "       ...,\n",
       "       [0., 0., 0., ..., 0., 0., 0.],\n",
       "       [0., 0., 0., ..., 0., 0., 0.],\n",
       "       [0., 0., 0., ..., 0., 0., 0.]], dtype=float32)"
      ]
     },
     "execution_count": 31,
     "metadata": {},
     "output_type": "execute_result"
    }
   ],
   "source": [
    "labels"
   ]
  },
  {
   "cell_type": "code",
   "execution_count": 13,
   "id": "685a5668",
   "metadata": {},
   "outputs": [],
   "source": [
    "from sklearn.model_selection import train_test_split\n",
    "\n",
    "# Divida os dados em um conjunto de treino (70%) e um conjunto temporário (30%)\n",
    "X_train, X_temp, y_train, y_temp = train_test_split(padded_sequences, labels, test_size=0.3)\n",
    "\n",
    "# Divida o conjunto temporário em conjuntos de validação (15%) e teste (15%)\n",
    "X_val, X_test, y_val, y_test = train_test_split(X_temp, y_temp, test_size=0.5)  # 0.5 * 0.3 = 0.15"
   ]
  },
  {
   "cell_type": "markdown",
   "id": "c412f308",
   "metadata": {},
   "source": [
    "# Treinamento da BiLSTM"
   ]
  },
  {
   "cell_type": "code",
   "execution_count": 15,
   "id": "fb4e108c",
   "metadata": {},
   "outputs": [
    {
     "name": "stdout",
     "output_type": "stream",
     "text": [
      "Num GPUs:  1\n"
     ]
    }
   ],
   "source": [
    "import tensorflow as tf\n",
    "print(\"Num GPUs: \", len(tf.config.list_physical_devices('GPU')))"
   ]
  },
  {
   "cell_type": "markdown",
   "id": "2a33d549",
   "metadata": {},
   "source": [
    "## Tipos de LSTM que existem:\n",
    "\n",
    "### Vanilla LSTM:\n",
    "\n",
    "A LSTM (Long Short-Term Memory) Vanilla é o modelo mais simples de LSTM, sendo uma rede neural recorrente que é capaz de lidar com dependências temporais de longo prazo. Uma das principais vantagens da Vanilla LSTM é sua facilidade de implementação e interpretação, o que torna o modelo adequado para tarefas simples de processamento de linguagem natural. No entanto, ela pode ser limitada em tarefas mais complexas e em sequências muito longas, pois a rede pode sofrer de problemas envolvendo gradientes (desvanecimento ou explosão de gradientes).\n",
    "\n",
    "### Stacked LSTM\n",
    "\n",
    "A Stacked LSTM é uma extensão da Vanilla LSTM que permite a criação de redes neurais mais profundas, com duas ou mais camadas LSTM. Com isso, é possível extrair features mais complexas e capturar padrões mais sutis nos dados. A principal vantagem da Stacked LSTM é sua capacidade de lidar com tarefas de processamento de linguagem natural mais complexas, mas ela também pode sofrer de problemas ligados a gradientes.\n",
    "\n",
    "### BiLSTM\n",
    "\n",
    "A BiLSTM (Bidirectional LSTM) é um tipo de rede neural que usa duas LSTMs, uma que processa a sequência de entrada na ordem normal e outra que processa a sequência na ordem inversa. A principal vantagem da BiLSTM é que ela pode capturar informações contextuais tanto do passado quanto do futuro, o que é importante para muitas tarefas de processamento de linguagem natural, como a análise de sentimento e a identificação de entidades nomeadas. No entanto, a BiLSTM é computacionalmente mais complexa do que a Vanilla LSTM e a Stacked LSTM, o que pode tornar seu treinamento mais demorado e exigir mais recursos computacionais."
   ]
  },
  {
   "cell_type": "code",
   "execution_count": 17,
   "id": "996575d5",
   "metadata": {},
   "outputs": [
    {
     "name": "stderr",
     "output_type": "stream",
     "text": [
      "2023-04-03 18:26:41.913415: I tensorflow/core/platform/cpu_feature_guard.cc:193] This TensorFlow binary is optimized with oneAPI Deep Neural Network Library (oneDNN) to use the following CPU instructions in performance-critical operations:  AVX2 FMA\n",
      "To enable them in other operations, rebuild TensorFlow with the appropriate compiler flags.\n",
      "2023-04-03 18:26:41.915740: I tensorflow/compiler/xla/stream_executor/cuda/cuda_gpu_executor.cc:981] successful NUMA node read from SysFS had negative value (-1), but there must be at least one NUMA node, so returning NUMA node zero\n",
      "2023-04-03 18:26:41.916017: I tensorflow/compiler/xla/stream_executor/cuda/cuda_gpu_executor.cc:981] successful NUMA node read from SysFS had negative value (-1), but there must be at least one NUMA node, so returning NUMA node zero\n",
      "2023-04-03 18:26:41.916187: I tensorflow/compiler/xla/stream_executor/cuda/cuda_gpu_executor.cc:981] successful NUMA node read from SysFS had negative value (-1), but there must be at least one NUMA node, so returning NUMA node zero\n",
      "2023-04-03 18:26:45.217337: I tensorflow/compiler/xla/stream_executor/cuda/cuda_gpu_executor.cc:981] successful NUMA node read from SysFS had negative value (-1), but there must be at least one NUMA node, so returning NUMA node zero\n",
      "2023-04-03 18:26:45.219032: I tensorflow/compiler/xla/stream_executor/cuda/cuda_gpu_executor.cc:981] successful NUMA node read from SysFS had negative value (-1), but there must be at least one NUMA node, so returning NUMA node zero\n",
      "2023-04-03 18:26:45.219711: I tensorflow/compiler/xla/stream_executor/cuda/cuda_gpu_executor.cc:981] successful NUMA node read from SysFS had negative value (-1), but there must be at least one NUMA node, so returning NUMA node zero\n",
      "2023-04-03 18:26:45.220863: I tensorflow/core/common_runtime/gpu/gpu_device.cc:1613] Created device /job:localhost/replica:0/task:0/device:GPU:0 with 6964 MB memory:  -> device: 0, name: NVIDIA GeForce GTX 1070 Ti, pci bus id: 0000:01:00.0, compute capability: 6.1\n"
     ]
    },
    {
     "name": "stdout",
     "output_type": "stream",
     "text": [
      "Epoch 1/40\n"
     ]
    },
    {
     "name": "stderr",
     "output_type": "stream",
     "text": [
      "2023-04-03 18:26:47.449290: I tensorflow/compiler/xla/stream_executor/cuda/cuda_dnn.cc:428] Loaded cuDNN version 8100\n",
      "2023-04-03 18:26:47.968944: I tensorflow/compiler/xla/service/service.cc:173] XLA service 0x7fa82a115530 initialized for platform CUDA (this does not guarantee that XLA will be used). Devices:\n",
      "2023-04-03 18:26:47.968966: I tensorflow/compiler/xla/service/service.cc:181]   StreamExecutor device (0): NVIDIA GeForce GTX 1070 Ti, Compute Capability 6.1\n",
      "2023-04-03 18:26:47.984529: I tensorflow/compiler/mlir/tensorflow/utils/dump_mlir_util.cc:268] disabling MLIR crash reproducer, set env var `MLIR_CRASH_REPRODUCER_DIRECTORY` to enable.\n",
      "2023-04-03 18:26:48.169278: I tensorflow/compiler/jit/xla_compilation_cache.cc:477] Compiled cluster using XLA!  This line is logged at most once for the lifetime of the process.\n"
     ]
    },
    {
     "name": "stdout",
     "output_type": "stream",
     "text": [
      "2090/2090 [==============================] - 126s 59ms/step - loss: 2.9089 - accuracy: 0.0988 - val_loss: 2.8256 - val_accuracy: 0.1259\n",
      "Epoch 2/40\n",
      "2090/2090 [==============================] - 70s 33ms/step - loss: 2.0304 - accuracy: 0.3998 - val_loss: 0.9419 - val_accuracy: 0.7537\n",
      "Epoch 3/40\n",
      "2090/2090 [==============================] - 66s 32ms/step - loss: 0.7965 - accuracy: 0.7868 - val_loss: 0.7137 - val_accuracy: 0.7989\n",
      "Epoch 4/40\n",
      "2090/2090 [==============================] - 64s 31ms/step - loss: 0.6474 - accuracy: 0.8149 - val_loss: 0.6877 - val_accuracy: 0.8008\n",
      "Epoch 5/40\n",
      "2090/2090 [==============================] - 62s 30ms/step - loss: 0.5830 - accuracy: 0.8262 - val_loss: 0.6788 - val_accuracy: 0.7998\n",
      "Epoch 6/40\n",
      "2090/2090 [==============================] - 62s 30ms/step - loss: 0.5293 - accuracy: 0.8354 - val_loss: 0.6897 - val_accuracy: 0.7949\n",
      "Epoch 7/40\n",
      "2090/2090 [==============================] - 62s 30ms/step - loss: 0.4902 - accuracy: 0.8429 - val_loss: 0.7142 - val_accuracy: 0.7918\n",
      "Epoch 8/40\n",
      "2090/2090 [==============================] - 62s 30ms/step - loss: 0.4591 - accuracy: 0.8495 - val_loss: 0.7354 - val_accuracy: 0.7882\n",
      "Epoch 9/40\n",
      "2090/2090 [==============================] - 62s 29ms/step - loss: 0.4341 - accuracy: 0.8542 - val_loss: 0.7384 - val_accuracy: 0.7865\n",
      "Epoch 10/40\n",
      "2090/2090 [==============================] - 61s 29ms/step - loss: 0.4114 - accuracy: 0.8571 - val_loss: 0.7726 - val_accuracy: 0.7829\n"
     ]
    }
   ],
   "source": [
    "from tensorflow.keras.models import Sequential\n",
    "from tensorflow.keras.layers import Embedding, LSTM, Dense\n",
    "from tensorflow.keras.callbacks import EarlyStopping\n",
    "\n",
    "# Cria modelo LSTM\n",
    "model = Sequential()\n",
    "model.add(Embedding(input_dim=len(word2vec_model.wv.key_to_index) + 1, \n",
    "                    output_dim=word2vec_model.vector_size, input_length=max_length))\n",
    "model.add(LSTM(units=128))\n",
    "model.add(Dense(units=len(labels[0]), activation='softmax'))\n",
    "\n",
    "# Chamada ao Early Stopping\n",
    "early_stopping = EarlyStopping(monitor='val_loss', patience=5)\n",
    "\n",
    "# Compila modelo\n",
    "model.compile(loss='categorical_crossentropy', optimizer='adam', metrics=['accuracy'])\n",
    "\n",
    "# Treina modelo\n",
    "history = model.fit(X_train, y_train, epochs=40, batch_size=64, validation_data=(X_val, y_val), \n",
    "                    callbacks=[early_stopping], verbose=1)"
   ]
  },
  {
   "cell_type": "code",
   "execution_count": 18,
   "id": "ee783855",
   "metadata": {},
   "outputs": [
    {
     "data": {
      "image/png": "[encoded data removed]",
      "text/plain": [
       "<Figure size 640x480 with 1 Axes>"
      ]
     },
     "metadata": {},
     "output_type": "display_data"
    }
   ],
   "source": [
    "import matplotlib.pyplot as plt\n",
    "\n",
    "# Plota a perda (loss) e a perda de validação (val_loss) durante o treinamento\n",
    "plt.plot(history.history['loss'], label='Training Loss')\n",
    "plt.plot(history.history['val_loss'], label='Validation Loss')\n",
    "plt.title('Loss and Validation Loss')\n",
    "plt.xlabel('Epoch')\n",
    "plt.ylabel('Loss')\n",
    "plt.legend()\n",
    "plt.show()"
   ]
  },
  {
   "cell_type": "code",
   "execution_count": 19,
   "id": "56470378",
   "metadata": {},
   "outputs": [],
   "source": [
    "# Salva arquivos em discos que podemos carregar sem treinar a rede neural novamente\n",
    "model.save('ge_LSTM.h5')\n",
    "np.save(\"X_test_LSTM.npy\", X_test)\n",
    "np.save(\"y_test_LSTM.npy\", y_test)"
   ]
  },
  {
   "cell_type": "code",
   "execution_count": 20,
   "id": "2b5298f8",
   "metadata": {},
   "outputs": [],
   "source": [
    "from tensorflow.keras.models import load_model\n",
    "import numpy as np\n",
    "\n",
    "# Carrega arquivos pertinentes ao treinamento da rede neural e X_test e y_test (usados na avaliação de resultados)\n",
    "model = load_model('ge_LSTM.h5')\n",
    "X_test = np.load(\"X_test_LSTM.npy\")\n",
    "y_test = np.load(\"y_test_LSTM.npy\")"
   ]
  },
  {
   "cell_type": "markdown",
   "id": "990000c8",
   "metadata": {},
   "source": [
    "# Avaliação de Resultados"
   ]
  },
  {
   "cell_type": "code",
   "execution_count": 21,
   "id": "0fa18b7f",
   "metadata": {},
   "outputs": [
    {
     "name": "stdout",
     "output_type": "stream",
     "text": [
      "Acurácia final: 0.7827998995780945\n"
     ]
    }
   ],
   "source": [
    "loss, accuracy = model.evaluate(X_test, y_test, verbose=0)\n",
    "print('Acurácia final:', accuracy)"
   ]
  },
  {
   "cell_type": "code",
   "execution_count": 22,
   "id": "eb3237d5",
   "metadata": {},
   "outputs": [
    {
     "name": "stdout",
     "output_type": "stream",
     "text": [
      "896/896 [==============================] - 6s 6ms/step\n"
     ]
    }
   ],
   "source": [
    "# Fazer as previsões do modelo para o conjunto de teste\n",
    "y_pred = model.predict(X_test)"
   ]
  },
  {
   "cell_type": "code",
   "execution_count": 23,
   "id": "fe519cbf",
   "metadata": {},
   "outputs": [
    {
     "data": {
      "text/plain": [
       "array([[1346,    4,    7,    8,   10,   10,    8,   28,   62,    6,   35,\n",
       "          32,    3,   21,   22,   15,   14,    2,    8,    1,    2],\n",
       "       [   9,  407,    2,    2,    6,    3,    2,   18,    3,    3,   10,\n",
       "          14,    6,   87,   14,    7,    7,    4,    6,    0,    0],\n",
       "       [  19,    1, 1129,    7,   15,    5,    3,   32,    1,   57,   27,\n",
       "          29,    2,   19,   18,   13,   17,    6,    6,    6,    4],\n",
       "       [   8,    4,    6,  798,    7,    3,   14,   28,    4,    6,   16,\n",
       "          17,    7,   17,   18,    8,   14,    5,    7,    6,    3],\n",
       "       [  12,    6,   10,   12, 1200,    0,    7,   26,   11,    9,   65,\n",
       "          54,    4,   22,   13,   16,   27,    6,   18,    4,   16],\n",
       "       [  12,   10,    0,    2,    1,  386,    4,   42,    2,    2,    6,\n",
       "           9,    2,   26,    8,   11,   15,    5,    5,    3,    2],\n",
       "       [  15,    2,    4,   15,   11,    2,  646,   32,    8,    4,   14,\n",
       "          24,   68,   20,   14,    7,   13,    6,    9,    5,    2],\n",
       "       [  26,    6,    6,    9,   15,    5,    6, 2002,    6,    8,   60,\n",
       "          46,    8,   24,   26,   37,   57,   17,   44,    7,    7],\n",
       "       [  70,   11,    3,    0,    3,    1,    0,    9,  623,    2,   11,\n",
       "          13,    0,   25,    6,    8,    4,    6,    4,    4,    5],\n",
       "       [   7,    2,   36,    8,    6,    2,    5,   16,    8, 1246,   33,\n",
       "          18,    2,   10,   11,   10,    9,    7,   13,    9,    8],\n",
       "       [  31,   10,    9,    5,   61,    1,    3,   55,    8,    8, 1731,\n",
       "         109,    6,   25,   40,   35,   41,   15,   33,    4,   29],\n",
       "       [  29,   10,    8,   12,   37,    3,   13,   32,    6,   14,   78,\n",
       "        1258,    5,   33,   24,   23,   25,    6,   21,    4,   25],\n",
       "       [  18,    9,    6,    9,    0,    2,  107,   25,    5,    6,   14,\n",
       "          22,  687,   32,    8,   14,   18,    1,    7,    5,    2],\n",
       "       [  11,   31,    3,    3,    3,    4,    3,   13,    4,    2,    9,\n",
       "          18,    3,  578,    6,    8,   10,    4,    6,    2,    5],\n",
       "       [  14,    3,   11,   14,   11,    1,    9,   31,    2,   10,   31,\n",
       "          31,    3,   15, 1334,   76,   12,   10,   15,    6,    8],\n",
       "       [  29,    8,    9,    4,   27,    5,   10,   53,    3,   14,   39,\n",
       "          37,    6,   19,   60, 1558,   26,   12,   29,    3,    8],\n",
       "       [  30,    6,    6,    5,   10,    5,    3,  100,    6,   13,   59,\n",
       "          28,    8,   23,   30,   19, 1454,   13,   43,    2,    4],\n",
       "       [  12,    6,    4,    4,    6,    2,    4,   47,    4,    7,   27,\n",
       "          18,    2,   10,   25,   22,   36,  904,   34,    4,    4],\n",
       "       [  25,    7,    6,    6,   18,    9,    4,   86,    5,   10,   45,\n",
       "          41,   13,   24,   29,   26,   47,   15, 1657,    7,   12],\n",
       "       [   4,    5,    3,    9,    2,    1,   17,   18,    3,    9,    8,\n",
       "          13,    8,   13,   15,    9,   11,    3,   11,  739,    7],\n",
       "       [   1,    1,    2,    8,   32,    1,    3,   14,    1,   14,   27,\n",
       "          36,    4,   24,   10,    4,   13,    7,   18,    9,  745]])"
      ]
     },
     "execution_count": 23,
     "metadata": {},
     "output_type": "execute_result"
    }
   ],
   "source": [
    "#Transformar as previsões de volta em rótulos\n",
    "y_pred_labels = np.argmax(y_pred, axis=1)\n",
    "y_true_labels = np.argmax(y_test, axis=1)\n",
    "\n",
    "# Calcular a matriz de confusão\n",
    "from sklearn.metrics import confusion_matrix\n",
    "conf_mat = confusion_matrix(y_true_labels, y_pred_labels)\n",
    "\n",
    "conf_mat"
   ]
  },
  {
   "cell_type": "code",
   "execution_count": 24,
   "id": "6a477aaa",
   "metadata": {},
   "outputs": [],
   "source": [
    "import pandas as pd\n",
    "\n",
    "# Total de classes (times de futebol)\n",
    "classes = df['label'].nunique()\n",
    "\n",
    "# Lê o arquivo .csv\n",
    "df = pd.read_pickle(\"ge_df.pkl\")"
   ]
  },
  {
   "cell_type": "code",
   "execution_count": 25,
   "id": "770139f8",
   "metadata": {},
   "outputs": [
    {
     "data": {
      "image/png": "[encoded data removed]",
      "text/plain": [
       "<Figure size 1500x1000 with 2 Axes>"
      ]
     },
     "metadata": {},
     "output_type": "display_data"
    }
   ],
   "source": [
    "import matplotlib.pyplot as plt\n",
    "\n",
    "# Define o tamanho da figura\n",
    "plt.figure(figsize=(15, 10))\n",
    "\n",
    "# Define mapa de cores\n",
    "cmap = plt.cm.Blues\n",
    "\n",
    "# Plota matriz de confusão\n",
    "plt.imshow(conf_mat, cmap=cmap)\n",
    "plt.colorbar()\n",
    "\n",
    "# Adiciona rótulos a matriz\n",
    "plt.xticks([int(i) for i in range(21)], [str(i) for i in range(21)])\n",
    "plt.yticks([int(i) for i in range(21)], [str(i) for i in range(21)])\n",
    "\n",
    "for i in range(classes):\n",
    "    for j in range(classes):\n",
    "        plt.text(j, i, str(conf_mat[i, j]), ha='center', va='center', color='white' if conf_mat[i, j] > len(y_true_labels)/ classes else 'black')\n",
    "\n",
    "# Adiciona rótulos dos eixos\n",
    "plt.xlabel('Predicted Class')\n",
    "plt.ylabel('True Class')\n",
    "\n",
    "# Mostra o plot\n",
    "plt.show()"
   ]
  },
  {
   "cell_type": "code",
   "execution_count": 27,
   "id": "4c9288ae",
   "metadata": {},
   "outputs": [
    {
     "name": "stdout",
     "output_type": "stream",
     "text": [
      "Class '0': Precision=0.7789, Recall=0.8187, F1-Score=0.7983\n",
      "Class '1': Precision=0.7413, Recall=0.6672, F1-Score=0.7023\n",
      "Class '2': Precision=0.8890, Recall=0.7973, F1-Score=0.8407\n",
      "Class '3': Precision=0.8489, Recall=0.8012, F1-Score=0.8244\n",
      "Class '4': Precision=0.8103, Recall=0.7802, F1-Score=0.7950\n",
      "Class '5': Precision=0.8559, Recall=0.6980, F1-Score=0.7689\n",
      "Class '6': Precision=0.7417, Recall=0.7014, F1-Score=0.7210\n",
      "Class '7': Precision=0.7396, Recall=0.8266, F1-Score=0.7807\n",
      "Class '8': Precision=0.8039, Recall=0.7710, F1-Score=0.7871\n",
      "Class '9': Precision=0.8593, Recall=0.8499, F1-Score=0.8546\n",
      "Class '10': Precision=0.7382, Recall=0.7663, F1-Score=0.7520\n",
      "Class '11': Precision=0.6738, Recall=0.7551, F1-Score=0.7121\n",
      "Class '12': Precision=0.8111, Recall=0.6891, F1-Score=0.7451\n",
      "Class '13': Precision=0.5417, Recall=0.7961, F1-Score=0.6447\n",
      "Class '14': Precision=0.7707, Recall=0.8100, F1-Score=0.7898\n",
      "Class '15': Precision=0.8089, Recall=0.7953, F1-Score=0.8021\n",
      "Class '16': Precision=0.7775, Recall=0.7788, F1-Score=0.7782\n",
      "Class '17': Precision=0.8577, Recall=0.7648, F1-Score=0.8086\n",
      "Class '18': Precision=0.8310, Recall=0.7921, F1-Score=0.8111\n",
      "Class '19': Precision=0.8904, Recall=0.8139, F1-Score=0.8504\n",
      "Class '20': Precision=0.8296, Recall=0.7649, F1-Score=0.7959\n",
      "Average F1-Score: 0.7792\n"
     ]
    }
   ],
   "source": [
    "import numpy as np\n",
    "from sklearn.metrics import precision_score, recall_score, f1_score\n",
    "\n",
    "# Calcula precisão, recall e f1-score para cada classe\n",
    "precisions = []\n",
    "recalls = []\n",
    "f1_scores = []\n",
    "for i in range(classes):\n",
    "    precision = precision_score(y_true=y_true_labels == i, y_pred=y_pred_labels == i, zero_division=0)\n",
    "    recall = recall_score(y_true=y_true_labels == i, y_pred=y_pred_labels == i, zero_division=0)\n",
    "    f1 = f1_score(y_true=y_true_labels == i, y_pred=y_pred_labels == i, zero_division=0)\n",
    "    precisions.append(precision)\n",
    "    recalls.append(recall)\n",
    "    f1_scores.append(f1)\n",
    "    \n",
    "# Printa resultados\n",
    "for i in range(classes):\n",
    "    print(f\"Class '{i}': Precision={precisions[i]:.4f}, Recall={recalls[i]:.4f}, F1-Score={f1_scores[i]:.4f}\")\n",
    "\n",
    "# Calcula e printa a média dos f1-scores\n",
    "f1_average = np.mean(f1_scores)\n",
    "print(f\"Average F1-Score: {f1_average:.4f}\")"
   ]
  },
  {
   "cell_type": "markdown",
   "id": "53dd00bc",
   "metadata": {},
   "source": [
    "## Referências\n",
    "\n",
    "* https://www.kaggle.com/datasets/lgmoneda/ge-soccer-clubs-news\n",
    "* https://medium.com/@everton.tomalok/word2vec-e-sua-import%C3%A2ncia-na-etapa-de-pr%C3%A9-processamento-d0813acfc8ab\n",
    "* https://www.youtube.com/watch?v=hQwFeIupNP0\n",
    "* https://www.youtube.com/watch?v=ISPId9Lhc1g\n",
    "* https://jalammar.github.io/illustrated-word2vec/\n",
    "* https://towardsdatascience.com/a-beginners-guide-to-word-embedding-with-gensim-word2vec-model-5970fa56cc92"
   ]
  }
 ],
 "metadata": {
  "kernelspec": {
   "display_name": "Python 3",
   "language": "python",
   "name": "python3"
  },
  "language_info": {
   "codemirror_mode": {
    "name": "ipython",
    "version": 3
   },
   "file_extension": ".py",
   "mimetype": "text/x-python",
   "name": "python",
   "nbconvert_exporter": "python",
   "pygments_lexer": "ipython3",
   "version": "3.11.0"
  }
 },
 "nbformat": 4,
 "nbformat_minor": 5
}
