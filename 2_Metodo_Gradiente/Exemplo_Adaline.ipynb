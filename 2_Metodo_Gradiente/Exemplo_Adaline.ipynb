{
 "cells": [
  {
   "cell_type": "code",
   "execution_count": 1,
   "metadata": {},
   "outputs": [],
   "source": [
    "import pandas as pd"
   ]
  },
  {
   "cell_type": "code",
   "execution_count": 2,
   "metadata": {},
   "outputs": [
    {
     "data": {
      "text/html": [
       "<div>\n",
       "<style scoped>\n",
       "    .dataframe tbody tr th:only-of-type {\n",
       "        vertical-align: middle;\n",
       "    }\n",
       "\n",
       "    .dataframe tbody tr th {\n",
       "        vertical-align: top;\n",
       "    }\n",
       "\n",
       "    .dataframe thead th {\n",
       "        text-align: right;\n",
       "    }\n",
       "</style>\n",
       "<table border=\"1\" class=\"dataframe\">\n",
       "  <thead>\n",
       "    <tr style=\"text-align: right;\">\n",
       "      <th></th>\n",
       "      <th>6</th>\n",
       "      <th>148</th>\n",
       "      <th>72</th>\n",
       "      <th>35</th>\n",
       "      <th>0</th>\n",
       "      <th>33.6</th>\n",
       "      <th>0.627</th>\n",
       "      <th>50</th>\n",
       "      <th>1</th>\n",
       "    </tr>\n",
       "  </thead>\n",
       "  <tbody>\n",
       "    <tr>\n",
       "      <th>0</th>\n",
       "      <td>1</td>\n",
       "      <td>85</td>\n",
       "      <td>66</td>\n",
       "      <td>29</td>\n",
       "      <td>0</td>\n",
       "      <td>26.6</td>\n",
       "      <td>0.351</td>\n",
       "      <td>31</td>\n",
       "      <td>0</td>\n",
       "    </tr>\n",
       "    <tr>\n",
       "      <th>1</th>\n",
       "      <td>8</td>\n",
       "      <td>183</td>\n",
       "      <td>64</td>\n",
       "      <td>0</td>\n",
       "      <td>0</td>\n",
       "      <td>23.3</td>\n",
       "      <td>0.672</td>\n",
       "      <td>32</td>\n",
       "      <td>1</td>\n",
       "    </tr>\n",
       "    <tr>\n",
       "      <th>2</th>\n",
       "      <td>1</td>\n",
       "      <td>89</td>\n",
       "      <td>66</td>\n",
       "      <td>23</td>\n",
       "      <td>94</td>\n",
       "      <td>28.1</td>\n",
       "      <td>0.167</td>\n",
       "      <td>21</td>\n",
       "      <td>0</td>\n",
       "    </tr>\n",
       "    <tr>\n",
       "      <th>3</th>\n",
       "      <td>0</td>\n",
       "      <td>137</td>\n",
       "      <td>40</td>\n",
       "      <td>35</td>\n",
       "      <td>168</td>\n",
       "      <td>43.1</td>\n",
       "      <td>2.288</td>\n",
       "      <td>33</td>\n",
       "      <td>1</td>\n",
       "    </tr>\n",
       "    <tr>\n",
       "      <th>4</th>\n",
       "      <td>5</td>\n",
       "      <td>116</td>\n",
       "      <td>74</td>\n",
       "      <td>0</td>\n",
       "      <td>0</td>\n",
       "      <td>25.6</td>\n",
       "      <td>0.201</td>\n",
       "      <td>30</td>\n",
       "      <td>0</td>\n",
       "    </tr>\n",
       "  </tbody>\n",
       "</table>\n",
       "</div>"
      ],
      "text/plain": [
       "   6  148  72  35    0  33.6  0.627  50  1\n",
       "0  1   85  66  29    0  26.6  0.351  31  0\n",
       "1  8  183  64   0    0  23.3  0.672  32  1\n",
       "2  1   89  66  23   94  28.1  0.167  21  0\n",
       "3  0  137  40  35  168  43.1  2.288  33  1\n",
       "4  5  116  74   0    0  25.6  0.201  30  0"
      ]
     },
     "execution_count": 2,
     "metadata": {},
     "output_type": "execute_result"
    }
   ],
   "source": [
    "data = pd.read_csv(\"diabetes.csv\")\n",
    "data.head()"
   ]
  },
  {
   "cell_type": "code",
   "execution_count": 3,
   "metadata": {},
   "outputs": [
    {
     "data": {
      "text/plain": [
       "(767, 9)"
      ]
     },
     "execution_count": 3,
     "metadata": {},
     "output_type": "execute_result"
    }
   ],
   "source": [
    "data = data.values\n",
    "data.shape"
   ]
  },
  {
   "cell_type": "code",
   "execution_count": 4,
   "metadata": {},
   "outputs": [
    {
     "data": {
      "text/plain": [
       "[-74.9,\n",
       " -247.25,\n",
       " -8248.4,\n",
       " -5113.7,\n",
       " -1474.7,\n",
       " -5159.299999999999,\n",
       " -2272.714999999997,\n",
       " -32.13005000000001,\n",
       " -2339.15]"
      ]
     },
     "execution_count": 4,
     "metadata": {},
     "output_type": "execute_result"
    }
   ],
   "source": [
    "w = [0.1] * 9 \n",
    "X = [-1, 0, 1, 2, 3, 4, 5, 6, 7, 8]\n",
    "learning_rate = 0.15\n",
    "tam_linhas = data.shape[0]\n",
    "\n",
    "# Calcula a soma ponderada das características para a amostra S.\n",
    "def z(S):\n",
    "    return sum(w[i] * data[S][X[i]] for i in range(9))\n",
    "\n",
    "# Função de ativação: retorna 1 se z for maior que 0, caso contrário, retorna 0.\n",
    "def output(z):\n",
    "    return 1 if z > 0 else 0\n",
    "\n",
    "# Calcula a função de custo J(w).\n",
    "def J():\n",
    "    return 0.5 * sum((data[i][-1] - output(z(i))) ** 2 for i in range(tam_linhas))\n",
    "\n",
    "# Calcula a acurácia do modelo.\n",
    "def acc():\n",
    "    count_hits = sum(int(data[i][-1]) == output(z(i)) for i in range(tam_linhas))\n",
    "    return count_hits / tam_linhas\n",
    "\n",
    "# Calcula a variação do peso w[j] durante a atualização.\n",
    "def delta_j(j):\n",
    "    if j == 0:\n",
    "        return learning_rate * sum(data[i][-1] - output(z(i)) for i in range(tam_linhas))\n",
    "    else:\n",
    "        return learning_rate * sum((data[i][-1] - output(z(i))) * data[i][X[j]] for i in range(tam_linhas))\n",
    "\n",
    "# Atualizando pesos\n",
    "w = [w[j] + delta_j(j) for j in range(9)]\n",
    "w"
   ]
  },
  {
   "cell_type": "code",
   "execution_count": 5,
   "metadata": {},
   "outputs": [
    {
     "name": "stdout",
     "output_type": "stream",
     "text": [
      ".\n",
      "133.5 0.651890482398957 [-74.9, -247.25, -8248.4, -5113.7, -1474.7, -5159.299999999999, -2272.714999999997, -32.13005000000001, -2339.15]\n",
      "132.0 0.6558018252933507 [-96.05000000000003, 310.75, 490.5999999999967, -4841.300000000001, -1116.35, 1341.550000000002, -1000.0250000000003, 2.209899999999884, -621.9500000000007]\n",
      "123.0 0.6792698826597132 [-180.5, 827.1999999999998, 3303.099999999993, -6837.949999999995, -1596.6499999999987, 171.2500000000041, -1048.1449999999993, 19.31934999999982, -214.0999999999999]\n",
      "121.0 0.6844850065189049 [-251.5999999999999, 1268.6499999999999, 4081.74999999999, -7280.299999999992, -1408.099999999998, 236.35000000000673, -862.2649999999974, 36.693249999999765, 103.75]\n",
      "120.0 0.6870925684485006 [-337.6999999999999, 1741.6000000000004, 4170.0999999999885, -8495.449999999988, -1377.4999999999973, 164.50000000000773, -947.2999999999963, 51.31914999999969, 215.95000000000027]\n",
      "119.5 0.6883963494132985 [-472.54999999999967, 2558.1999999999994, 4538.1999999999825, -9601.69999999998, -1158.6499999999962, 65.50000000001, -824.7349999999922, 76.17684999999952, 619.2999999999988]\n",
      "117.0 0.6949152542372882 [-490.69999999999965, 2727.2499999999986, 4832.049999999981, -9285.799999999981, -1010.599999999996, -226.09999999998945, -602.5099999999934, 83.12724999999949, 874.1499999999983]\n",
      "115.5 0.6988265971316818 [-1252.4000000000017, 6620.349999999983, 3955.7499999999573, -9449.449999999946, -255.94999999999345, -139.84999999996762, 1211.514999999958, 262.3854999999989, 1532.9499999999975]\n",
      "115.0 0.7001303780964798 [-1680.3500000000026, 8598.849999999979, 4428.099999999939, -10217.149999999923, -506.14999999999236, -287.7499999999609, 1477.689999999933, 353.6849499999983, 1586.3499999999945]\n"
     ]
    }
   ],
   "source": [
    "i = 0\n",
    "acc_aux = 0\n",
    "\n",
    "while True:\n",
    "    if i % 1000 == 0:\n",
    "        print(\".\")\n",
    "\n",
    "    if acc() > acc_aux:\n",
    "        acc_aux = acc()\n",
    "        print(J(), acc(), w)\n",
    "\n",
    "    w = [w[j] + delta_j(j) for j in range(9)]\n",
    "    i += 1"
   ]
  }
 ],
 "metadata": {
  "kernelspec": {
   "display_name": "Python 3",
   "language": "python",
   "name": "python3"
  },
  "language_info": {
   "codemirror_mode": {
    "name": "ipython",
    "version": 3
   },
   "file_extension": ".py",
   "mimetype": "text/x-python",
   "name": "python",
   "nbconvert_exporter": "python",
   "pygments_lexer": "ipython3",
   "version": "3.11.3"
  }
 },
 "nbformat": 4,
 "nbformat_minor": 2
}
