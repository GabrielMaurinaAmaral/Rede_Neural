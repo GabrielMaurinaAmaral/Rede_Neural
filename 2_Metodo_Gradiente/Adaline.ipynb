{
 "cells": [
  {
   "cell_type": "markdown",
   "metadata": {},
   "source": [
    "# ADALINE"
   ]
  },
  {
   "cell_type": "code",
   "execution_count": 27,
   "metadata": {},
   "outputs": [
    {
     "name": "stdout",
     "output_type": "stream",
     "text": [
      "---1ª Época---\n",
      "Erro J(w) = 1.0\n",
      "w = [0.2, 0.0, 0.2, 0.2]\n"
     ]
    }
   ],
   "source": [
    "data = [[0, 0, 1, 1],\n",
    "        [1, 0, 1, 1],\n",
    "        [1, 1, 1, 0],\n",
    "        [1, 1, 0, 0]]\n",
    "w = [0, 0, 0, 0]\n",
    "X_1, X_2, X_3, Y = 0, 1, 2, 3\n",
    "learning_rate = 0.1\n",
    "\n",
    "def z(S):\n",
    "    # Calcula a soma ponderada das características para uma amostra específica.\n",
    "    # Args: S (int) -> Índice da amostra.\n",
    "    # Returns: float -> Soma ponderada das características.\n",
    "    return sum(w[i] * data[S][i] for i in range(len(w)))\n",
    "\n",
    "def phi(z):\n",
    "    # Função de ativação: retorna 1 se z for maior que 0, caso contrário, retorna 0.\n",
    "    # Args: z (float) -> Valor de z.\n",
    "    # Returns: int -> Saída da função de ativação.\n",
    "    return 1 if z > 0 else 0\n",
    "\n",
    "def J():\n",
    "    # Calcula a função de custo J(w).\n",
    "    # Returns: float -> Valor da função de custo.\n",
    "    return 0.5 * sum((data[i][-1] - phi(z(i)))**2 for i in range(len(data)))\n",
    "\n",
    "# calculando variação do peso w[j]\n",
    "def delta_j(j):\n",
    "    delta = 0\n",
    "    for i in range(len(data)):\n",
    "        delta += (data[i][-1] - phi(z(i))) * (data[i][j] if j > 0 else 1)\n",
    "    return learning_rate * delta\n",
    "\n",
    "# atualizando pesos\n",
    "aux_0 = w[0] + delta_j(0)\n",
    "aux_1 = w[1] + delta_j(1)\n",
    "aux_2 = w[2] + delta_j(2)\n",
    "aux_3 = w[3] + delta_j(3)\n",
    "\n",
    "w = [aux_0, aux_1, aux_2, aux_3]\n",
    "\n",
    "print(\"---1ª Época---\")\n",
    "print(\"Erro J(w) =\", J())\n",
    "print(\"w =\", w)\n"
   ]
  },
  {
   "cell_type": "code",
   "execution_count": 28,
   "metadata": {},
   "outputs": [
    {
     "name": "stdout",
     "output_type": "stream",
     "text": [
      "--- 2 º Época---\n",
      "Erro J(w) = 1.0\n",
      "w = [0.0, -0.2, 0.1, 0.2]\n",
      "--- 3 º Época---\n",
      "Erro J(w) = 0.0\n",
      "w = [0.0, -0.2, 0.1, 0.2]\n",
      "--- 4 º Época---\n",
      "Erro J(w) = 0.0\n",
      "w = [0.0, -0.2, 0.1, 0.2]\n",
      "--- 5 º Época---\n",
      "Erro J(w) = 0.0\n",
      "w = [0.0, -0.2, 0.1, 0.2]\n",
      "--- 6 º Época---\n",
      "Erro J(w) = 0.0\n",
      "w = [0.0, -0.2, 0.1, 0.2]\n",
      "--- 7 º Época---\n",
      "Erro J(w) = 0.0\n",
      "w = [0.0, -0.2, 0.1, 0.2]\n",
      "--- 8 º Época---\n",
      "Erro J(w) = 0.0\n",
      "w = [0.0, -0.2, 0.1, 0.2]\n",
      "--- 9 º Época---\n",
      "Erro J(w) = 0.0\n",
      "w = [0.0, -0.2, 0.1, 0.2]\n",
      "--- 10 º Época---\n",
      "Erro J(w) = 0.0\n",
      "w = [0.0, -0.2, 0.1, 0.2]\n",
      "--- 11 º Época---\n",
      "Erro J(w) = 0.0\n",
      "w = [0.0, -0.2, 0.1, 0.2]\n"
     ]
    }
   ],
   "source": [
    "epochs = 10\n",
    "for i in range(epochs):\n",
    "  print(\"---\",i+2,\"º Época---\")\n",
    "  print(\"Erro J(w) =\", J())\n",
    "\n",
    "  aux_0 = w[0] + delta_j(0)\n",
    "  aux_1 = w[1] + delta_j(1)\n",
    "  aux_2 = w[2] + delta_j(2)\n",
    "  aux_3 = w[3] + delta_j(3)\n",
    "\n",
    "  w = [aux_0, aux_1, aux_2, aux_3]\n",
    "  \n",
    "  print(\"w =\", w)"
   ]
  }
 ],
 "metadata": {
  "kernelspec": {
   "display_name": "Python 3",
   "language": "python",
   "name": "python3"
  },
  "language_info": {
   "codemirror_mode": {
    "name": "ipython",
    "version": 3
   },
   "file_extension": ".py",
   "mimetype": "text/x-python",
   "name": "python",
   "nbconvert_exporter": "python",
   "pygments_lexer": "ipython3",
   "version": "3.11.3"
  }
 },
 "nbformat": 4,
 "nbformat_minor": 2
}
