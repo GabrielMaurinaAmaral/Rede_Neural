{
  "nbformat": 4,
  "nbformat_minor": 0,
  "metadata": {
    "colab": {
      "provenance": [],
      "machine_shape": "hm",
      "gpuType": "T4"
    },
    "kernelspec": {
      "name": "python3",
      "display_name": "Python 3"
    },
    "language_info": {
      "name": "python"
    },
    "accelerator": "GPU"
  },
  "cells": [
    {
      "cell_type": "markdown",
      "source": [
        "# Importação de bibliotecas e acesso a arquivos via Google Drive"
      ],
      "metadata": {
        "id": "B3SGD6z1BqJ4"
      }
    },
    {
      "cell_type": "code",
      "execution_count": null,
      "metadata": {
        "colab": {
          "base_uri": "https://localhost:8080/"
        },
        "id": "l2c4fxkD05as",
        "outputId": "95ac4b6c-bf92-4049-ec06-c3f04c0df840"
      },
      "outputs": [
        {
          "output_type": "stream",
          "name": "stdout",
          "text": [
            "Drive already mounted at /content/drive; to attempt to forcibly remount, call drive.mount(\"/content/drive\", force_remount=True).\n"
          ]
        }
      ],
      "source": [
        "import tensorflow as tf\n",
        "from tensorflow.keras.preprocessing.text import Tokenizer\n",
        "from tensorflow.keras.preprocessing.sequence import pad_sequences\n",
        "from tensorflow.keras.layers import Embedding, LSTM, Dense, Bidirectional\n",
        "from tensorflow.keras.models import Sequential\n",
        "from tensorflow.keras.utils import to_categorical\n",
        "from tensorflow.keras.callbacks import EarlyStopping\n",
        "import numpy as np\n",
        "\n",
        "from google.colab import drive\n",
        "drive.mount('/content/drive')\n",
        "\n",
        "DRIVE_FOLDER = '/content/drive/My Drive/DatasetColab/'"
      ]
    },
    {
      "cell_type": "markdown",
      "source": [
        "# Pré-processamento de dados (igual ao código anterior)\n",
        "\n",
        "* Carrega um dataset de notícias de futebol usando Pandas.\n",
        "* Realiza limpeza e combinação de colunas de texto.\n",
        "* Aplica um LabelEncoder para transformar nomes de clubes em identificadores numéricos.\n",
        "* Utiliza o spaCy para processamento de linguagem natural, como remover pontuação, números, acentos e aplicar lematização.\n",
        "* Instala e carrega um modelo de linguagem específico para o português."
      ],
      "metadata": {
        "id": "FKPJhbqBC3Q_"
      }
    },
    {
      "cell_type": "code",
      "source": [
        "import pandas as pd\n",
        "\n",
        "caminho_do_arquivo = DRIVE_FOLDER + 'ge_news.csv'\n",
        "df = pd.read_csv(caminho_do_arquivo)\n",
        "\n",
        "df.head()"
      ],
      "metadata": {
        "colab": {
          "base_uri": "https://localhost:8080/",
          "height": 293
        },
        "id": "KigS2DHy1I9e",
        "outputId": "e1275535-06e7-4b68-ffaa-da9e46655ccc"
      },
      "execution_count": null,
      "outputs": [
        {
          "output_type": "execute_result",
          "data": {
            "text/plain": [
              "         date   time                                              title  \\\n",
              "0  10/11/2022  19h55  Convocados do Uruguai para a Copa do Mundo 202...   \n",
              "1  22/12/2017  10h04  Conmebol divulga tabela detalhada da pré e da ...   \n",
              "2  11/02/2018  08h00  Com assistência, Demethryus recebe elogios no ...   \n",
              "3  18/12/2020  12h48  Athletico confirma fim de contrato com Welling...   \n",
              "4  13/09/2018  22h17  Alô, cartoleiros! Atlético-PR passa limpo cont...   \n",
              "\n",
              "                                                text  \\\n",
              "0   O técnico Diego Alonso divulgou a lista dos 2...   \n",
              "1   Argentinos são destaques no caminho dos brasi...   \n",
              "2   O meia Demethryus conseguiu aproveitar bem a ...   \n",
              "3   A reportagem do ge já havia adiantado que as ...   \n",
              "4   O atacante Marcelo Cirino, desfalque já nos ú...   \n",
              "\n",
              "                                                link          club  \n",
              "0  https://ge.globo.com/futebol/copa-do-mundo/not...  athletico-pr  \n",
              "1  https://globoesporte.globo.com/futebol/liberta...  athletico-pr  \n",
              "2  https://globoesporte.globo.com/pr/futebol/time...  athletico-pr  \n",
              "3  https://globoesporte.globo.com/pr/futebol/time...  athletico-pr  \n",
              "4  https://globoesporte.globo.com/pr/futebol/time...  athletico-pr  "
            ],
            "text/html": [
              "\n",
              "  <div id=\"df-b03cee6b-a730-40cf-b470-ebcfe13bf396\" class=\"colab-df-container\">\n",
              "    <div>\n",
              "<style scoped>\n",
              "    .dataframe tbody tr th:only-of-type {\n",
              "        vertical-align: middle;\n",
              "    }\n",
              "\n",
              "    .dataframe tbody tr th {\n",
              "        vertical-align: top;\n",
              "    }\n",
              "\n",
              "    .dataframe thead th {\n",
              "        text-align: right;\n",
              "    }\n",
              "</style>\n",
              "<table border=\"1\" class=\"dataframe\">\n",
              "  <thead>\n",
              "    <tr style=\"text-align: right;\">\n",
              "      <th></th>\n",
              "      <th>date</th>\n",
              "      <th>time</th>\n",
              "      <th>title</th>\n",
              "      <th>text</th>\n",
              "      <th>link</th>\n",
              "      <th>club</th>\n",
              "    </tr>\n",
              "  </thead>\n",
              "  <tbody>\n",
              "    <tr>\n",
              "      <th>0</th>\n",
              "      <td>10/11/2022</td>\n",
              "      <td>19h55</td>\n",
              "      <td>Convocados do Uruguai para a Copa do Mundo 202...</td>\n",
              "      <td>O técnico Diego Alonso divulgou a lista dos 2...</td>\n",
              "      <td>https://ge.globo.com/futebol/copa-do-mundo/not...</td>\n",
              "      <td>athletico-pr</td>\n",
              "    </tr>\n",
              "    <tr>\n",
              "      <th>1</th>\n",
              "      <td>22/12/2017</td>\n",
              "      <td>10h04</td>\n",
              "      <td>Conmebol divulga tabela detalhada da pré e da ...</td>\n",
              "      <td>Argentinos são destaques no caminho dos brasi...</td>\n",
              "      <td>https://globoesporte.globo.com/futebol/liberta...</td>\n",
              "      <td>athletico-pr</td>\n",
              "    </tr>\n",
              "    <tr>\n",
              "      <th>2</th>\n",
              "      <td>11/02/2018</td>\n",
              "      <td>08h00</td>\n",
              "      <td>Com assistência, Demethryus recebe elogios no ...</td>\n",
              "      <td>O meia Demethryus conseguiu aproveitar bem a ...</td>\n",
              "      <td>https://globoesporte.globo.com/pr/futebol/time...</td>\n",
              "      <td>athletico-pr</td>\n",
              "    </tr>\n",
              "    <tr>\n",
              "      <th>3</th>\n",
              "      <td>18/12/2020</td>\n",
              "      <td>12h48</td>\n",
              "      <td>Athletico confirma fim de contrato com Welling...</td>\n",
              "      <td>A reportagem do ge já havia adiantado que as ...</td>\n",
              "      <td>https://globoesporte.globo.com/pr/futebol/time...</td>\n",
              "      <td>athletico-pr</td>\n",
              "    </tr>\n",
              "    <tr>\n",
              "      <th>4</th>\n",
              "      <td>13/09/2018</td>\n",
              "      <td>22h17</td>\n",
              "      <td>Alô, cartoleiros! Atlético-PR passa limpo cont...</td>\n",
              "      <td>O atacante Marcelo Cirino, desfalque já nos ú...</td>\n",
              "      <td>https://globoesporte.globo.com/pr/futebol/time...</td>\n",
              "      <td>athletico-pr</td>\n",
              "    </tr>\n",
              "  </tbody>\n",
              "</table>\n",
              "</div>\n",
              "    <div class=\"colab-df-buttons\">\n",
              "\n",
              "  <div class=\"colab-df-container\">\n",
              "    <button class=\"colab-df-convert\" onclick=\"convertToInteractive('df-b03cee6b-a730-40cf-b470-ebcfe13bf396')\"\n",
              "            title=\"Convert this dataframe to an interactive table.\"\n",
              "            style=\"display:none;\">\n",
              "\n",
              "  <svg xmlns=\"http://www.w3.org/2000/svg\" height=\"24px\" viewBox=\"0 -960 960 960\">\n",
              "    <path d=\"M120-120v-720h720v720H120Zm60-500h600v-160H180v160Zm220 220h160v-160H400v160Zm0 220h160v-160H400v160ZM180-400h160v-160H180v160Zm440 0h160v-160H620v160ZM180-180h160v-160H180v160Zm440 0h160v-160H620v160Z\"/>\n",
              "  </svg>\n",
              "    </button>\n",
              "\n",
              "  <style>\n",
              "    .colab-df-container {\n",
              "      display:flex;\n",
              "      gap: 12px;\n",
              "    }\n",
              "\n",
              "    .colab-df-convert {\n",
              "      background-color: #E8F0FE;\n",
              "      border: none;\n",
              "      border-radius: 50%;\n",
              "      cursor: pointer;\n",
              "      display: none;\n",
              "      fill: #1967D2;\n",
              "      height: 32px;\n",
              "      padding: 0 0 0 0;\n",
              "      width: 32px;\n",
              "    }\n",
              "\n",
              "    .colab-df-convert:hover {\n",
              "      background-color: #E2EBFA;\n",
              "      box-shadow: 0px 1px 2px rgba(60, 64, 67, 0.3), 0px 1px 3px 1px rgba(60, 64, 67, 0.15);\n",
              "      fill: #174EA6;\n",
              "    }\n",
              "\n",
              "    .colab-df-buttons div {\n",
              "      margin-bottom: 4px;\n",
              "    }\n",
              "\n",
              "    [theme=dark] .colab-df-convert {\n",
              "      background-color: #3B4455;\n",
              "      fill: #D2E3FC;\n",
              "    }\n",
              "\n",
              "    [theme=dark] .colab-df-convert:hover {\n",
              "      background-color: #434B5C;\n",
              "      box-shadow: 0px 1px 3px 1px rgba(0, 0, 0, 0.15);\n",
              "      filter: drop-shadow(0px 1px 2px rgba(0, 0, 0, 0.3));\n",
              "      fill: #FFFFFF;\n",
              "    }\n",
              "  </style>\n",
              "\n",
              "    <script>\n",
              "      const buttonEl =\n",
              "        document.querySelector('#df-b03cee6b-a730-40cf-b470-ebcfe13bf396 button.colab-df-convert');\n",
              "      buttonEl.style.display =\n",
              "        google.colab.kernel.accessAllowed ? 'block' : 'none';\n",
              "\n",
              "      async function convertToInteractive(key) {\n",
              "        const element = document.querySelector('#df-b03cee6b-a730-40cf-b470-ebcfe13bf396');\n",
              "        const dataTable =\n",
              "          await google.colab.kernel.invokeFunction('convertToInteractive',\n",
              "                                                    [key], {});\n",
              "        if (!dataTable) return;\n",
              "\n",
              "        const docLinkHtml = 'Like what you see? Visit the ' +\n",
              "          '<a target=\"_blank\" href=https://colab.research.google.com/notebooks/data_table.ipynb>data table notebook</a>'\n",
              "          + ' to learn more about interactive tables.';\n",
              "        element.innerHTML = '';\n",
              "        dataTable['output_type'] = 'display_data';\n",
              "        await google.colab.output.renderOutput(dataTable, element);\n",
              "        const docLink = document.createElement('div');\n",
              "        docLink.innerHTML = docLinkHtml;\n",
              "        element.appendChild(docLink);\n",
              "      }\n",
              "    </script>\n",
              "  </div>\n",
              "\n",
              "\n",
              "<div id=\"df-321f4fdf-98b3-4239-967a-52d55a377828\">\n",
              "  <button class=\"colab-df-quickchart\" onclick=\"quickchart('df-321f4fdf-98b3-4239-967a-52d55a377828')\"\n",
              "            title=\"Suggest charts\"\n",
              "            style=\"display:none;\">\n",
              "\n",
              "<svg xmlns=\"http://www.w3.org/2000/svg\" height=\"24px\"viewBox=\"0 0 24 24\"\n",
              "     width=\"24px\">\n",
              "    <g>\n",
              "        <path d=\"M19 3H5c-1.1 0-2 .9-2 2v14c0 1.1.9 2 2 2h14c1.1 0 2-.9 2-2V5c0-1.1-.9-2-2-2zM9 17H7v-7h2v7zm4 0h-2V7h2v10zm4 0h-2v-4h2v4z\"/>\n",
              "    </g>\n",
              "</svg>\n",
              "  </button>\n",
              "\n",
              "<style>\n",
              "  .colab-df-quickchart {\n",
              "      --bg-color: #E8F0FE;\n",
              "      --fill-color: #1967D2;\n",
              "      --hover-bg-color: #E2EBFA;\n",
              "      --hover-fill-color: #174EA6;\n",
              "      --disabled-fill-color: #AAA;\n",
              "      --disabled-bg-color: #DDD;\n",
              "  }\n",
              "\n",
              "  [theme=dark] .colab-df-quickchart {\n",
              "      --bg-color: #3B4455;\n",
              "      --fill-color: #D2E3FC;\n",
              "      --hover-bg-color: #434B5C;\n",
              "      --hover-fill-color: #FFFFFF;\n",
              "      --disabled-bg-color: #3B4455;\n",
              "      --disabled-fill-color: #666;\n",
              "  }\n",
              "\n",
              "  .colab-df-quickchart {\n",
              "    background-color: var(--bg-color);\n",
              "    border: none;\n",
              "    border-radius: 50%;\n",
              "    cursor: pointer;\n",
              "    display: none;\n",
              "    fill: var(--fill-color);\n",
              "    height: 32px;\n",
              "    padding: 0;\n",
              "    width: 32px;\n",
              "  }\n",
              "\n",
              "  .colab-df-quickchart:hover {\n",
              "    background-color: var(--hover-bg-color);\n",
              "    box-shadow: 0 1px 2px rgba(60, 64, 67, 0.3), 0 1px 3px 1px rgba(60, 64, 67, 0.15);\n",
              "    fill: var(--button-hover-fill-color);\n",
              "  }\n",
              "\n",
              "  .colab-df-quickchart-complete:disabled,\n",
              "  .colab-df-quickchart-complete:disabled:hover {\n",
              "    background-color: var(--disabled-bg-color);\n",
              "    fill: var(--disabled-fill-color);\n",
              "    box-shadow: none;\n",
              "  }\n",
              "\n",
              "  .colab-df-spinner {\n",
              "    border: 2px solid var(--fill-color);\n",
              "    border-color: transparent;\n",
              "    border-bottom-color: var(--fill-color);\n",
              "    animation:\n",
              "      spin 1s steps(1) infinite;\n",
              "  }\n",
              "\n",
              "  @keyframes spin {\n",
              "    0% {\n",
              "      border-color: transparent;\n",
              "      border-bottom-color: var(--fill-color);\n",
              "      border-left-color: var(--fill-color);\n",
              "    }\n",
              "    20% {\n",
              "      border-color: transparent;\n",
              "      border-left-color: var(--fill-color);\n",
              "      border-top-color: var(--fill-color);\n",
              "    }\n",
              "    30% {\n",
              "      border-color: transparent;\n",
              "      border-left-color: var(--fill-color);\n",
              "      border-top-color: var(--fill-color);\n",
              "      border-right-color: var(--fill-color);\n",
              "    }\n",
              "    40% {\n",
              "      border-color: transparent;\n",
              "      border-right-color: var(--fill-color);\n",
              "      border-top-color: var(--fill-color);\n",
              "    }\n",
              "    60% {\n",
              "      border-color: transparent;\n",
              "      border-right-color: var(--fill-color);\n",
              "    }\n",
              "    80% {\n",
              "      border-color: transparent;\n",
              "      border-right-color: var(--fill-color);\n",
              "      border-bottom-color: var(--fill-color);\n",
              "    }\n",
              "    90% {\n",
              "      border-color: transparent;\n",
              "      border-bottom-color: var(--fill-color);\n",
              "    }\n",
              "  }\n",
              "</style>\n",
              "\n",
              "  <script>\n",
              "    async function quickchart(key) {\n",
              "      const quickchartButtonEl =\n",
              "        document.querySelector('#' + key + ' button');\n",
              "      quickchartButtonEl.disabled = true;  // To prevent multiple clicks.\n",
              "      quickchartButtonEl.classList.add('colab-df-spinner');\n",
              "      try {\n",
              "        const charts = await google.colab.kernel.invokeFunction(\n",
              "            'suggestCharts', [key], {});\n",
              "      } catch (error) {\n",
              "        console.error('Error during call to suggestCharts:', error);\n",
              "      }\n",
              "      quickchartButtonEl.classList.remove('colab-df-spinner');\n",
              "      quickchartButtonEl.classList.add('colab-df-quickchart-complete');\n",
              "    }\n",
              "    (() => {\n",
              "      let quickchartButtonEl =\n",
              "        document.querySelector('#df-321f4fdf-98b3-4239-967a-52d55a377828 button');\n",
              "      quickchartButtonEl.style.display =\n",
              "        google.colab.kernel.accessAllowed ? 'block' : 'none';\n",
              "    })();\n",
              "  </script>\n",
              "</div>\n",
              "\n",
              "    </div>\n",
              "  </div>\n"
            ]
          },
          "metadata": {},
          "execution_count": 2
        }
      ]
    },
    {
      "cell_type": "code",
      "source": [
        "# Removendo simultaneamente as colunas de índice 0, 1, 4 (date, time and link)\n",
        "column_indices = [0, 1, 4]\n",
        "df.drop([df.columns[i] for i in column_indices], axis=1, inplace=True)\n",
        "\n",
        "# Fundindo colunas 'title' e 'text' para a coluna 'title_and_text'\n",
        "df['data'] = df['title'] + ' ' + df['text']\n",
        "\n",
        "df.head()"
      ],
      "metadata": {
        "colab": {
          "base_uri": "https://localhost:8080/",
          "height": 293
        },
        "id": "480U5tKf1eFV",
        "outputId": "f6488f9f-e5c2-4564-ab33-159b27c2be7a"
      },
      "execution_count": null,
      "outputs": [
        {
          "output_type": "execute_result",
          "data": {
            "text/plain": [
              "                                               title  \\\n",
              "0  Convocados do Uruguai para a Copa do Mundo 202...   \n",
              "1  Conmebol divulga tabela detalhada da pré e da ...   \n",
              "2  Com assistência, Demethryus recebe elogios no ...   \n",
              "3  Athletico confirma fim de contrato com Welling...   \n",
              "4  Alô, cartoleiros! Atlético-PR passa limpo cont...   \n",
              "\n",
              "                                                text          club  \\\n",
              "0   O técnico Diego Alonso divulgou a lista dos 2...  athletico-pr   \n",
              "1   Argentinos são destaques no caminho dos brasi...  athletico-pr   \n",
              "2   O meia Demethryus conseguiu aproveitar bem a ...  athletico-pr   \n",
              "3   A reportagem do ge já havia adiantado que as ...  athletico-pr   \n",
              "4   O atacante Marcelo Cirino, desfalque já nos ú...  athletico-pr   \n",
              "\n",
              "                                                data  \n",
              "0  Convocados do Uruguai para a Copa do Mundo 202...  \n",
              "1  Conmebol divulga tabela detalhada da pré e da ...  \n",
              "2  Com assistência, Demethryus recebe elogios no ...  \n",
              "3  Athletico confirma fim de contrato com Welling...  \n",
              "4  Alô, cartoleiros! Atlético-PR passa limpo cont...  "
            ],
            "text/html": [
              "\n",
              "  <div id=\"df-bf76cb33-32de-4ab9-9717-e026f35bf463\" class=\"colab-df-container\">\n",
              "    <div>\n",
              "<style scoped>\n",
              "    .dataframe tbody tr th:only-of-type {\n",
              "        vertical-align: middle;\n",
              "    }\n",
              "\n",
              "    .dataframe tbody tr th {\n",
              "        vertical-align: top;\n",
              "    }\n",
              "\n",
              "    .dataframe thead th {\n",
              "        text-align: right;\n",
              "    }\n",
              "</style>\n",
              "<table border=\"1\" class=\"dataframe\">\n",
              "  <thead>\n",
              "    <tr style=\"text-align: right;\">\n",
              "      <th></th>\n",
              "      <th>title</th>\n",
              "      <th>text</th>\n",
              "      <th>club</th>\n",
              "      <th>data</th>\n",
              "    </tr>\n",
              "  </thead>\n",
              "  <tbody>\n",
              "    <tr>\n",
              "      <th>0</th>\n",
              "      <td>Convocados do Uruguai para a Copa do Mundo 202...</td>\n",
              "      <td>O técnico Diego Alonso divulgou a lista dos 2...</td>\n",
              "      <td>athletico-pr</td>\n",
              "      <td>Convocados do Uruguai para a Copa do Mundo 202...</td>\n",
              "    </tr>\n",
              "    <tr>\n",
              "      <th>1</th>\n",
              "      <td>Conmebol divulga tabela detalhada da pré e da ...</td>\n",
              "      <td>Argentinos são destaques no caminho dos brasi...</td>\n",
              "      <td>athletico-pr</td>\n",
              "      <td>Conmebol divulga tabela detalhada da pré e da ...</td>\n",
              "    </tr>\n",
              "    <tr>\n",
              "      <th>2</th>\n",
              "      <td>Com assistência, Demethryus recebe elogios no ...</td>\n",
              "      <td>O meia Demethryus conseguiu aproveitar bem a ...</td>\n",
              "      <td>athletico-pr</td>\n",
              "      <td>Com assistência, Demethryus recebe elogios no ...</td>\n",
              "    </tr>\n",
              "    <tr>\n",
              "      <th>3</th>\n",
              "      <td>Athletico confirma fim de contrato com Welling...</td>\n",
              "      <td>A reportagem do ge já havia adiantado que as ...</td>\n",
              "      <td>athletico-pr</td>\n",
              "      <td>Athletico confirma fim de contrato com Welling...</td>\n",
              "    </tr>\n",
              "    <tr>\n",
              "      <th>4</th>\n",
              "      <td>Alô, cartoleiros! Atlético-PR passa limpo cont...</td>\n",
              "      <td>O atacante Marcelo Cirino, desfalque já nos ú...</td>\n",
              "      <td>athletico-pr</td>\n",
              "      <td>Alô, cartoleiros! Atlético-PR passa limpo cont...</td>\n",
              "    </tr>\n",
              "  </tbody>\n",
              "</table>\n",
              "</div>\n",
              "    <div class=\"colab-df-buttons\">\n",
              "\n",
              "  <div class=\"colab-df-container\">\n",
              "    <button class=\"colab-df-convert\" onclick=\"convertToInteractive('df-bf76cb33-32de-4ab9-9717-e026f35bf463')\"\n",
              "            title=\"Convert this dataframe to an interactive table.\"\n",
              "            style=\"display:none;\">\n",
              "\n",
              "  <svg xmlns=\"http://www.w3.org/2000/svg\" height=\"24px\" viewBox=\"0 -960 960 960\">\n",
              "    <path d=\"M120-120v-720h720v720H120Zm60-500h600v-160H180v160Zm220 220h160v-160H400v160Zm0 220h160v-160H400v160ZM180-400h160v-160H180v160Zm440 0h160v-160H620v160ZM180-180h160v-160H180v160Zm440 0h160v-160H620v160Z\"/>\n",
              "  </svg>\n",
              "    </button>\n",
              "\n",
              "  <style>\n",
              "    .colab-df-container {\n",
              "      display:flex;\n",
              "      gap: 12px;\n",
              "    }\n",
              "\n",
              "    .colab-df-convert {\n",
              "      background-color: #E8F0FE;\n",
              "      border: none;\n",
              "      border-radius: 50%;\n",
              "      cursor: pointer;\n",
              "      display: none;\n",
              "      fill: #1967D2;\n",
              "      height: 32px;\n",
              "      padding: 0 0 0 0;\n",
              "      width: 32px;\n",
              "    }\n",
              "\n",
              "    .colab-df-convert:hover {\n",
              "      background-color: #E2EBFA;\n",
              "      box-shadow: 0px 1px 2px rgba(60, 64, 67, 0.3), 0px 1px 3px 1px rgba(60, 64, 67, 0.15);\n",
              "      fill: #174EA6;\n",
              "    }\n",
              "\n",
              "    .colab-df-buttons div {\n",
              "      margin-bottom: 4px;\n",
              "    }\n",
              "\n",
              "    [theme=dark] .colab-df-convert {\n",
              "      background-color: #3B4455;\n",
              "      fill: #D2E3FC;\n",
              "    }\n",
              "\n",
              "    [theme=dark] .colab-df-convert:hover {\n",
              "      background-color: #434B5C;\n",
              "      box-shadow: 0px 1px 3px 1px rgba(0, 0, 0, 0.15);\n",
              "      filter: drop-shadow(0px 1px 2px rgba(0, 0, 0, 0.3));\n",
              "      fill: #FFFFFF;\n",
              "    }\n",
              "  </style>\n",
              "\n",
              "    <script>\n",
              "      const buttonEl =\n",
              "        document.querySelector('#df-bf76cb33-32de-4ab9-9717-e026f35bf463 button.colab-df-convert');\n",
              "      buttonEl.style.display =\n",
              "        google.colab.kernel.accessAllowed ? 'block' : 'none';\n",
              "\n",
              "      async function convertToInteractive(key) {\n",
              "        const element = document.querySelector('#df-bf76cb33-32de-4ab9-9717-e026f35bf463');\n",
              "        const dataTable =\n",
              "          await google.colab.kernel.invokeFunction('convertToInteractive',\n",
              "                                                    [key], {});\n",
              "        if (!dataTable) return;\n",
              "\n",
              "        const docLinkHtml = 'Like what you see? Visit the ' +\n",
              "          '<a target=\"_blank\" href=https://colab.research.google.com/notebooks/data_table.ipynb>data table notebook</a>'\n",
              "          + ' to learn more about interactive tables.';\n",
              "        element.innerHTML = '';\n",
              "        dataTable['output_type'] = 'display_data';\n",
              "        await google.colab.output.renderOutput(dataTable, element);\n",
              "        const docLink = document.createElement('div');\n",
              "        docLink.innerHTML = docLinkHtml;\n",
              "        element.appendChild(docLink);\n",
              "      }\n",
              "    </script>\n",
              "  </div>\n",
              "\n",
              "\n",
              "<div id=\"df-70e0c61f-22c5-488d-aec2-4e1e99aa8b62\">\n",
              "  <button class=\"colab-df-quickchart\" onclick=\"quickchart('df-70e0c61f-22c5-488d-aec2-4e1e99aa8b62')\"\n",
              "            title=\"Suggest charts\"\n",
              "            style=\"display:none;\">\n",
              "\n",
              "<svg xmlns=\"http://www.w3.org/2000/svg\" height=\"24px\"viewBox=\"0 0 24 24\"\n",
              "     width=\"24px\">\n",
              "    <g>\n",
              "        <path d=\"M19 3H5c-1.1 0-2 .9-2 2v14c0 1.1.9 2 2 2h14c1.1 0 2-.9 2-2V5c0-1.1-.9-2-2-2zM9 17H7v-7h2v7zm4 0h-2V7h2v10zm4 0h-2v-4h2v4z\"/>\n",
              "    </g>\n",
              "</svg>\n",
              "  </button>\n",
              "\n",
              "<style>\n",
              "  .colab-df-quickchart {\n",
              "      --bg-color: #E8F0FE;\n",
              "      --fill-color: #1967D2;\n",
              "      --hover-bg-color: #E2EBFA;\n",
              "      --hover-fill-color: #174EA6;\n",
              "      --disabled-fill-color: #AAA;\n",
              "      --disabled-bg-color: #DDD;\n",
              "  }\n",
              "\n",
              "  [theme=dark] .colab-df-quickchart {\n",
              "      --bg-color: #3B4455;\n",
              "      --fill-color: #D2E3FC;\n",
              "      --hover-bg-color: #434B5C;\n",
              "      --hover-fill-color: #FFFFFF;\n",
              "      --disabled-bg-color: #3B4455;\n",
              "      --disabled-fill-color: #666;\n",
              "  }\n",
              "\n",
              "  .colab-df-quickchart {\n",
              "    background-color: var(--bg-color);\n",
              "    border: none;\n",
              "    border-radius: 50%;\n",
              "    cursor: pointer;\n",
              "    display: none;\n",
              "    fill: var(--fill-color);\n",
              "    height: 32px;\n",
              "    padding: 0;\n",
              "    width: 32px;\n",
              "  }\n",
              "\n",
              "  .colab-df-quickchart:hover {\n",
              "    background-color: var(--hover-bg-color);\n",
              "    box-shadow: 0 1px 2px rgba(60, 64, 67, 0.3), 0 1px 3px 1px rgba(60, 64, 67, 0.15);\n",
              "    fill: var(--button-hover-fill-color);\n",
              "  }\n",
              "\n",
              "  .colab-df-quickchart-complete:disabled,\n",
              "  .colab-df-quickchart-complete:disabled:hover {\n",
              "    background-color: var(--disabled-bg-color);\n",
              "    fill: var(--disabled-fill-color);\n",
              "    box-shadow: none;\n",
              "  }\n",
              "\n",
              "  .colab-df-spinner {\n",
              "    border: 2px solid var(--fill-color);\n",
              "    border-color: transparent;\n",
              "    border-bottom-color: var(--fill-color);\n",
              "    animation:\n",
              "      spin 1s steps(1) infinite;\n",
              "  }\n",
              "\n",
              "  @keyframes spin {\n",
              "    0% {\n",
              "      border-color: transparent;\n",
              "      border-bottom-color: var(--fill-color);\n",
              "      border-left-color: var(--fill-color);\n",
              "    }\n",
              "    20% {\n",
              "      border-color: transparent;\n",
              "      border-left-color: var(--fill-color);\n",
              "      border-top-color: var(--fill-color);\n",
              "    }\n",
              "    30% {\n",
              "      border-color: transparent;\n",
              "      border-left-color: var(--fill-color);\n",
              "      border-top-color: var(--fill-color);\n",
              "      border-right-color: var(--fill-color);\n",
              "    }\n",
              "    40% {\n",
              "      border-color: transparent;\n",
              "      border-right-color: var(--fill-color);\n",
              "      border-top-color: var(--fill-color);\n",
              "    }\n",
              "    60% {\n",
              "      border-color: transparent;\n",
              "      border-right-color: var(--fill-color);\n",
              "    }\n",
              "    80% {\n",
              "      border-color: transparent;\n",
              "      border-right-color: var(--fill-color);\n",
              "      border-bottom-color: var(--fill-color);\n",
              "    }\n",
              "    90% {\n",
              "      border-color: transparent;\n",
              "      border-bottom-color: var(--fill-color);\n",
              "    }\n",
              "  }\n",
              "</style>\n",
              "\n",
              "  <script>\n",
              "    async function quickchart(key) {\n",
              "      const quickchartButtonEl =\n",
              "        document.querySelector('#' + key + ' button');\n",
              "      quickchartButtonEl.disabled = true;  // To prevent multiple clicks.\n",
              "      quickchartButtonEl.classList.add('colab-df-spinner');\n",
              "      try {\n",
              "        const charts = await google.colab.kernel.invokeFunction(\n",
              "            'suggestCharts', [key], {});\n",
              "      } catch (error) {\n",
              "        console.error('Error during call to suggestCharts:', error);\n",
              "      }\n",
              "      quickchartButtonEl.classList.remove('colab-df-spinner');\n",
              "      quickchartButtonEl.classList.add('colab-df-quickchart-complete');\n",
              "    }\n",
              "    (() => {\n",
              "      let quickchartButtonEl =\n",
              "        document.querySelector('#df-70e0c61f-22c5-488d-aec2-4e1e99aa8b62 button');\n",
              "      quickchartButtonEl.style.display =\n",
              "        google.colab.kernel.accessAllowed ? 'block' : 'none';\n",
              "    })();\n",
              "  </script>\n",
              "</div>\n",
              "    </div>\n",
              "  </div>\n"
            ]
          },
          "metadata": {},
          "execution_count": 3
        }
      ]
    },
    {
      "cell_type": "code",
      "source": [
        "from sklearn.preprocessing import LabelEncoder\n",
        "\n",
        "# Cria um objeto LabelEncoder\n",
        "le = LabelEncoder()\n",
        "\n",
        "# Treinando o codificador de rótulos, transformando o nome do clube em um identificador numérico\n",
        "df['label'] = le.fit_transform(df['club'])\n",
        "\n",
        "# Removendo as colunas originais, não precisamos mais delas\n",
        "column_indices = [0, 1, 2]\n",
        "df.drop([df.columns[i] for i in column_indices], axis=1, inplace=True)\n",
        "\n",
        "df.head()"
      ],
      "metadata": {
        "colab": {
          "base_uri": "https://localhost:8080/",
          "height": 206
        },
        "id": "9BbMncPZ2OQ3",
        "outputId": "e4ded0a2-4b7f-44d4-a9ed-e7a4a236b8f4"
      },
      "execution_count": null,
      "outputs": [
        {
          "output_type": "execute_result",
          "data": {
            "text/plain": [
              "                                                data  label\n",
              "0  Convocados do Uruguai para a Copa do Mundo 202...      0\n",
              "1  Conmebol divulga tabela detalhada da pré e da ...      0\n",
              "2  Com assistência, Demethryus recebe elogios no ...      0\n",
              "3  Athletico confirma fim de contrato com Welling...      0\n",
              "4  Alô, cartoleiros! Atlético-PR passa limpo cont...      0"
            ],
            "text/html": [
              "\n",
              "  <div id=\"df-566bc459-d156-4042-9783-402dd0aab1b5\" class=\"colab-df-container\">\n",
              "    <div>\n",
              "<style scoped>\n",
              "    .dataframe tbody tr th:only-of-type {\n",
              "        vertical-align: middle;\n",
              "    }\n",
              "\n",
              "    .dataframe tbody tr th {\n",
              "        vertical-align: top;\n",
              "    }\n",
              "\n",
              "    .dataframe thead th {\n",
              "        text-align: right;\n",
              "    }\n",
              "</style>\n",
              "<table border=\"1\" class=\"dataframe\">\n",
              "  <thead>\n",
              "    <tr style=\"text-align: right;\">\n",
              "      <th></th>\n",
              "      <th>data</th>\n",
              "      <th>label</th>\n",
              "    </tr>\n",
              "  </thead>\n",
              "  <tbody>\n",
              "    <tr>\n",
              "      <th>0</th>\n",
              "      <td>Convocados do Uruguai para a Copa do Mundo 202...</td>\n",
              "      <td>0</td>\n",
              "    </tr>\n",
              "    <tr>\n",
              "      <th>1</th>\n",
              "      <td>Conmebol divulga tabela detalhada da pré e da ...</td>\n",
              "      <td>0</td>\n",
              "    </tr>\n",
              "    <tr>\n",
              "      <th>2</th>\n",
              "      <td>Com assistência, Demethryus recebe elogios no ...</td>\n",
              "      <td>0</td>\n",
              "    </tr>\n",
              "    <tr>\n",
              "      <th>3</th>\n",
              "      <td>Athletico confirma fim de contrato com Welling...</td>\n",
              "      <td>0</td>\n",
              "    </tr>\n",
              "    <tr>\n",
              "      <th>4</th>\n",
              "      <td>Alô, cartoleiros! Atlético-PR passa limpo cont...</td>\n",
              "      <td>0</td>\n",
              "    </tr>\n",
              "  </tbody>\n",
              "</table>\n",
              "</div>\n",
              "    <div class=\"colab-df-buttons\">\n",
              "\n",
              "  <div class=\"colab-df-container\">\n",
              "    <button class=\"colab-df-convert\" onclick=\"convertToInteractive('df-566bc459-d156-4042-9783-402dd0aab1b5')\"\n",
              "            title=\"Convert this dataframe to an interactive table.\"\n",
              "            style=\"display:none;\">\n",
              "\n",
              "  <svg xmlns=\"http://www.w3.org/2000/svg\" height=\"24px\" viewBox=\"0 -960 960 960\">\n",
              "    <path d=\"M120-120v-720h720v720H120Zm60-500h600v-160H180v160Zm220 220h160v-160H400v160Zm0 220h160v-160H400v160ZM180-400h160v-160H180v160Zm440 0h160v-160H620v160ZM180-180h160v-160H180v160Zm440 0h160v-160H620v160Z\"/>\n",
              "  </svg>\n",
              "    </button>\n",
              "\n",
              "  <style>\n",
              "    .colab-df-container {\n",
              "      display:flex;\n",
              "      gap: 12px;\n",
              "    }\n",
              "\n",
              "    .colab-df-convert {\n",
              "      background-color: #E8F0FE;\n",
              "      border: none;\n",
              "      border-radius: 50%;\n",
              "      cursor: pointer;\n",
              "      display: none;\n",
              "      fill: #1967D2;\n",
              "      height: 32px;\n",
              "      padding: 0 0 0 0;\n",
              "      width: 32px;\n",
              "    }\n",
              "\n",
              "    .colab-df-convert:hover {\n",
              "      background-color: #E2EBFA;\n",
              "      box-shadow: 0px 1px 2px rgba(60, 64, 67, 0.3), 0px 1px 3px 1px rgba(60, 64, 67, 0.15);\n",
              "      fill: #174EA6;\n",
              "    }\n",
              "\n",
              "    .colab-df-buttons div {\n",
              "      margin-bottom: 4px;\n",
              "    }\n",
              "\n",
              "    [theme=dark] .colab-df-convert {\n",
              "      background-color: #3B4455;\n",
              "      fill: #D2E3FC;\n",
              "    }\n",
              "\n",
              "    [theme=dark] .colab-df-convert:hover {\n",
              "      background-color: #434B5C;\n",
              "      box-shadow: 0px 1px 3px 1px rgba(0, 0, 0, 0.15);\n",
              "      filter: drop-shadow(0px 1px 2px rgba(0, 0, 0, 0.3));\n",
              "      fill: #FFFFFF;\n",
              "    }\n",
              "  </style>\n",
              "\n",
              "    <script>\n",
              "      const buttonEl =\n",
              "        document.querySelector('#df-566bc459-d156-4042-9783-402dd0aab1b5 button.colab-df-convert');\n",
              "      buttonEl.style.display =\n",
              "        google.colab.kernel.accessAllowed ? 'block' : 'none';\n",
              "\n",
              "      async function convertToInteractive(key) {\n",
              "        const element = document.querySelector('#df-566bc459-d156-4042-9783-402dd0aab1b5');\n",
              "        const dataTable =\n",
              "          await google.colab.kernel.invokeFunction('convertToInteractive',\n",
              "                                                    [key], {});\n",
              "        if (!dataTable) return;\n",
              "\n",
              "        const docLinkHtml = 'Like what you see? Visit the ' +\n",
              "          '<a target=\"_blank\" href=https://colab.research.google.com/notebooks/data_table.ipynb>data table notebook</a>'\n",
              "          + ' to learn more about interactive tables.';\n",
              "        element.innerHTML = '';\n",
              "        dataTable['output_type'] = 'display_data';\n",
              "        await google.colab.output.renderOutput(dataTable, element);\n",
              "        const docLink = document.createElement('div');\n",
              "        docLink.innerHTML = docLinkHtml;\n",
              "        element.appendChild(docLink);\n",
              "      }\n",
              "    </script>\n",
              "  </div>\n",
              "\n",
              "\n",
              "<div id=\"df-a61e2c9e-531e-42ef-80b1-cddef64d491b\">\n",
              "  <button class=\"colab-df-quickchart\" onclick=\"quickchart('df-a61e2c9e-531e-42ef-80b1-cddef64d491b')\"\n",
              "            title=\"Suggest charts\"\n",
              "            style=\"display:none;\">\n",
              "\n",
              "<svg xmlns=\"http://www.w3.org/2000/svg\" height=\"24px\"viewBox=\"0 0 24 24\"\n",
              "     width=\"24px\">\n",
              "    <g>\n",
              "        <path d=\"M19 3H5c-1.1 0-2 .9-2 2v14c0 1.1.9 2 2 2h14c1.1 0 2-.9 2-2V5c0-1.1-.9-2-2-2zM9 17H7v-7h2v7zm4 0h-2V7h2v10zm4 0h-2v-4h2v4z\"/>\n",
              "    </g>\n",
              "</svg>\n",
              "  </button>\n",
              "\n",
              "<style>\n",
              "  .colab-df-quickchart {\n",
              "      --bg-color: #E8F0FE;\n",
              "      --fill-color: #1967D2;\n",
              "      --hover-bg-color: #E2EBFA;\n",
              "      --hover-fill-color: #174EA6;\n",
              "      --disabled-fill-color: #AAA;\n",
              "      --disabled-bg-color: #DDD;\n",
              "  }\n",
              "\n",
              "  [theme=dark] .colab-df-quickchart {\n",
              "      --bg-color: #3B4455;\n",
              "      --fill-color: #D2E3FC;\n",
              "      --hover-bg-color: #434B5C;\n",
              "      --hover-fill-color: #FFFFFF;\n",
              "      --disabled-bg-color: #3B4455;\n",
              "      --disabled-fill-color: #666;\n",
              "  }\n",
              "\n",
              "  .colab-df-quickchart {\n",
              "    background-color: var(--bg-color);\n",
              "    border: none;\n",
              "    border-radius: 50%;\n",
              "    cursor: pointer;\n",
              "    display: none;\n",
              "    fill: var(--fill-color);\n",
              "    height: 32px;\n",
              "    padding: 0;\n",
              "    width: 32px;\n",
              "  }\n",
              "\n",
              "  .colab-df-quickchart:hover {\n",
              "    background-color: var(--hover-bg-color);\n",
              "    box-shadow: 0 1px 2px rgba(60, 64, 67, 0.3), 0 1px 3px 1px rgba(60, 64, 67, 0.15);\n",
              "    fill: var(--button-hover-fill-color);\n",
              "  }\n",
              "\n",
              "  .colab-df-quickchart-complete:disabled,\n",
              "  .colab-df-quickchart-complete:disabled:hover {\n",
              "    background-color: var(--disabled-bg-color);\n",
              "    fill: var(--disabled-fill-color);\n",
              "    box-shadow: none;\n",
              "  }\n",
              "\n",
              "  .colab-df-spinner {\n",
              "    border: 2px solid var(--fill-color);\n",
              "    border-color: transparent;\n",
              "    border-bottom-color: var(--fill-color);\n",
              "    animation:\n",
              "      spin 1s steps(1) infinite;\n",
              "  }\n",
              "\n",
              "  @keyframes spin {\n",
              "    0% {\n",
              "      border-color: transparent;\n",
              "      border-bottom-color: var(--fill-color);\n",
              "      border-left-color: var(--fill-color);\n",
              "    }\n",
              "    20% {\n",
              "      border-color: transparent;\n",
              "      border-left-color: var(--fill-color);\n",
              "      border-top-color: var(--fill-color);\n",
              "    }\n",
              "    30% {\n",
              "      border-color: transparent;\n",
              "      border-left-color: var(--fill-color);\n",
              "      border-top-color: var(--fill-color);\n",
              "      border-right-color: var(--fill-color);\n",
              "    }\n",
              "    40% {\n",
              "      border-color: transparent;\n",
              "      border-right-color: var(--fill-color);\n",
              "      border-top-color: var(--fill-color);\n",
              "    }\n",
              "    60% {\n",
              "      border-color: transparent;\n",
              "      border-right-color: var(--fill-color);\n",
              "    }\n",
              "    80% {\n",
              "      border-color: transparent;\n",
              "      border-right-color: var(--fill-color);\n",
              "      border-bottom-color: var(--fill-color);\n",
              "    }\n",
              "    90% {\n",
              "      border-color: transparent;\n",
              "      border-bottom-color: var(--fill-color);\n",
              "    }\n",
              "  }\n",
              "</style>\n",
              "\n",
              "  <script>\n",
              "    async function quickchart(key) {\n",
              "      const quickchartButtonEl =\n",
              "        document.querySelector('#' + key + ' button');\n",
              "      quickchartButtonEl.disabled = true;  // To prevent multiple clicks.\n",
              "      quickchartButtonEl.classList.add('colab-df-spinner');\n",
              "      try {\n",
              "        const charts = await google.colab.kernel.invokeFunction(\n",
              "            'suggestCharts', [key], {});\n",
              "      } catch (error) {\n",
              "        console.error('Error during call to suggestCharts:', error);\n",
              "      }\n",
              "      quickchartButtonEl.classList.remove('colab-df-spinner');\n",
              "      quickchartButtonEl.classList.add('colab-df-quickchart-complete');\n",
              "    }\n",
              "    (() => {\n",
              "      let quickchartButtonEl =\n",
              "        document.querySelector('#df-a61e2c9e-531e-42ef-80b1-cddef64d491b button');\n",
              "      quickchartButtonEl.style.display =\n",
              "        google.colab.kernel.accessAllowed ? 'block' : 'none';\n",
              "    })();\n",
              "  </script>\n",
              "</div>\n",
              "    </div>\n",
              "  </div>\n"
            ]
          },
          "metadata": {},
          "execution_count": 4
        }
      ]
    },
    {
      "cell_type": "code",
      "source": [
        "# Instalando uma versão atualizada de um grande modelo de linguagem pré-treinado em português\n",
        "!pip install https://github.com/explosion/spacy-models/releases/download/pt_core_news_lg-3.7.0/pt_core_news_lg-3.7.0.tar.gz"
      ],
      "metadata": {
        "colab": {
          "base_uri": "https://localhost:8080/",
          "height": 1000
        },
        "id": "UUhctOdz4dzX",
        "outputId": "54ef54a3-20e5-42c9-cd57-0f9d50705977"
      },
      "execution_count": null,
      "outputs": [
        {
          "output_type": "stream",
          "name": "stdout",
          "text": [
            "Collecting https://github.com/explosion/spacy-models/releases/download/pt_core_news_lg-3.7.0/pt_core_news_lg-3.7.0.tar.gz\n",
            "  Downloading https://github.com/explosion/spacy-models/releases/download/pt_core_news_lg-3.7.0/pt_core_news_lg-3.7.0.tar.gz (568.2 MB)\n",
            "\u001b[2K     \u001b[90m━━━━━━━━━━━━━━━━━━━━━━━━━━━━━━━━━━━━━━━━\u001b[0m \u001b[32m568.2/568.2 MB\u001b[0m \u001b[31m2.4 MB/s\u001b[0m eta \u001b[36m0:00:00\u001b[0m\n",
            "\u001b[?25h  Preparing metadata (setup.py) ... \u001b[?25l\u001b[?25hdone\n",
            "Collecting spacy<3.8.0,>=3.7.0 (from pt-core-news-lg==3.7.0)\n",
            "  Downloading spacy-3.7.2-cp310-cp310-manylinux_2_17_x86_64.manylinux2014_x86_64.whl (6.6 MB)\n",
            "\u001b[2K     \u001b[90m━━━━━━━━━━━━━━━━━━━━━━━━━━━━━━━━━━━━━━━━\u001b[0m \u001b[32m6.6/6.6 MB\u001b[0m \u001b[31m44.9 MB/s\u001b[0m eta \u001b[36m0:00:00\u001b[0m\n",
            "\u001b[?25hRequirement already satisfied: spacy-legacy<3.1.0,>=3.0.11 in /usr/local/lib/python3.10/dist-packages (from spacy<3.8.0,>=3.7.0->pt-core-news-lg==3.7.0) (3.0.12)\n",
            "Requirement already satisfied: spacy-loggers<2.0.0,>=1.0.0 in /usr/local/lib/python3.10/dist-packages (from spacy<3.8.0,>=3.7.0->pt-core-news-lg==3.7.0) (1.0.5)\n",
            "Requirement already satisfied: murmurhash<1.1.0,>=0.28.0 in /usr/local/lib/python3.10/dist-packages (from spacy<3.8.0,>=3.7.0->pt-core-news-lg==3.7.0) (1.0.10)\n",
            "Requirement already satisfied: cymem<2.1.0,>=2.0.2 in /usr/local/lib/python3.10/dist-packages (from spacy<3.8.0,>=3.7.0->pt-core-news-lg==3.7.0) (2.0.8)\n",
            "Requirement already satisfied: preshed<3.1.0,>=3.0.2 in /usr/local/lib/python3.10/dist-packages (from spacy<3.8.0,>=3.7.0->pt-core-news-lg==3.7.0) (3.0.9)\n",
            "Requirement already satisfied: thinc<8.3.0,>=8.1.8 in /usr/local/lib/python3.10/dist-packages (from spacy<3.8.0,>=3.7.0->pt-core-news-lg==3.7.0) (8.1.12)\n",
            "Requirement already satisfied: wasabi<1.2.0,>=0.9.1 in /usr/local/lib/python3.10/dist-packages (from spacy<3.8.0,>=3.7.0->pt-core-news-lg==3.7.0) (1.1.2)\n",
            "Requirement already satisfied: srsly<3.0.0,>=2.4.3 in /usr/local/lib/python3.10/dist-packages (from spacy<3.8.0,>=3.7.0->pt-core-news-lg==3.7.0) (2.4.8)\n",
            "Requirement already satisfied: catalogue<2.1.0,>=2.0.6 in /usr/local/lib/python3.10/dist-packages (from spacy<3.8.0,>=3.7.0->pt-core-news-lg==3.7.0) (2.0.10)\n",
            "Collecting weasel<0.4.0,>=0.1.0 (from spacy<3.8.0,>=3.7.0->pt-core-news-lg==3.7.0)\n",
            "  Downloading weasel-0.3.4-py3-none-any.whl (50 kB)\n",
            "\u001b[2K     \u001b[90m━━━━━━━━━━━━━━━━━━━━━━━━━━━━━━━━━━━━━━━━\u001b[0m \u001b[32m50.1/50.1 kB\u001b[0m \u001b[31m6.8 MB/s\u001b[0m eta \u001b[36m0:00:00\u001b[0m\n",
            "\u001b[?25hRequirement already satisfied: typer<0.10.0,>=0.3.0 in /usr/local/lib/python3.10/dist-packages (from spacy<3.8.0,>=3.7.0->pt-core-news-lg==3.7.0) (0.9.0)\n",
            "Requirement already satisfied: smart-open<7.0.0,>=5.2.1 in /usr/local/lib/python3.10/dist-packages (from spacy<3.8.0,>=3.7.0->pt-core-news-lg==3.7.0) (6.4.0)\n",
            "Requirement already satisfied: tqdm<5.0.0,>=4.38.0 in /usr/local/lib/python3.10/dist-packages (from spacy<3.8.0,>=3.7.0->pt-core-news-lg==3.7.0) (4.66.1)\n",
            "Requirement already satisfied: requests<3.0.0,>=2.13.0 in /usr/local/lib/python3.10/dist-packages (from spacy<3.8.0,>=3.7.0->pt-core-news-lg==3.7.0) (2.31.0)\n",
            "Requirement already satisfied: pydantic!=1.8,!=1.8.1,<3.0.0,>=1.7.4 in /usr/local/lib/python3.10/dist-packages (from spacy<3.8.0,>=3.7.0->pt-core-news-lg==3.7.0) (1.10.13)\n",
            "Requirement already satisfied: jinja2 in /usr/local/lib/python3.10/dist-packages (from spacy<3.8.0,>=3.7.0->pt-core-news-lg==3.7.0) (3.1.2)\n",
            "Requirement already satisfied: setuptools in /usr/local/lib/python3.10/dist-packages (from spacy<3.8.0,>=3.7.0->pt-core-news-lg==3.7.0) (67.7.2)\n",
            "Requirement already satisfied: packaging>=20.0 in /usr/local/lib/python3.10/dist-packages (from spacy<3.8.0,>=3.7.0->pt-core-news-lg==3.7.0) (23.2)\n",
            "Requirement already satisfied: langcodes<4.0.0,>=3.2.0 in /usr/local/lib/python3.10/dist-packages (from spacy<3.8.0,>=3.7.0->pt-core-news-lg==3.7.0) (3.3.0)\n",
            "Requirement already satisfied: numpy>=1.19.0 in /usr/local/lib/python3.10/dist-packages (from spacy<3.8.0,>=3.7.0->pt-core-news-lg==3.7.0) (1.23.5)\n",
            "Requirement already satisfied: typing-extensions>=4.2.0 in /usr/local/lib/python3.10/dist-packages (from pydantic!=1.8,!=1.8.1,<3.0.0,>=1.7.4->spacy<3.8.0,>=3.7.0->pt-core-news-lg==3.7.0) (4.5.0)\n",
            "Requirement already satisfied: charset-normalizer<4,>=2 in /usr/local/lib/python3.10/dist-packages (from requests<3.0.0,>=2.13.0->spacy<3.8.0,>=3.7.0->pt-core-news-lg==3.7.0) (3.3.2)\n",
            "Requirement already satisfied: idna<4,>=2.5 in /usr/local/lib/python3.10/dist-packages (from requests<3.0.0,>=2.13.0->spacy<3.8.0,>=3.7.0->pt-core-news-lg==3.7.0) (3.6)\n",
            "Requirement already satisfied: urllib3<3,>=1.21.1 in /usr/local/lib/python3.10/dist-packages (from requests<3.0.0,>=2.13.0->spacy<3.8.0,>=3.7.0->pt-core-news-lg==3.7.0) (2.0.7)\n",
            "Requirement already satisfied: certifi>=2017.4.17 in /usr/local/lib/python3.10/dist-packages (from requests<3.0.0,>=2.13.0->spacy<3.8.0,>=3.7.0->pt-core-news-lg==3.7.0) (2023.11.17)\n",
            "Requirement already satisfied: blis<0.8.0,>=0.7.8 in /usr/local/lib/python3.10/dist-packages (from thinc<8.3.0,>=8.1.8->spacy<3.8.0,>=3.7.0->pt-core-news-lg==3.7.0) (0.7.11)\n",
            "Requirement already satisfied: confection<1.0.0,>=0.0.1 in /usr/local/lib/python3.10/dist-packages (from thinc<8.3.0,>=8.1.8->spacy<3.8.0,>=3.7.0->pt-core-news-lg==3.7.0) (0.1.4)\n",
            "Requirement already satisfied: click<9.0.0,>=7.1.1 in /usr/local/lib/python3.10/dist-packages (from typer<0.10.0,>=0.3.0->spacy<3.8.0,>=3.7.0->pt-core-news-lg==3.7.0) (8.1.7)\n",
            "Collecting cloudpathlib<0.17.0,>=0.7.0 (from weasel<0.4.0,>=0.1.0->spacy<3.8.0,>=3.7.0->pt-core-news-lg==3.7.0)\n",
            "  Downloading cloudpathlib-0.16.0-py3-none-any.whl (45 kB)\n",
            "\u001b[2K     \u001b[90m━━━━━━━━━━━━━━━━━━━━━━━━━━━━━━━━━━━━━━━━\u001b[0m \u001b[32m45.0/45.0 kB\u001b[0m \u001b[31m6.1 MB/s\u001b[0m eta \u001b[36m0:00:00\u001b[0m\n",
            "\u001b[?25hRequirement already satisfied: MarkupSafe>=2.0 in /usr/local/lib/python3.10/dist-packages (from jinja2->spacy<3.8.0,>=3.7.0->pt-core-news-lg==3.7.0) (2.1.3)\n",
            "Building wheels for collected packages: pt-core-news-lg\n",
            "  Building wheel for pt-core-news-lg (setup.py) ... \u001b[?25l\u001b[?25hdone\n",
            "  Created wheel for pt-core-news-lg: filename=pt_core_news_lg-3.7.0-py3-none-any.whl size=568212788 sha256=90b3b855e7c0b7c3088826993a104e5cc4e2654b9fb3a7f3630efc0c64501b9e\n",
            "  Stored in directory: /root/.cache/pip/wheels/77/74/94/d4876f7b34383fdabdb61a2433a302ac487a87e8a6ce7925dc\n",
            "Successfully built pt-core-news-lg\n",
            "Installing collected packages: cloudpathlib, weasel, spacy, pt-core-news-lg\n",
            "  Attempting uninstall: spacy\n",
            "    Found existing installation: spacy 3.6.1\n",
            "    Uninstalling spacy-3.6.1:\n",
            "      Successfully uninstalled spacy-3.6.1\n",
            "\u001b[31mERROR: pip's dependency resolver does not currently take into account all the packages that are installed. This behaviour is the source of the following dependency conflicts.\n",
            "en-core-web-sm 3.6.0 requires spacy<3.7.0,>=3.6.0, but you have spacy 3.7.2 which is incompatible.\u001b[0m\u001b[31m\n",
            "\u001b[0mSuccessfully installed cloudpathlib-0.16.0 pt-core-news-lg-3.7.0 spacy-3.7.2 weasel-0.3.4\n"
          ]
        },
        {
          "output_type": "display_data",
          "data": {
            "application/vnd.colab-display-data+json": {
              "pip_warning": {
                "packages": [
                  "spacy"
                ]
              }
            }
          },
          "metadata": {}
        }
      ]
    },
    {
      "cell_type": "code",
      "source": [
        "import string\n",
        "import spacy\n",
        "import unicodedata\n",
        "from tqdm import tqdm\n",
        "import pandas as pd\n",
        "import numpy as np\n",
        "\n",
        "# Habilita o suporte do tqdm para métodos de progressão do pandas (como progress_apply)\n",
        "# Com isso, é possível ver barras de progresso em operções feitas no Pandas\n",
        "tqdm.pandas()\n",
        "\n",
        "# Carrega o modelo de linguagem 'pt_core_news_lg' do spaCy para processamento de texto em português\n",
        "# Desabilita os componentes 'parser' e 'ner', já que não são necessários para a lematização\n",
        "spacy_nlp_model = spacy.load(\"pt_core_news_lg\", disable=[\"parser\", \"ner\"])\n",
        "\n",
        "def preprocess_data(df, text_column):\n",
        "    \"\"\"\n",
        "    Realiza o pré-processamento dos dados de texto em um DataFrame do Pandas.\n",
        "    Remove pontuação, números e palavras comuns (stop words), converte para mínusculas,\n",
        "    remove acentos e símbolos diversos, e aplica lematização.\n",
        "    \"\"\"\n",
        "\n",
        "    # Cria uma tabela de tradução que mapeia cada caractere de pontuação do módulo `string.punctuation`\n",
        "    # para `None` (ou seja, remove-os do texto).\n",
        "    print(\"Removendo pontuação...\")\n",
        "    translator = str.maketrans('', '', string.punctuation) # Só usamos o terceiro parâmetro, que mapeia ocorrências de string.punctuation para None\n",
        "    df[text_column] = df[text_column].progress_apply(lambda x: x.translate(translator))\n",
        "\n",
        "    print(\"Removendo números...\")\n",
        "    translator = str.maketrans('', '', string.digits)\n",
        "    df[text_column] = df[text_column].progress_apply(lambda x: x.translate(translator))\n",
        "\n",
        "    print(\"Removendo acentos e símbolos diversos...\")\n",
        "    def remove_accents_and_symbols(text):\n",
        "        try:\n",
        "            # Normaliza a string para a forma NFKD e mantém apenas caracteres que não são diacríticos\n",
        "            # nem combinam caracteres com diacríticos\n",
        "            return ''.join(c for c in unicodedata.normalize('NFKD', text) if not unicodedata.combining(c) and unicodedata.category(c) != 'Mn')\n",
        "        except TypeError:\n",
        "            # Se não for possível normalizar um caractere, retorna uma string vazia\n",
        "            return ''\n",
        "\n",
        "    # Aplica a função 'remove_accents_and_symbols' na coluna 'text_column'\n",
        "    df[text_column] = df[text_column].progress_apply(lambda x: remove_accents_and_symbols(x))\n",
        "\n",
        "    print(\"Convertendo para minúsculas...\")\n",
        "    df[text_column] = df[text_column].progress_apply(lambda x: x.lower())\n",
        "\n",
        "    print(\"Computando Lematização...\")\n",
        "    def lemmatize_text(doc):\n",
        "        return [token.lemma_ for token in doc if not token.is_stop]\n",
        "\n",
        "    n_chunks = 10  # Ajuste esse valor de acordo com o tamanho da base de dados e a memória disponível no sistema\n",
        "    chunks = np.array_split(df, n_chunks) # Divide o dataframe em várias partes\n",
        "\n",
        "    processed_chunks = []\n",
        "    for i, chunk in enumerate(chunks):\n",
        "        print(f\"Processando segmento {i + 1} de {n_chunks}\")\n",
        "        processed_chunk = chunk.copy() # Cria uma cópia para realizar o processamento\n",
        "\n",
        "        #  Aplica a função 'lemmatize_text' a cada documento processado pelo spaCy (usando 'spacy_nlp_model.pipe') e\n",
        "        # atribui os resultados (uma lista de palavras lematizadas) à coluna 'text_column' do DataFrame 'processed_chunk'.\n",
        "        # O tqdm é utilizado para exibir uma barra de progresso durante o processamento dos documentos.\n",
        "        processed_chunk[text_column] = [lemmatize_text(doc) for doc in tqdm(spacy_nlp_model.pipe(chunk[text_column].astype(str), batch_size=100, disable=['parser', 'ner']), total=len(chunk[text_column]))]\n",
        "\n",
        "        # Junta as partes em uma lista, para formar o dataframe final\n",
        "        processed_chunks.append(processed_chunk)\n",
        "\n",
        "    concatenated_df = pd.concat(processed_chunks) # Concatenar os DataFrames processados\n",
        "    df[text_column] = concatenated_df[text_column] # Atribuir a coluna 'data' processada de volta ao dataframe original\n",
        "\n",
        "    print(\"Remover tokens com espaços vazios...\")\n",
        "    df['data'] = df['data'].progress_apply(lambda x: [token for token in x if token.strip()])"
      ],
      "metadata": {
        "id": "Zp8BodW93WO1"
      },
      "execution_count": null,
      "outputs": []
    },
    {
      "cell_type": "code",
      "source": [
        "preprocess_data(df, 'data') # Realiza o pré-processamento"
      ],
      "metadata": {
        "colab": {
          "base_uri": "https://localhost:8080/"
        },
        "id": "kDj39ofS3ZE0",
        "outputId": "062fa046-f6f3-4e92-d790-bf7fe1cbca76"
      },
      "execution_count": null,
      "outputs": [
        {
          "output_type": "stream",
          "name": "stdout",
          "text": [
            "Removendo pontuação...\n"
          ]
        },
        {
          "output_type": "stream",
          "name": "stderr",
          "text": [
            "100%|██████████| 191005/191005 [01:07<00:00, 2811.27it/s]\n"
          ]
        },
        {
          "output_type": "stream",
          "name": "stdout",
          "text": [
            "Removendo números...\n"
          ]
        },
        {
          "output_type": "stream",
          "name": "stderr",
          "text": [
            "100%|██████████| 191005/191005 [00:56<00:00, 3384.19it/s]\n"
          ]
        },
        {
          "output_type": "stream",
          "name": "stdout",
          "text": [
            "Removendo acentos e símbolos diversos...\n"
          ]
        },
        {
          "output_type": "stream",
          "name": "stderr",
          "text": [
            "100%|██████████| 191005/191005 [03:06<00:00, 1021.72it/s]\n"
          ]
        },
        {
          "output_type": "stream",
          "name": "stdout",
          "text": [
            "Convertendo para minúsculas...\n"
          ]
        },
        {
          "output_type": "stream",
          "name": "stderr",
          "text": [
            "100%|██████████| 191005/191005 [00:01<00:00, 118707.85it/s]\n"
          ]
        },
        {
          "output_type": "stream",
          "name": "stdout",
          "text": [
            "Computando Lematização...\n",
            "Processando segmento 1 de 10\n"
          ]
        },
        {
          "output_type": "stream",
          "name": "stderr",
          "text": [
            "100%|██████████| 19101/19101 [09:04<00:00, 35.10it/s]\n"
          ]
        },
        {
          "output_type": "stream",
          "name": "stdout",
          "text": [
            "Processando segmento 2 de 10\n"
          ]
        },
        {
          "output_type": "stream",
          "name": "stderr",
          "text": [
            "100%|██████████| 19101/19101 [09:47<00:00, 32.53it/s]\n"
          ]
        },
        {
          "output_type": "stream",
          "name": "stdout",
          "text": [
            "Processando segmento 3 de 10\n"
          ]
        },
        {
          "output_type": "stream",
          "name": "stderr",
          "text": [
            "100%|██████████| 19101/19101 [09:16<00:00, 34.29it/s]\n"
          ]
        },
        {
          "output_type": "stream",
          "name": "stdout",
          "text": [
            "Processando segmento 4 de 10\n"
          ]
        },
        {
          "output_type": "stream",
          "name": "stderr",
          "text": [
            "100%|██████████| 19101/19101 [09:06<00:00, 34.96it/s]\n"
          ]
        },
        {
          "output_type": "stream",
          "name": "stdout",
          "text": [
            "Processando segmento 5 de 10\n"
          ]
        },
        {
          "output_type": "stream",
          "name": "stderr",
          "text": [
            "100%|██████████| 19101/19101 [10:27<00:00, 30.42it/s]\n"
          ]
        },
        {
          "output_type": "stream",
          "name": "stdout",
          "text": [
            "Processando segmento 6 de 10\n"
          ]
        },
        {
          "output_type": "stream",
          "name": "stderr",
          "text": [
            "100%|██████████| 19100/19100 [08:35<00:00, 37.02it/s]\n"
          ]
        },
        {
          "output_type": "stream",
          "name": "stdout",
          "text": [
            "Processando segmento 7 de 10\n"
          ]
        },
        {
          "output_type": "stream",
          "name": "stderr",
          "text": [
            "100%|██████████| 19100/19100 [09:31<00:00, 33.43it/s]\n"
          ]
        },
        {
          "output_type": "stream",
          "name": "stdout",
          "text": [
            "Processando segmento 8 de 10\n"
          ]
        },
        {
          "output_type": "stream",
          "name": "stderr",
          "text": [
            "100%|██████████| 19100/19100 [08:59<00:00, 35.37it/s]\n"
          ]
        },
        {
          "output_type": "stream",
          "name": "stdout",
          "text": [
            "Processando segmento 9 de 10\n"
          ]
        },
        {
          "output_type": "stream",
          "name": "stderr",
          "text": [
            "100%|██████████| 19100/19100 [09:17<00:00, 34.26it/s]\n"
          ]
        },
        {
          "output_type": "stream",
          "name": "stdout",
          "text": [
            "Processando segmento 10 de 10\n"
          ]
        },
        {
          "output_type": "stream",
          "name": "stderr",
          "text": [
            "100%|██████████| 19100/19100 [09:40<00:00, 32.90it/s]\n"
          ]
        },
        {
          "output_type": "stream",
          "name": "stdout",
          "text": [
            "Remover tokens com espaços vazios...\n"
          ]
        },
        {
          "output_type": "stream",
          "name": "stderr",
          "text": [
            "100%|██████████| 191005/191005 [00:12<00:00, 15097.91it/s]\n"
          ]
        }
      ]
    },
    {
      "cell_type": "code",
      "source": [
        "# Salva em disco um dataframe com as notícias de futebol já pré-processadas\n",
        "df.to_pickle(DRIVE_FOLDER + 'ge_df.pkl')"
      ],
      "metadata": {
        "id": "JYjfEixFNliy"
      },
      "execution_count": null,
      "outputs": []
    },
    {
      "cell_type": "markdown",
      "source": [
        "# Preparação dos dados para o modelo de machine learning\n",
        "\n",
        "* Realiza tokenização dos textos, convertendo-os em sequências numéricas que representam palavras.\n",
        "* Calcula o comprimento máximo das sequências e aplica padding para normalizar o comprimento.\n",
        "* Carrega embeddings pré-treinados do GloVe para representação vetorial das palavras.\n",
        "* Prepara os rótulos (labels) para treinamento usando one-hot encoding."
      ],
      "metadata": {
        "id": "-89h3qOxRAvQ"
      }
    },
    {
      "cell_type": "code",
      "source": [
        "import pandas as pd\n",
        "\n",
        "# Carregamento do dataframe com notícias pré-processadas\n",
        "df = pd.read_pickle(DRIVE_FOLDER + 'ge_df.pkl')"
      ],
      "metadata": {
        "id": "_3AvKE_7RBMI"
      },
      "execution_count": null,
      "outputs": []
    },
    {
      "cell_type": "code",
      "source": [
        "df.head()"
      ],
      "metadata": {
        "id": "DCnzG_hORX9_",
        "outputId": "747d7cfd-075f-4afa-824d-ccdefdcb5647",
        "colab": {
          "base_uri": "https://localhost:8080/",
          "height": 206
        }
      },
      "execution_count": null,
      "outputs": [
        {
          "output_type": "execute_result",
          "data": {
            "text/plain": [
              "                                                data  label\n",
              "0  [convocar, uruguai, copa, mundo, lista, tecnic...      0\n",
              "1  [conmebol, divulgar, tabela, detalhar, pre, fa...      0\n",
              "2  [assistencia, demethryus, receber, elogio, atl...      0\n",
              "3  [athletico, confirmar, contrato, wellington, n...      0\n",
              "4  [alo, cartoleiro, atleticopr, passar, limpo, c...      0"
            ],
            "text/html": [
              "\n",
              "  <div id=\"df-79041a87-f97f-45dc-9adc-77dab0df149e\" class=\"colab-df-container\">\n",
              "    <div>\n",
              "<style scoped>\n",
              "    .dataframe tbody tr th:only-of-type {\n",
              "        vertical-align: middle;\n",
              "    }\n",
              "\n",
              "    .dataframe tbody tr th {\n",
              "        vertical-align: top;\n",
              "    }\n",
              "\n",
              "    .dataframe thead th {\n",
              "        text-align: right;\n",
              "    }\n",
              "</style>\n",
              "<table border=\"1\" class=\"dataframe\">\n",
              "  <thead>\n",
              "    <tr style=\"text-align: right;\">\n",
              "      <th></th>\n",
              "      <th>data</th>\n",
              "      <th>label</th>\n",
              "    </tr>\n",
              "  </thead>\n",
              "  <tbody>\n",
              "    <tr>\n",
              "      <th>0</th>\n",
              "      <td>[convocar, uruguai, copa, mundo, lista, tecnic...</td>\n",
              "      <td>0</td>\n",
              "    </tr>\n",
              "    <tr>\n",
              "      <th>1</th>\n",
              "      <td>[conmebol, divulgar, tabela, detalhar, pre, fa...</td>\n",
              "      <td>0</td>\n",
              "    </tr>\n",
              "    <tr>\n",
              "      <th>2</th>\n",
              "      <td>[assistencia, demethryus, receber, elogio, atl...</td>\n",
              "      <td>0</td>\n",
              "    </tr>\n",
              "    <tr>\n",
              "      <th>3</th>\n",
              "      <td>[athletico, confirmar, contrato, wellington, n...</td>\n",
              "      <td>0</td>\n",
              "    </tr>\n",
              "    <tr>\n",
              "      <th>4</th>\n",
              "      <td>[alo, cartoleiro, atleticopr, passar, limpo, c...</td>\n",
              "      <td>0</td>\n",
              "    </tr>\n",
              "  </tbody>\n",
              "</table>\n",
              "</div>\n",
              "    <div class=\"colab-df-buttons\">\n",
              "\n",
              "  <div class=\"colab-df-container\">\n",
              "    <button class=\"colab-df-convert\" onclick=\"convertToInteractive('df-79041a87-f97f-45dc-9adc-77dab0df149e')\"\n",
              "            title=\"Convert this dataframe to an interactive table.\"\n",
              "            style=\"display:none;\">\n",
              "\n",
              "  <svg xmlns=\"http://www.w3.org/2000/svg\" height=\"24px\" viewBox=\"0 -960 960 960\">\n",
              "    <path d=\"M120-120v-720h720v720H120Zm60-500h600v-160H180v160Zm220 220h160v-160H400v160Zm0 220h160v-160H400v160ZM180-400h160v-160H180v160Zm440 0h160v-160H620v160ZM180-180h160v-160H180v160Zm440 0h160v-160H620v160Z\"/>\n",
              "  </svg>\n",
              "    </button>\n",
              "\n",
              "  <style>\n",
              "    .colab-df-container {\n",
              "      display:flex;\n",
              "      gap: 12px;\n",
              "    }\n",
              "\n",
              "    .colab-df-convert {\n",
              "      background-color: #E8F0FE;\n",
              "      border: none;\n",
              "      border-radius: 50%;\n",
              "      cursor: pointer;\n",
              "      display: none;\n",
              "      fill: #1967D2;\n",
              "      height: 32px;\n",
              "      padding: 0 0 0 0;\n",
              "      width: 32px;\n",
              "    }\n",
              "\n",
              "    .colab-df-convert:hover {\n",
              "      background-color: #E2EBFA;\n",
              "      box-shadow: 0px 1px 2px rgba(60, 64, 67, 0.3), 0px 1px 3px 1px rgba(60, 64, 67, 0.15);\n",
              "      fill: #174EA6;\n",
              "    }\n",
              "\n",
              "    .colab-df-buttons div {\n",
              "      margin-bottom: 4px;\n",
              "    }\n",
              "\n",
              "    [theme=dark] .colab-df-convert {\n",
              "      background-color: #3B4455;\n",
              "      fill: #D2E3FC;\n",
              "    }\n",
              "\n",
              "    [theme=dark] .colab-df-convert:hover {\n",
              "      background-color: #434B5C;\n",
              "      box-shadow: 0px 1px 3px 1px rgba(0, 0, 0, 0.15);\n",
              "      filter: drop-shadow(0px 1px 2px rgba(0, 0, 0, 0.3));\n",
              "      fill: #FFFFFF;\n",
              "    }\n",
              "  </style>\n",
              "\n",
              "    <script>\n",
              "      const buttonEl =\n",
              "        document.querySelector('#df-79041a87-f97f-45dc-9adc-77dab0df149e button.colab-df-convert');\n",
              "      buttonEl.style.display =\n",
              "        google.colab.kernel.accessAllowed ? 'block' : 'none';\n",
              "\n",
              "      async function convertToInteractive(key) {\n",
              "        const element = document.querySelector('#df-79041a87-f97f-45dc-9adc-77dab0df149e');\n",
              "        const dataTable =\n",
              "          await google.colab.kernel.invokeFunction('convertToInteractive',\n",
              "                                                    [key], {});\n",
              "        if (!dataTable) return;\n",
              "\n",
              "        const docLinkHtml = 'Like what you see? Visit the ' +\n",
              "          '<a target=\"_blank\" href=https://colab.research.google.com/notebooks/data_table.ipynb>data table notebook</a>'\n",
              "          + ' to learn more about interactive tables.';\n",
              "        element.innerHTML = '';\n",
              "        dataTable['output_type'] = 'display_data';\n",
              "        await google.colab.output.renderOutput(dataTable, element);\n",
              "        const docLink = document.createElement('div');\n",
              "        docLink.innerHTML = docLinkHtml;\n",
              "        element.appendChild(docLink);\n",
              "      }\n",
              "    </script>\n",
              "  </div>\n",
              "\n",
              "\n",
              "<div id=\"df-63bedacc-c0aa-4822-9a84-57317e4c26ed\">\n",
              "  <button class=\"colab-df-quickchart\" onclick=\"quickchart('df-63bedacc-c0aa-4822-9a84-57317e4c26ed')\"\n",
              "            title=\"Suggest charts\"\n",
              "            style=\"display:none;\">\n",
              "\n",
              "<svg xmlns=\"http://www.w3.org/2000/svg\" height=\"24px\"viewBox=\"0 0 24 24\"\n",
              "     width=\"24px\">\n",
              "    <g>\n",
              "        <path d=\"M19 3H5c-1.1 0-2 .9-2 2v14c0 1.1.9 2 2 2h14c1.1 0 2-.9 2-2V5c0-1.1-.9-2-2-2zM9 17H7v-7h2v7zm4 0h-2V7h2v10zm4 0h-2v-4h2v4z\"/>\n",
              "    </g>\n",
              "</svg>\n",
              "  </button>\n",
              "\n",
              "<style>\n",
              "  .colab-df-quickchart {\n",
              "      --bg-color: #E8F0FE;\n",
              "      --fill-color: #1967D2;\n",
              "      --hover-bg-color: #E2EBFA;\n",
              "      --hover-fill-color: #174EA6;\n",
              "      --disabled-fill-color: #AAA;\n",
              "      --disabled-bg-color: #DDD;\n",
              "  }\n",
              "\n",
              "  [theme=dark] .colab-df-quickchart {\n",
              "      --bg-color: #3B4455;\n",
              "      --fill-color: #D2E3FC;\n",
              "      --hover-bg-color: #434B5C;\n",
              "      --hover-fill-color: #FFFFFF;\n",
              "      --disabled-bg-color: #3B4455;\n",
              "      --disabled-fill-color: #666;\n",
              "  }\n",
              "\n",
              "  .colab-df-quickchart {\n",
              "    background-color: var(--bg-color);\n",
              "    border: none;\n",
              "    border-radius: 50%;\n",
              "    cursor: pointer;\n",
              "    display: none;\n",
              "    fill: var(--fill-color);\n",
              "    height: 32px;\n",
              "    padding: 0;\n",
              "    width: 32px;\n",
              "  }\n",
              "\n",
              "  .colab-df-quickchart:hover {\n",
              "    background-color: var(--hover-bg-color);\n",
              "    box-shadow: 0 1px 2px rgba(60, 64, 67, 0.3), 0 1px 3px 1px rgba(60, 64, 67, 0.15);\n",
              "    fill: var(--button-hover-fill-color);\n",
              "  }\n",
              "\n",
              "  .colab-df-quickchart-complete:disabled,\n",
              "  .colab-df-quickchart-complete:disabled:hover {\n",
              "    background-color: var(--disabled-bg-color);\n",
              "    fill: var(--disabled-fill-color);\n",
              "    box-shadow: none;\n",
              "  }\n",
              "\n",
              "  .colab-df-spinner {\n",
              "    border: 2px solid var(--fill-color);\n",
              "    border-color: transparent;\n",
              "    border-bottom-color: var(--fill-color);\n",
              "    animation:\n",
              "      spin 1s steps(1) infinite;\n",
              "  }\n",
              "\n",
              "  @keyframes spin {\n",
              "    0% {\n",
              "      border-color: transparent;\n",
              "      border-bottom-color: var(--fill-color);\n",
              "      border-left-color: var(--fill-color);\n",
              "    }\n",
              "    20% {\n",
              "      border-color: transparent;\n",
              "      border-left-color: var(--fill-color);\n",
              "      border-top-color: var(--fill-color);\n",
              "    }\n",
              "    30% {\n",
              "      border-color: transparent;\n",
              "      border-left-color: var(--fill-color);\n",
              "      border-top-color: var(--fill-color);\n",
              "      border-right-color: var(--fill-color);\n",
              "    }\n",
              "    40% {\n",
              "      border-color: transparent;\n",
              "      border-right-color: var(--fill-color);\n",
              "      border-top-color: var(--fill-color);\n",
              "    }\n",
              "    60% {\n",
              "      border-color: transparent;\n",
              "      border-right-color: var(--fill-color);\n",
              "    }\n",
              "    80% {\n",
              "      border-color: transparent;\n",
              "      border-right-color: var(--fill-color);\n",
              "      border-bottom-color: var(--fill-color);\n",
              "    }\n",
              "    90% {\n",
              "      border-color: transparent;\n",
              "      border-bottom-color: var(--fill-color);\n",
              "    }\n",
              "  }\n",
              "</style>\n",
              "\n",
              "  <script>\n",
              "    async function quickchart(key) {\n",
              "      const quickchartButtonEl =\n",
              "        document.querySelector('#' + key + ' button');\n",
              "      quickchartButtonEl.disabled = true;  // To prevent multiple clicks.\n",
              "      quickchartButtonEl.classList.add('colab-df-spinner');\n",
              "      try {\n",
              "        const charts = await google.colab.kernel.invokeFunction(\n",
              "            'suggestCharts', [key], {});\n",
              "      } catch (error) {\n",
              "        console.error('Error during call to suggestCharts:', error);\n",
              "      }\n",
              "      quickchartButtonEl.classList.remove('colab-df-spinner');\n",
              "      quickchartButtonEl.classList.add('colab-df-quickchart-complete');\n",
              "    }\n",
              "    (() => {\n",
              "      let quickchartButtonEl =\n",
              "        document.querySelector('#df-63bedacc-c0aa-4822-9a84-57317e4c26ed button');\n",
              "      quickchartButtonEl.style.display =\n",
              "        google.colab.kernel.accessAllowed ? 'block' : 'none';\n",
              "    })();\n",
              "  </script>\n",
              "</div>\n",
              "\n",
              "    </div>\n",
              "  </div>\n"
            ]
          },
          "metadata": {},
          "execution_count": 4
        }
      ]
    },
    {
      "cell_type": "code",
      "source": [
        "texts = df['data'].tolist()  # Converte as notícias em listas de palavras, algo que o Tokenizador espera\n",
        "labels = df['label'].tolist()  # Rótulos das notícias"
      ],
      "metadata": {
        "id": "tRRVn0q4k5g3"
      },
      "execution_count": null,
      "outputs": []
    },
    {
      "cell_type": "code",
      "source": [
        "# Tokenização\n",
        "tokenizer = Tokenizer()\n",
        "tokenizer.fit_on_texts(texts)\n",
        "sequences = tokenizer.texts_to_sequences(texts)\n",
        "word_index = tokenizer.word_index"
      ],
      "metadata": {
        "id": "oUOHEC_wk_nB"
      },
      "execution_count": null,
      "outputs": []
    },
    {
      "cell_type": "code",
      "source": [
        "#word_index é um dicionário onde as chaves são as palavras e os valores são os índices dessas palavras.\n",
        "#Esse índice é útil para várias tarefas de NLP, como a criação de embeddings de palavras ou a preparação de dados para modelos de deep learning.\n",
        "word_index"
      ],
      "metadata": {
        "colab": {
          "base_uri": "https://localhost:8080/"
        },
        "id": "S5SAp06dBTvv",
        "outputId": "bccf8e38-f872-4888-cf02-e31ad4f093ab"
      },
      "execution_count": null,
      "outputs": [
        {
          "output_type": "execute_result",
          "data": {
            "text/plain": [
              "{'nao': 1,\n",
              " 'jogo': 2,\n",
              " 'gol': 3,\n",
              " 'clube': 4,\n",
              " 'sao': 5,\n",
              " 'time': 6,\n",
              " 'jogador': 7,\n",
              " 'ano': 8,\n",
              " 'equipe': 9,\n",
              " 'partida': 10,\n",
              " 'paulo': 11,\n",
              " '–': 12,\n",
              " 'tambem': 13,\n",
              " 'ja': 14,\n",
              " '—': 15,\n",
              " 'ge': 16,\n",
              " 'ate': 17,\n",
              " 'ser': 18,\n",
              " 'rodada': 19,\n",
              " 'flamengo': 20,\n",
              " 'vitoria': 21,\n",
              " 'brasileiro': 22,\n",
              " 'dia': 23,\n",
              " 'ultimo': 24,\n",
              " 'palmeira': 25,\n",
              " 'campeonato': 26,\n",
              " 'tecnico': 27,\n",
              " 'noticia': 28,\n",
              " 'bom': 29,\n",
              " 'jogar': 30,\n",
              " 'ficar': 31,\n",
              " 'fotor': 32,\n",
              " 'campo': 33,\n",
              " 'futebol': 34,\n",
              " 'copa': 35,\n",
              " 'chegar': 36,\n",
              " 'h': 37,\n",
              " 'brasileirao': 38,\n",
              " 'apos': 39,\n",
              " 'marcar': 40,\n",
              " 'brasil': 41,\n",
              " 'santo': 42,\n",
              " 'voce': 43,\n",
              " 'serie': 44,\n",
              " 'x': 45,\n",
              " 'ter': 46,\n",
              " 'gremio': 47,\n",
              " 'fluminense': 48,\n",
              " 'temporada': 49,\n",
              " 'atacante': 50,\n",
              " 'cruzeiro': 51,\n",
              " 'gente': 52,\n",
              " 'voltar': 53,\n",
              " 'acabar': 54,\n",
              " 'botafogo': 55,\n",
              " 'bola': 56,\n",
              " 'vasco': 57,\n",
              " 'atleta': 58,\n",
              " 'r': 59,\n",
              " 'passar': 60,\n",
              " 'so': 61,\n",
              " 'proximo': 62,\n",
              " 'vencer': 63,\n",
              " 'sera': 64,\n",
              " 'inter': 65,\n",
              " 'libertador': 66,\n",
              " 'casa': 67,\n",
              " 'tres': 68,\n",
              " 'entrar': 69,\n",
              " 'fazer': 70,\n",
              " 'ir': 71,\n",
              " 'treinador': 72,\n",
              " 'conseguir': 73,\n",
              " 'bahia': 74,\n",
              " 'torcedor': 75,\n",
              " 'corinthians': 76,\n",
              " 'titular': 77,\n",
              " 'corinthian': 78,\n",
              " 'domingo': 79,\n",
              " 'atleticomg': 80,\n",
              " 'tricolor': 81,\n",
              " 'torcida': 82,\n",
              " 'empate': 83,\n",
              " 'deixar': 84,\n",
              " 'dizer': 85,\n",
              " 'falar': 86,\n",
              " 'alem': 87,\n",
              " 'dar': 88,\n",
              " 'elenco': 89,\n",
              " 'perder': 90,\n",
              " 'fase': 91,\n",
              " 'disputar': 92,\n",
              " 'semana': 93,\n",
              " 'trabalho': 94,\n",
              " 'camisa': 95,\n",
              " 'seguir': 96,\n",
              " 'ultima': 97,\n",
              " 'sport': 98,\n",
              " 'precisar': 99,\n",
              " 'diretamente': 100,\n",
              " 'receber': 101,\n",
              " 'titulo': 102,\n",
              " 'ha': 103,\n",
              " 'estar': 104,\n",
              " 'inscrever': 105,\n",
              " 'ceara': 106,\n",
              " 'contrato': 107,\n",
              " 'minuto': 108,\n",
              " 'fortaleza': 109,\n",
              " 'zagueiro': 110,\n",
              " 'enfrentar': 111,\n",
              " 'sair': 112,\n",
              " 'derrota': 113,\n",
              " 'chance': 114,\n",
              " 'newsletter': 115,\n",
              " 'emailobrigado': 116,\n",
              " 'estadio': 117,\n",
              " 'caso': 118,\n",
              " 'volante': 119,\n",
              " 'goleiro': 120,\n",
              " 'b': 121,\n",
              " 'media': 122,\n",
              " 'haver': 123,\n",
              " 'ganhar': 124,\n",
              " 'sabado': 125,\n",
              " 'meia': 126,\n",
              " 'competicao': 127,\n",
              " 'arena': 128,\n",
              " 'treino': 129,\n",
              " 'levar': 130,\n",
              " 'milhoes': 131,\n",
              " 'atuar': 132,\n",
              " 'resultado': 133,\n",
              " 'estao': 134,\n",
              " 'sofrer': 135,\n",
              " 'socio': 136,\n",
              " 'ataque': 137,\n",
              " 'trabalhar': 138,\n",
              " 'comecar': 139,\n",
              " 'outro': 140,\n",
              " 'defesa': 141,\n",
              " 'importante': 142,\n",
              " 'acontecer': 143,\n",
              " 'passado': 144,\n",
              " 'principal': 145,\n",
              " 'adversario': 146,\n",
              " 'volta': 147,\n",
              " 'mostrar': 148,\n",
              " 'bruno': 149,\n",
              " 'esperar': 150,\n",
              " 'coritiba': 151,\n",
              " 'presidente': 152,\n",
              " 'hoje': 153,\n",
              " 'video': 154,\n",
              " 'contar': 155,\n",
              " 'poder': 156,\n",
              " 'quartafeira': 157,\n",
              " 'de ele': 158,\n",
              " 'durante': 159,\n",
              " 'ajudar': 160,\n",
              " 'base': 161,\n",
              " 'paulista': 162,\n",
              " 'area': 163,\n",
              " 'foto': 164,\n",
              " 'decisao': 165,\n",
              " 'vaga': 166,\n",
              " 'estatistico': 167,\n",
              " 'posicao': 168,\n",
              " 'internacional': 169,\n",
              " 'direito': 170,\n",
              " 'tabela': 171,\n",
              " 'manter': 172,\n",
              " 'lucas': 173,\n",
              " 'sub': 174,\n",
              " 'treinar': 175,\n",
              " 'athletico': 176,\n",
              " 'profissional': 177,\n",
              " 'buscar': 178,\n",
              " 'frente': 179,\n",
              " 'classico': 180,\n",
              " 'selecao': 181,\n",
              " 'abrir': 182,\n",
              " 'campeao': 183,\n",
              " 'duelo': 184,\n",
              " 'tr': 185,\n",
              " 'numero': 186,\n",
              " 'colocar': 187,\n",
              " 'terar': 188,\n",
              " 'entao': 189,\n",
              " 'muito': 190,\n",
              " 'achar': 191,\n",
              " 'bragantino': 192,\n",
              " 'espiao': 193,\n",
              " 'lateral': 194,\n",
              " 'oportunidade': 195,\n",
              " 'rio': 196,\n",
              " 'goias': 197,\n",
              " 'afirmar': 198,\n",
              " 'lesao': 199,\n",
              " 'vir': 200,\n",
              " 'realizar': 201,\n",
              " 'nome': 202,\n",
              " 'henrique': 203,\n",
              " 'ver': 204,\n",
              " 'conquistar': 205,\n",
              " 'expectativa': 206,\n",
              " 'gabriel': 207,\n",
              " 'apresentar': 208,\n",
              " 'quintafeira': 209,\n",
              " 'carioca': 210,\n",
              " 'galo': 211,\n",
              " 'problema': 212,\n",
              " 'felipe': 213,\n",
              " 'acordo': 214,\n",
              " 'diretoria': 215,\n",
              " 'situacao': 216,\n",
              " 'confronto': 217,\n",
              " 'sulamericano': 218,\n",
              " 'diego': 219,\n",
              " 'atleticogo': 220,\n",
              " 'conta': 221,\n",
              " 'lance': 222,\n",
              " 'classificacao': 223,\n",
              " 'mundo': 224,\n",
              " 'historia': 225,\n",
              " 'entrevista': 226,\n",
              " 'garantir': 227,\n",
              " 'forte': 228,\n",
              " 'rede': 229,\n",
              " 'abaixo': 230,\n",
              " 'marco': 231,\n",
              " 'atletico': 232,\n",
              " 'sequencia': 233,\n",
              " 'janeiro': 234,\n",
              " 'finalizacoes': 235,\n",
              " 'tentar': 236,\n",
              " 'esporte': 237,\n",
              " 'apo': 238,\n",
              " 'saida': 239,\n",
              " 'brasilia': 240,\n",
              " 'pedro': 241,\n",
              " 'alto': 242,\n",
              " 'la': 243,\n",
              " 'atual': 244,\n",
              " 'nota': 245,\n",
              " 'momento': 246,\n",
              " 'tercafeira': 247,\n",
              " 'leia': 248,\n",
              " 'dificil': 249,\n",
              " 'jogada': 250,\n",
              " 'diferente': 251,\n",
              " 'desempenho': 252,\n",
              " 'pedir': 253,\n",
              " 'visitante': 254,\n",
              " 'reforco': 255,\n",
              " 'guilherme': 256,\n",
              " 'possivel': 257,\n",
              " 'considerar': 258,\n",
              " 'unico': 259,\n",
              " 'timao': 260,\n",
              " 'apesar': 261,\n",
              " 'marcelo': 262,\n",
              " 'mandante': 263,\n",
              " 'rubronegro': 264,\n",
              " 'silva': 265,\n",
              " 'semifinal': 266,\n",
              " 'clique': 267,\n",
              " 'fechar': 268,\n",
              " 'estreia': 269,\n",
              " 'disputa': 270,\n",
              " 'saber': 271,\n",
              " 'thiago': 272,\n",
              " 'terminar': 273,\n",
              " 'rodrigo': 274,\n",
              " 'placar': 275,\n",
              " 'maracana': 276,\n",
              " 'querer': 277,\n",
              " 'porem': 278,\n",
              " 'contratar': 279,\n",
              " 'leo': 280,\n",
              " 'periodo': 281,\n",
              " 'valer': 282,\n",
              " 'pessoa': 283,\n",
              " 'confira': 284,\n",
              " 'reserva': 285,\n",
              " 'rival': 286,\n",
              " 'vantagem': 287,\n",
              " 'junior': 288,\n",
              " 'participar': 289,\n",
              " 'paranaense': 290,\n",
              " 'coxa': 291,\n",
              " 'espaco': 292,\n",
              " 'segundafeira': 293,\n",
              " 'mudanca': 294,\n",
              " 'quase': 295,\n",
              " 'acompanhar': 296,\n",
              " 'defender': 297,\n",
              " 'relacao': 298,\n",
              " 'matheus': 299,\n",
              " 'renato': 300,\n",
              " 'penalti': 301,\n",
              " 'hora': 302,\n",
              " 'esquerdo': 303,\n",
              " 'retorno': 304,\n",
              " 'confirmar': 305,\n",
              " 'luiz': 306,\n",
              " 'destacar': 307,\n",
              " 'assinar': 308,\n",
              " 'recuperar': 309,\n",
              " 'pensar': 310,\n",
              " 'carlos': 311,\n",
              " 'rafael': 312,\n",
              " 'viver': 313,\n",
              " 'definir': 314,\n",
              " 'pai': 315,\n",
              " 'eduardo': 316,\n",
              " 'jovem': 317,\n",
              " 'sextafeira': 318,\n",
              " 'analisar': 319,\n",
              " 'torneio': 320,\n",
              " 'alvinegro': 321,\n",
              " 'ct': 322,\n",
              " 'comissao': 323,\n",
              " 'atleticopr': 324,\n",
              " 'acertar': 325,\n",
              " 'lista': 326,\n",
              " 'estadual': 327,\n",
              " 'carreira': 328,\n",
              " 'diferenca': 329,\n",
              " 'campanha': 330,\n",
              " 'tomar': 331,\n",
              " 'noite': 332,\n",
              " 'mudar': 333,\n",
              " 'continuar': 334,\n",
              " 'gustavo': 335,\n",
              " 'certo': 336,\n",
              " 'primeiro': 337,\n",
              " 'criar': 338,\n",
              " 'real': 339,\n",
              " 'feliz': 340,\n",
              " 'cbf': 341,\n",
              " 'ingresso': 342,\n",
              " 'joao': 343,\n",
              " 'xg': 344,\n",
              " 'junto': 345,\n",
              " 'destaque': 346,\n",
              " 'cara': 347,\n",
              " 'nacional': 348,\n",
              " 'virar': 349,\n",
              " 'claro': 350,\n",
              " 'empatar': 351,\n",
              " 'lider': 352,\n",
              " 'acreditar': 353,\n",
              " 'arbitro': 354,\n",
              " 'ricardo': 355,\n",
              " 'passe': 356,\n",
              " 'desfalque': 357,\n",
              " 'atividade': 358,\n",
              " 'rebaixamento': 359,\n",
              " 'comandar': 360,\n",
              " 'anunciar': 361,\n",
              " 'setor': 362,\n",
              " 'fernando': 363,\n",
              " 'longo': 364,\n",
              " 'finalizacao': 365,\n",
              " 'fisico': 366,\n",
              " 'oliveira': 367,\n",
              " 'venda': 368,\n",
              " 'verdao': 369,\n",
              " 'proposta': 370,\n",
              " 'escalacao': 371,\n",
              " 'mesmo': 372,\n",
              " 'analise': 373,\n",
              " 'chamar': 374,\n",
              " 'andre': 375,\n",
              " 'somar': 376,\n",
              " 'ida': 377,\n",
              " 'ocorrer': 378,\n",
              " 'aproveitamento': 379,\n",
              " 'mercado': 380,\n",
              " 'aparecer': 381,\n",
              " 'completar': 382,\n",
              " 'santos': 383,\n",
              " 'decidir': 384,\n",
              " 'dificuldade': 385,\n",
              " 'entender': 386,\n",
              " 'argentino': 387,\n",
              " 'mineiro': 388,\n",
              " 'direto': 389,\n",
              " 'total': 390,\n",
              " 'social': 391,\n",
              " 'vila': 392,\n",
              " '“': 393,\n",
              " 'linha': 394,\n",
              " '”': 395,\n",
              " 'abel': 396,\n",
              " 'contratacao': 397,\n",
              " 'sportv': 398,\n",
              " 'medico': 399,\n",
              " 'publico': 400,\n",
              " 'confianca': 401,\n",
              " 'furacao': 402,\n",
              " 'assistencia': 403,\n",
              " 'banco': 404,\n",
              " 'gostar': 405,\n",
              " 'ofensivo': 406,\n",
              " 'coletivo': 407,\n",
              " 'pagar': 408,\n",
              " 'iniciar': 409,\n",
              " 'treinamento': 410,\n",
              " 'gaucho': 411,\n",
              " 'emprestimo': 412,\n",
              " 'coisa': 413,\n",
              " 'passagem': 414,\n",
              " 'oficial': 415,\n",
              " 'gramado': 416,\n",
              " 'marca': 417,\n",
              " 'globoesportecom': 418,\n",
              " 'possibilidade': 419,\n",
              " 'tirar': 420,\n",
              " 'mau': 421,\n",
              " 'comemorar': 422,\n",
              " 'formar': 423,\n",
              " 'retornar': 424,\n",
              " 'utilizar': 425,\n",
              " 'pereira': 426,\n",
              " 'assumir': 427,\n",
              " 'aproveitar': 428,\n",
              " 'lembrar': 429,\n",
              " 'revelar': 430,\n",
              " 'chapecoense': 431,\n",
              " 'finalizar': 432,\n",
              " 'conversa': 433,\n",
              " 'departamento': 434,\n",
              " 'sentir': 435,\n",
              " 'objetivo': 436,\n",
              " 'negociacao': 437,\n",
              " 'mes': 438,\n",
              " 'turno': 439,\n",
              " 'dezembro': 440,\n",
              " 'penaltis': 441,\n",
              " 'americamg': 442,\n",
              " 'ferreira': 443,\n",
              " 'cair': 444,\n",
              " 'proprio': 445,\n",
              " 'explicar': 446,\n",
              " 'forca': 447,\n",
              " 'entanto': 448,\n",
              " 'arbitragem': 449,\n",
              " 'colorado': 450,\n",
              " 'bater': 451,\n",
              " 'artilheiro': 452,\n",
              " 'etapa': 453,\n",
              " 'globo': 454,\n",
              " 'daniel': 455,\n",
              " 'acesso': 456,\n",
              " 'jorge': 457,\n",
              " 'provavel': 458,\n",
              " 'victor': 459,\n",
              " 'centroavante': 460,\n",
              " 'roberto': 461,\n",
              " 'positivo': 462,\n",
              " 'erro': 463,\n",
              " 'g': 464,\n",
              " 'alves': 465,\n",
              " 'caio': 466,\n",
              " 'categoria': 467,\n",
              " 'cabeca': 468,\n",
              " 'qualidade': 469,\n",
              " 'encontrar': 470,\n",
              " 'processo': 471,\n",
              " 'parar': 472,\n",
              " 'joelho': 473,\n",
              " 'atuacao': 474,\n",
              " 'opcao': 475,\n",
              " 'luan': 476,\n",
              " 'comando': 477,\n",
              " 'procurar': 478,\n",
              " 'atras': 479,\n",
              " 'luis': 480,\n",
              " 'principalmente': 481,\n",
              " 'novamente': 482,\n",
              " 'relacionar': 483,\n",
              " 'eu': 484,\n",
              " 'ceni': 485,\n",
              " 'ideia': 486,\n",
              " 'comentar': 487,\n",
              " 'roger': 488,\n",
              " 'vida': 489,\n",
              " 'zona': 490,\n",
              " 'manha': 491,\n",
              " 'decisivo': 492,\n",
              " 'disposicao': 493,\n",
              " 'premiere': 494,\n",
              " 'avai': 495,\n",
              " 'covid': 496,\n",
              " 'cerca': 497,\n",
              " 'futuro': 498,\n",
              " 'beirario': 499,\n",
              " 'chegada': 500,\n",
              " 'companheiro': 501,\n",
              " 'ai': 502,\n",
              " 'preto': 503,\n",
              " 'dirigente': 504,\n",
              " 'taca': 505,\n",
              " 'evitar': 506,\n",
              " 'ze': 507,\n",
              " 'cumprir': 508,\n",
              " 'defensivo': 509,\n",
              " 'encarar': 510,\n",
              " 'leao': 511,\n",
              " 'encerrar': 512,\n",
              " 'athleticopr': 513,\n",
              " 'divulgar': 514,\n",
              " 'conversar': 515,\n",
              " 'dinheiro': 516,\n",
              " 'plano': 517,\n",
              " 'melhorar': 518,\n",
              " 'seguinte': 519,\n",
              " 'horario': 520,\n",
              " 'financeiro': 521,\n",
              " 'edicao': 522,\n",
              " 'leandro': 523,\n",
              " 'serao': 524,\n",
              " 'nenhum': 525,\n",
              " 'juventude': 526,\n",
              " 'fabio': 527,\n",
              " 'peixe': 528,\n",
              " 'america': 529,\n",
              " 'recuperacao': 530,\n",
              " 'acima': 531,\n",
              " 'd': 532,\n",
              " 'entrada': 533,\n",
              " 'disponivel': 534,\n",
              " 'cobrar': 535,\n",
              " 'algum': 536,\n",
              " 'grupo': 537,\n",
              " 'faca': 538,\n",
              " 'diretor': 539,\n",
              " 'emprestar': 540,\n",
              " 'aereo': 541,\n",
              " 'busca': 542,\n",
              " 'morumbi': 543,\n",
              " 'trazer': 544,\n",
              " 'auxiliar': 545,\n",
              " 'cartola': 546,\n",
              " 'data': 547,\n",
              " 'rogerio': 548,\n",
              " 'assista': 549,\n",
              " 'questao': 550,\n",
              " 'fato': 551,\n",
              " 'mundial': 552,\n",
              " 'paulistao': 553,\n",
              " 'nordeste': 554,\n",
              " 'amarelo': 555,\n",
              " 'colocacao': 556,\n",
              " 'familia': 557,\n",
              " 'vitor': 558,\n",
              " 'estrela': 559,\n",
              " 'estrear': 560,\n",
              " 'dor': 561,\n",
              " 'classificar': 562,\n",
              " 'ranking': 563,\n",
              " 'divulgacao': 564,\n",
              " 'pouco': 565,\n",
              " 'preparar': 566,\n",
              " 'porto': 567,\n",
              " 'lideranca': 568,\n",
              " 'julho': 569,\n",
              " 'colocado': 570,\n",
              " 'pe': 571,\n",
              " 'ponte': 572,\n",
              " 'var': 573,\n",
              " 've': 574,\n",
              " 'avaliar': 575,\n",
              " 'quarto': 576,\n",
              " 'everton': 577,\n",
              " 'funcao': 578,\n",
              " 'garoto': 579,\n",
              " 'pressao': 580,\n",
              " 'conquista': 581,\n",
              " 'prever': 582,\n",
              " 'salario': 583,\n",
              " 'vao': 584,\n",
              " 'maneira': 585,\n",
              " 'mao': 586,\n",
              " 'fred': 587,\n",
              " 'mineirao': 588,\n",
              " 'suspensao': 589,\n",
              " 'tratar': 590,\n",
              " 'usar': 591,\n",
              " 'atuacoes': 592,\n",
              " 'viajar': 593,\n",
              " 'souza': 594,\n",
              " 'conhecer': 595,\n",
              " 'avancar': 596,\n",
              " 'troca': 597,\n",
              " 'marcacao': 598,\n",
              " 'lateraldireito': 599,\n",
              " 'briga': 600,\n",
              " 'errar': 601,\n",
              " 'fc': 602,\n",
              " 'tao': 603,\n",
              " 'muscular': 604,\n",
              " 'presenca': 605,\n",
              " 'vinicius': 606,\n",
              " 'tiago': 607,\n",
              " 'junho': 608,\n",
              " 'subir': 609,\n",
              " 'ruim': 610,\n",
              " 'cidade': 611,\n",
              " 'epoca': 612,\n",
              " 'aceitar': 613,\n",
              " 'interesse': 614,\n",
              " 'ribeiro': 615,\n",
              " 'justica': 616,\n",
              " 'liberar': 617,\n",
              " 'pra': 618,\n",
              " 'existir': 619,\n",
              " 'caracteristica': 620,\n",
              " 'experiencia': 621,\n",
              " 'preparacao': 622,\n",
              " 'chute': 623,\n",
              " 'maio': 624,\n",
              " 'costa': 625,\n",
              " 'belo': 626,\n",
              " 'preco': 627,\n",
              " 'negociar': 628,\n",
              " 'dupla': 629,\n",
              " 'flu': 630,\n",
              " 'nivel': 631,\n",
              " 'oferta': 632,\n",
              " 'liga': 633,\n",
              " 'suspender': 634,\n",
              " 'contato': 635,\n",
              " 'lateralesquerdo': 636,\n",
              " 'feminino': 637,\n",
              " 'tornar': 638,\n",
              " 'agosto': 639,\n",
              " 'pablo': 640,\n",
              " 'eliminar': 641,\n",
              " 'cartao': 642,\n",
              " 'vinculo': 643,\n",
              " 'completo': 644,\n",
              " 'cuiaba': 645,\n",
              " 'projeto': 646,\n",
              " 'superar': 647,\n",
              " 'novidade': 648,\n",
              " 'especial': 649,\n",
              " 'atencao': 650,\n",
              " 'alexandre': 651,\n",
              " 'c': 652,\n",
              " 'correr': 653,\n",
              " 'envolver': 654,\n",
              " 'jose': 655,\n",
              " 'pequeno': 656,\n",
              " 'idolo': 657,\n",
              " 'cesar': 658,\n",
              " 'imagem': 659,\n",
              " 'imprensa': 660,\n",
              " 'alegre': 661,\n",
              " 'atualmente': 662,\n",
              " 'pegar': 663,\n",
              " 'aumentar': 664,\n",
              " 'abril': 665,\n",
              " 'crescer': 666,\n",
              " 'detalhe': 667,\n",
              " 'faltar': 668,\n",
              " 'igor': 669,\n",
              " 'reproducao': 670,\n",
              " 'ninguem': 671,\n",
              " 'lima': 672,\n",
              " 'vivo': 673,\n",
              " 'causa': 674,\n",
              " 'antonio': 675,\n",
              " 'comeco': 676,\n",
              " 'permanecer': 677,\n",
              " 'ocupar': 678,\n",
              " 'sonho': 679,\n",
              " 'citar': 680,\n",
              " 'patrick': 681,\n",
              " 'amigo': 682,\n",
              " 'diniz': 683,\n",
              " 'premio': 684,\n",
              " 'renovar': 685,\n",
              " 'exclusivo': 686,\n",
              " 'escalar': 687,\n",
              " 'motivo': 688,\n",
              " 'gestao': 689,\n",
              " 'pandemia': 690,\n",
              " 'empresario': 691,\n",
              " 'mandar': 692,\n",
              " 'fevereiro': 693,\n",
              " 'elogiar': 694,\n",
              " 'rapido': 695,\n",
              " 'exame': 696,\n",
              " '🎧': 697,\n",
              " 'responsavel': 698,\n",
              " 'setembro': 699,\n",
              " 'acer': 700,\n",
              " 'depender': 701,\n",
              " 'tv': 702,\n",
              " 'willian': 703,\n",
              " 'divisao': 704,\n",
              " 'informar': 705,\n",
              " 'filho': 706,\n",
              " 'tendencia': 707,\n",
              " 'santa': 708,\n",
              " 'reuniao': 709,\n",
              " 'renovacao': 710,\n",
              " 'parana': 711,\n",
              " 'transmissao': 712,\n",
              " 'disponivelinfelizmente': 713,\n",
              " 'desculpeno': 714,\n",
              " 'aguardar': 715,\n",
              " 'poderar': 716,\n",
              " 'sul': 717,\n",
              " 'acao': 718,\n",
              " 'jean': 719,\n",
              " 'castelao': 720,\n",
              " 'evolucao': 721,\n",
              " 'pagamento': 722,\n",
              " 'intervalo': 723,\n",
              " 'brigar': 724,\n",
              " 'final': 725,\n",
              " 'formacao': 726,\n",
              " 'contratacoes': 727,\n",
              " 'fifa': 728,\n",
              " 'modelo': 729,\n",
              " 'vender': 730,\n",
              " 'compromisso': 731,\n",
              " 'praticamente': 732,\n",
              " 'baixada': 733,\n",
              " 'outubro': 734,\n",
              " 'participacao': 735,\n",
              " 'repetir': 736,\n",
              " 'cobranca': 737,\n",
              " 'danilo': 738,\n",
              " 'cuca': 739,\n",
              " 'teste': 740,\n",
              " 'produzir': 741,\n",
              " 'pedido': 742,\n",
              " 'cirurgia': 743,\n",
              " 'resolver': 744,\n",
              " 'grande': 745,\n",
              " 'duvida': 746,\n",
              " 'gerar': 747,\n",
              " 'valor': 748,\n",
              " 'publicar': 749,\n",
              " 'prazo': 750,\n",
              " 'queda': 751,\n",
              " 'transformar': 752,\n",
              " 'goleada': 753,\n",
              " 'mano': 754,\n",
              " 'grenal': 755,\n",
              " 'site': 756,\n",
              " 'potencial': 757,\n",
              " 'direcao': 758,\n",
              " 'tatico': 759,\n",
              " 'presente': 760,\n",
              " 'anderson': 761,\n",
              " 'nunes': 762,\n",
              " 'cearense': 763,\n",
              " 'cenario': 764,\n",
              " 'anterior': 765,\n",
              " 'de eles': 766,\n",
              " 'transicao': 767,\n",
              " 'admitir': 768,\n",
              " 'convocar': 769,\n",
              " 'zaga': 770,\n",
              " 'dado': 771,\n",
              " 'david': 772,\n",
              " 'mauricio': 773,\n",
              " 'terca': 774,\n",
              " 'ponta': 775,\n",
              " 'olho': 776,\n",
              " 'gomes': 777,\n",
              " 'assistir': 778,\n",
              " 'respeito': 779,\n",
              " 'compra': 780,\n",
              " 'referencia': 781,\n",
              " 'desafio': 782,\n",
              " 'justamente': 783,\n",
              " 'risco': 784,\n",
              " 'distancia': 785,\n",
              " 'escolher': 786,\n",
              " 'historico': 787,\n",
              " 'v': 788,\n",
              " 'maximo': 789,\n",
              " 'dividir': 790,\n",
              " 'empresa': 791,\n",
              " 'gabigol': 792,\n",
              " 'transferencia': 793,\n",
              " 'pele': 794,\n",
              " 'virada': 795,\n",
              " 'representar': 796,\n",
              " 'parceria': 797,\n",
              " 'comandante': 798,\n",
              " 'devido': 799,\n",
              " 'passo': 800,\n",
              " 'clicar': 801,\n",
              " 'acerto': 802,\n",
              " 'missao': 803,\n",
              " 'conhecimento': 804,\n",
              " 'dever': 805,\n",
              " 'gauchao': 806,\n",
              " 'douglas': 807,\n",
              " 'dudu': 808,\n",
              " 'argentina': 809,\n",
              " 'augusto': 810,\n",
              " 'inicial': 811,\n",
              " 'preciso': 812,\n",
              " 'novembro': 813,\n",
              " 'favoritismo': 814,\n",
              " 'poupar': 815,\n",
              " 'parque': 816,\n",
              " 'fizemos': 817,\n",
              " 'nautico': 818,\n",
              " 'pessoal': 819,\n",
              " 'wellington': 820,\n",
              " 'express': 821,\n",
              " 'alviverde': 822,\n",
              " 'derrotar': 823,\n",
              " 'de esse': 824,\n",
              " 'conteudo': 825,\n",
              " 'csa': 826,\n",
              " 'gigante': 827,\n",
              " 'federacao': 828,\n",
              " 'capitao': 829,\n",
              " 'uruguaio': 830,\n",
              " 'defensor': 831,\n",
              " 'servir': 832,\n",
              " 'vontade': 833,\n",
              " 'reta': 834,\n",
              " 'probabilidade': 835,\n",
              " 'belmiro': 836,\n",
              " 'vestiario': 837,\n",
              " 'raposa': 838,\n",
              " 'ronaldo': 839,\n",
              " 'river': 840,\n",
              " 'vice': 841,\n",
              " 'ritmo': 842,\n",
              " 'comprar': 843,\n",
              " 'carvalho': 844,\n",
              " 'negocio': 845,\n",
              " 'dourar': 846,\n",
              " 'euro': 847,\n",
              " 'triunfo': 848,\n",
              " 'resposta': 849,\n",
              " 'olimpico': 850,\n",
              " 'meiocampo': 851,\n",
              " 'cruzamento': 852,\n",
              " 'fla': 853,\n",
              " 'alex': 854,\n",
              " 'dragao': 855,\n",
              " 'multa': 856,\n",
              " 'alberto': 857,\n",
              " 'cadastrar': 858,\n",
              " 'normal': 859,\n",
              " 'gremista': 860,\n",
              " 'restante': 861,\n",
              " 'lamentar': 862,\n",
              " 'ilha': 863,\n",
              " 'responsabilidade': 864,\n",
              " 'seguranca': 865,\n",
              " 'ira': 866,\n",
              " 'machado': 867,\n",
              " 'felipao': 868,\n",
              " 'cruz': 869,\n",
              " 'liderar': 870,\n",
              " 'jair': 871,\n",
              " 'vermelho': 872,\n",
              " 'assunto': 873,\n",
              " 'boca': 874,\n",
              " 'guarani': 875,\n",
              " 'jesus': 876,\n",
              " 'olhar': 877,\n",
              " 'evento': 878,\n",
              " 'januario': 879,\n",
              " 'rei': 880,\n",
              " 'afastar': 881,\n",
              " 'vario': 882,\n",
              " 'meta': 883,\n",
              " 'retomar': 884,\n",
              " 'sucesso': 885,\n",
              " 'nilton': 886,\n",
              " 'europa': 887,\n",
              " 'permanencia': 888,\n",
              " 'bull': 889,\n",
              " 'posse': 890,\n",
              " 'central': 891,\n",
              " 'trocar': 892,\n",
              " 'comentarista': 893,\n",
              " 'representante': 894,\n",
              " 'amistoso': 895,\n",
              " 'luciano': 896,\n",
              " 'condicao': 897,\n",
              " 'baiano': 898,\n",
              " 'braga': 899,\n",
              " 'vestir': 900,\n",
              " 'guto': 901,\n",
              " 'velocidade': 902,\n",
              " 'organizar': 903,\n",
              " 'melo': 904,\n",
              " 'comentario': 905,\n",
              " 'divida': 906,\n",
              " 'arquibancada': 907,\n",
              " 'conmebol': 908,\n",
              " 'apontar': 909,\n",
              " 'pendurar': 910,\n",
              " 'horizonte': 911,\n",
              " 'recentemente': 912,\n",
              " 'leonardo': 913,\n",
              " 'rocha': 914,\n",
              " 'livre': 915,\n",
              " 'cassio': 916,\n",
              " 'menino': 917,\n",
              " 'recente': 918,\n",
              " 'verdade': 919,\n",
              " 'facil': 920,\n",
              " 'ausencia': 921,\n",
              " 'conduzir': 922,\n",
              " 'fundamental': 923,\n",
              " 'janela': 924,\n",
              " 'evoluir': 925,\n",
              " 'ata': 926,\n",
              " 'setimo': 927,\n",
              " 'registrar': 928,\n",
              " 'carille': 929,\n",
              " 'academia': 930,\n",
              " 'deus': 931,\n",
              " 'optar': 932,\n",
              " 'rendimento': 933,\n",
              " 'tranquilo': 934,\n",
              " 'metade': 935,\n",
              " 'sampaoli': 936,\n",
              " 'palmeirense': 937,\n",
              " 'encaminhar': 938,\n",
              " 'necessidade': 939,\n",
              " 'importancia': 940,\n",
              " 'alan': 941,\n",
              " 'experiente': 942,\n",
              " 'mando': 943,\n",
              " 'guerrero': 944,\n",
              " 'oitavo': 945,\n",
              " 'vanderlei': 946,\n",
              " 'podcast': 947,\n",
              " 'yuri': 948,\n",
              " 'ultim': 949,\n",
              " 'bora': 950,\n",
              " 'eliminacao': 951,\n",
              " 'capital': 952,\n",
              " 'cargo': 953,\n",
              " 'reportagem': 954,\n",
              " 'montar': 955,\n",
              " 'substituer': 956,\n",
              " 'fernandes': 957,\n",
              " 'permitir': 958,\n",
              " 'quartafeiro': 959,\n",
              " 'economico': 960,\n",
              " 'expulso': 961,\n",
              " 'viagem': 962,\n",
              " 'confirer': 963,\n",
              " 'goia': 964,\n",
              " 'massa': 965,\n",
              " 'sergio': 966,\n",
              " 'foco': 967,\n",
              " 'questionar': 968,\n",
              " 'centro': 969,\n",
              " 'lutar': 970,\n",
              " 'festa': 971,\n",
              " 'delegacao': 972,\n",
              " 'dono': 973,\n",
              " 'tornozelo': 974,\n",
              " 'fonte': 975,\n",
              " 'condicoes': 976,\n",
              " 'reforcar': 977,\n",
              " 'receita': 978,\n",
              " 'londrina': 979,\n",
              " 'postura': 980,\n",
              " 'marcos': 981,\n",
              " 'medida': 982,\n",
              " 'apostar': 983,\n",
              " 'agradecer': 984,\n",
              " 'estilo': 985,\n",
              " 'voz': 986,\n",
              " 'entregar': 987,\n",
              " 'competicoes': 988,\n",
              " 'promover': 989,\n",
              " 'peca': 990,\n",
              " 'funcionario': 991,\n",
              " 'chutar': 992,\n",
              " 'responder': 993,\n",
              " 'brasileiroes': 994,\n",
              " 'tratamento': 995,\n",
              " 'melhor': 996,\n",
              " 'juninho': 997,\n",
              " 'reclamar': 998,\n",
              " 'colombiano': 999,\n",
              " 'levantar': 1000,\n",
              " ...}"
            ]
          },
          "metadata": {},
          "execution_count": 8
        }
      ]
    },
    {
      "cell_type": "code",
      "source": [
        "import pickle\n",
        "\n",
        "# Salva o tokenizador em um arquivo (precisamos dele mais tarde, quando realizarmos as inferências)\n",
        "with open(DRIVE_FOLDER + 'tokenizer.pkl', 'wb') as file:\n",
        "    pickle.dump(tokenizer, file)"
      ],
      "metadata": {
        "id": "JV8l4oVpU4Re"
      },
      "execution_count": null,
      "outputs": []
    },
    {
      "cell_type": "code",
      "source": [
        "import numpy as np\n",
        "\n",
        "# Calcula o comprimento de cada sequência em 'sequences' e armazena os resultados na lista 'sequence_lengths'\n",
        "sequence_lengths = [len(seq) for seq in sequences]\n",
        "\n",
        "# Calcula a média dos comprimentos das sequências usando a função 'mean' do numpy\n",
        "mean_length = np.mean(sequence_lengths)\n",
        "\n",
        "# Obtém o comprimento máximo das sequências usando a função 'max' do Python\n",
        "max_length = max(sequence_lengths)\n",
        "\n",
        "# Imprime a média e o comprimento máximo das sequências\n",
        "print(\"Mean sequence length: \", mean_length)\n",
        "print(\"Maximum sequence length: \", max_length)"
      ],
      "metadata": {
        "colab": {
          "base_uri": "https://localhost:8080/"
        },
        "id": "FDCSrBFUUYo9",
        "outputId": "3d9b7940-1d3c-4ea6-f9d7-12e1794cb31e"
      },
      "execution_count": null,
      "outputs": [
        {
          "output_type": "stream",
          "name": "stdout",
          "text": [
            "Mean sequence length:  207.9075155100652\n",
            "Maximum sequence length:  4967\n"
          ]
        }
      ]
    },
    {
      "cell_type": "code",
      "source": [
        "import numpy as np\n",
        "from tensorflow.keras.preprocessing.sequence import pad_sequences\n",
        "\n",
        "# Calcula o percentil 95 dos comprimentos das sequências (preserva 95% das sequências)\n",
        "max_length = int(np.percentile(sequence_lengths, 95))\n",
        "\n",
        "# Realiza o preenchimento das sequências com base no novo 'max_length'\n",
        "padded_sequences = pad_sequences(sequences, maxlen=max_length, padding='post')"
      ],
      "metadata": {
        "id": "NoMkBBj1VKMY"
      },
      "execution_count": null,
      "outputs": []
    },
    {
      "cell_type": "markdown",
      "source": [
        "# GLoVe"
      ],
      "metadata": {
        "id": "42Dx9ObCLJdR"
      }
    },
    {
      "cell_type": "code",
      "source": [
        "# Carrega os embeddings do GLoVe\n",
        "embeddings_index = {}\n",
        "with open(DRIVE_FOLDER + 'glove.6B.100d.txt', encoding='utf-8') as f:\n",
        "    for line in f:\n",
        "        values = line.split()\n",
        "        word = values[0]\n",
        "        coefs = np.asarray(values[1:], dtype='float32')\n",
        "        embeddings_index[word] = coefs"
      ],
      "metadata": {
        "id": "Cw9sqKQUol1-"
      },
      "execution_count": null,
      "outputs": []
    },
    {
      "cell_type": "code",
      "source": [
        "# Preparar a matriz de embedding\n",
        "embedding_dim = 100  # o tamanho do seu GLoVe embeddings\n",
        "embedding_matrix = np.zeros((len(word_index) + 1, embedding_dim))\n",
        "for word, i in word_index.items():\n",
        "    embedding_vector = embeddings_index.get(word)\n",
        "    if embedding_vector is not None:\n",
        "        embedding_matrix[i] = embedding_vector"
      ],
      "metadata": {
        "id": "aE4tJvzbo68m"
      },
      "execution_count": null,
      "outputs": []
    },
    {
      "cell_type": "code",
      "source": [
        "# One-hot encoding dos rótulos\n",
        "num_classes = len(np.unique(labels))  # Número de classes únicas\n",
        "labels = to_categorical(labels, num_classes=num_classes)"
      ],
      "metadata": {
        "id": "4uGjw5Nmo9Kn"
      },
      "execution_count": null,
      "outputs": []
    },
    {
      "cell_type": "code",
      "source": [
        "from sklearn.model_selection import train_test_split\n",
        "\n",
        "# Divida os dados em um conjunto de treino (70%) e um conjunto temporário (30%)\n",
        "X_train, X_temp, y_train, y_temp = train_test_split(padded_sequences, labels, test_size=0.3)\n",
        "\n",
        "# Divida o conjunto temporário em conjuntos de validação (15%) e teste (15%)\n",
        "X_val, X_test, y_val, y_test = train_test_split(X_temp, y_temp, test_size=0.5)  # 0.5 * 0.3 = 0.15"
      ],
      "metadata": {
        "id": "TymaP2LYOj3u"
      },
      "execution_count": null,
      "outputs": []
    },
    {
      "cell_type": "code",
      "source": [
        "# Construindo o modelo\n",
        "model = Sequential()\n",
        "model.add(Embedding(len(word_index) + 1, embedding_dim, weights=[embedding_matrix], trainable=False))\n",
        "model.add(Bidirectional(LSTM(64, return_sequences=True)))\n",
        "model.add(Bidirectional(LSTM(32)))\n",
        "model.add(Dense(num_classes, activation='softmax'))  # Camada de saída para classificação multiclasse\n",
        "\n",
        "# Chamada ao Early Stopping\n",
        "early_stopping = EarlyStopping(monitor='val_loss', patience=5)\n",
        "\n",
        "model.compile(loss='categorical_crossentropy', optimizer='adam', metrics=['accuracy'])\n",
        "\n",
        "# Treinamento do modelo\n",
        "history = model.fit(X_train, y_train, batch_size=128, epochs=40, validation_data=(X_val, y_val), callbacks=[early_stopping])"
      ],
      "metadata": {
        "id": "LHtsctS3o_ii",
        "colab": {
          "base_uri": "https://localhost:8080/"
        },
        "outputId": "1986cbaa-c1fd-4020-eb4f-1a01c143febf"
      },
      "execution_count": null,
      "outputs": [
        {
          "output_type": "stream",
          "name": "stdout",
          "text": [
            "Epoch 1/40\n",
            "1045/1045 [==============================] - 79s 69ms/step - loss: 1.3698 - accuracy: 0.6451 - val_loss: 0.9434 - val_accuracy: 0.7537\n",
            "Epoch 2/40\n",
            "1045/1045 [==============================] - 71s 68ms/step - loss: 0.8471 - accuracy: 0.7708 - val_loss: 0.7731 - val_accuracy: 0.7834\n",
            "Epoch 3/40\n",
            "1045/1045 [==============================] - 70s 67ms/step - loss: 0.7275 - accuracy: 0.7906 - val_loss: 0.6973 - val_accuracy: 0.7957\n",
            "Epoch 4/40\n",
            "1045/1045 [==============================] - 71s 68ms/step - loss: 0.6687 - accuracy: 0.7995 - val_loss: 0.6632 - val_accuracy: 0.7992\n",
            "Epoch 5/40\n",
            "1045/1045 [==============================] - 71s 68ms/step - loss: 0.6321 - accuracy: 0.8053 - val_loss: 0.6308 - val_accuracy: 0.8018\n",
            "Epoch 6/40\n",
            "1045/1045 [==============================] - 71s 68ms/step - loss: 0.6064 - accuracy: 0.8084 - val_loss: 0.6184 - val_accuracy: 0.8046\n",
            "Epoch 7/40\n",
            "1045/1045 [==============================] - 71s 68ms/step - loss: 0.5875 - accuracy: 0.8112 - val_loss: 0.6150 - val_accuracy: 0.8048\n",
            "Epoch 8/40\n",
            "1045/1045 [==============================] - 71s 68ms/step - loss: 0.5708 - accuracy: 0.8153 - val_loss: 0.6088 - val_accuracy: 0.8054\n",
            "Epoch 9/40\n",
            "1045/1045 [==============================] - 71s 68ms/step - loss: 0.5550 - accuracy: 0.8174 - val_loss: 0.6018 - val_accuracy: 0.8052\n",
            "Epoch 10/40\n",
            "1045/1045 [==============================] - 71s 68ms/step - loss: 0.5427 - accuracy: 0.8200 - val_loss: 0.6091 - val_accuracy: 0.8055\n",
            "Epoch 11/40\n",
            "1045/1045 [==============================] - 71s 68ms/step - loss: 0.5288 - accuracy: 0.8231 - val_loss: 0.6030 - val_accuracy: 0.8031\n",
            "Epoch 12/40\n",
            "1045/1045 [==============================] - 71s 68ms/step - loss: 0.5169 - accuracy: 0.8256 - val_loss: 0.6044 - val_accuracy: 0.8043\n",
            "Epoch 13/40\n",
            "1045/1045 [==============================] - 71s 68ms/step - loss: 0.5059 - accuracy: 0.8267 - val_loss: 0.6131 - val_accuracy: 0.8005\n",
            "Epoch 14/40\n",
            "1045/1045 [==============================] - 71s 68ms/step - loss: 0.4954 - accuracy: 0.8292 - val_loss: 0.6136 - val_accuracy: 0.8003\n"
          ]
        }
      ]
    },
    {
      "cell_type": "code",
      "source": [
        "import matplotlib.pyplot as plt\n",
        "\n",
        "# Plota a perda (loss) e a perda de validação (val_loss) durante o treinamento\n",
        "plt.plot(history.history['loss'], label='Training Loss')\n",
        "plt.plot(history.history['val_loss'], label='Validation Loss')\n",
        "plt.title('Loss and Validation Loss')\n",
        "plt.xlabel('Epoch')\n",
        "plt.ylabel('Loss')\n",
        "plt.legend()\n",
        "plt.show()"
      ],
      "metadata": {
        "colab": {
          "base_uri": "https://localhost:8080/",
          "height": 472
        },
        "id": "QM66G28dPM7J",
        "outputId": "9aa19313-aadf-4977-fa84-8883388e1702"
      },
      "execution_count": null,
      "outputs": [
        {
          "output_type": "display_data",
          "data": {
            "text/plain": [
              "<Figure size 640x480 with 1 Axes>"
            ],
            "image/png": "[encoded data removed]"
          },
          "metadata": {}
        }
      ]
    },
    {
      "cell_type": "code",
      "source": [
        "# Salva arquivos em discos que podemos carregar sem treinar a rede neural novamente\n",
        "model.save('/content/drive/My Drive/DatasetColab/ge_BiLSTM_glove6b100d.keras')\n",
        "np.save(\"/content/drive/My Drive/DatasetColab/X_test_BiLSTM_glove6b100d.npy\", X_test)\n",
        "np.save(\"/content/drive/My Drive/DatasetColab/y_test_BiLSTM_glove6b100d.npy\", y_test)"
      ],
      "metadata": {
        "id": "kuJArYcZLWGr"
      },
      "execution_count": null,
      "outputs": []
    },
    {
      "cell_type": "markdown",
      "source": [],
      "metadata": {
        "id": "aIbKGItaBMUy"
      }
    },
    {
      "cell_type": "code",
      "source": [
        "from tensorflow.keras.models import load_model\n",
        "import numpy as np\n",
        "\n",
        "# Carrega arquivos pertinentes ao treinamento da rede neural e X_test e y_test (usados na avaliação de resultados)\n",
        "model = load_model('/content/drive/My Drive/DatasetColab/ge_BiLSTM_glove6b100d.keras')\n",
        "X_test = np.load(\"/content/drive/My Drive/DatasetColab/X_test_BiLSTM_glove6b100d.npy\")\n",
        "y_test = np.load(\"/content/drive/My Drive/DatasetColab/y_test_BiLSTM_glove6b100d.npy\")\n",
        "\n",
        "# Carrega o tokenizer de um arquivo\n",
        "with open('/content/drive/My Drive/DatasetColab/tokenizer.pkl', 'rb') as file:\n",
        "    tokenizer = pickle.load(file)"
      ],
      "metadata": {
        "id": "X2JFiRVuBMoW"
      },
      "execution_count": null,
      "outputs": []
    },
    {
      "cell_type": "code",
      "source": [
        "loss, accuracy = model.evaluate(X_test, y_test)\n",
        "print('Acurácia final:', accuracy)"
      ],
      "metadata": {
        "colab": {
          "base_uri": "https://localhost:8080/"
        },
        "id": "0jDhju6-BXWU",
        "outputId": "37c1ce76-598e-4276-c70a-67a3de902dd1"
      },
      "execution_count": null,
      "outputs": [
        {
          "output_type": "stream",
          "name": "stdout",
          "text": [
            "896/896 [==============================] - 23s 23ms/step - loss: 0.6320 - accuracy: 0.7938\n",
            "Acurácia final: 0.7937594056129456\n"
          ]
        }
      ]
    },
    {
      "cell_type": "code",
      "source": [
        "# Fazer as previsões do modelo para o conjunto de teste\n",
        "y_pred = model.predict(X_test)"
      ],
      "metadata": {
        "colab": {
          "base_uri": "https://localhost:8080/"
        },
        "id": "b5k0QB-OBdES",
        "outputId": "20d18747-bcbf-429c-8c5a-11af93752b5e"
      },
      "execution_count": null,
      "outputs": [
        {
          "output_type": "stream",
          "name": "stderr",
          "text": [
            "WARNING:tensorflow:5 out of the last 10 calls to <function Model.make_predict_function.<locals>.predict_function at 0x7f5341e10430> triggered tf.function retracing. Tracing is expensive and the excessive number of tracings could be due to (1) creating @tf.function repeatedly in a loop, (2) passing tensors with different shapes, (3) passing Python objects instead of tensors. For (1), please define your @tf.function outside of the loop. For (2), @tf.function has reduce_retracing=True option that can avoid unnecessary retracing. For (3), please refer to https://www.tensorflow.org/guide/function#controlling_retracing and https://www.tensorflow.org/api_docs/python/tf/function for  more details.\n"
          ]
        },
        {
          "output_type": "stream",
          "name": "stdout",
          "text": [
            "896/896 [==============================] - 22s 23ms/step\n"
          ]
        }
      ]
    },
    {
      "cell_type": "code",
      "source": [
        "#Transformar as previsões de volta em rótulos\n",
        "y_pred_labels = np.argmax(y_pred, axis=1)\n",
        "y_true_labels = np.argmax(y_test, axis=1)\n",
        "\n",
        "# Calcular a matriz de confusão\n",
        "from sklearn.metrics import confusion_matrix\n",
        "conf_mat = confusion_matrix(y_true_labels, y_pred_labels)\n",
        "\n",
        "conf_mat"
      ],
      "metadata": {
        "colab": {
          "base_uri": "https://localhost:8080/"
        },
        "id": "s6JCxzRpBjED",
        "outputId": "5491c974-1f61-4631-b70e-9162354a006c"
      },
      "execution_count": null,
      "outputs": [
        {
          "output_type": "execute_result",
          "data": {
            "text/plain": [
              "array([[1233,   23,   12,   18,   13,   11,    7,   26,   62,    7,   26,\n",
              "          11,    6,   10,   19,   16,   44,   13,   26,    7,    5],\n",
              "       [  15,  415,    3,    4,    3,    3,    4,   13,    3,    2,    6,\n",
              "           5,    8,   57,    6,   10,    4,    3,   20,    3,    1],\n",
              "       [  21,   17, 1139,   16,   12,    7,    3,   19,    5,   58,   22,\n",
              "          16,    9,    8,   18,   23,   30,   10,   15,    7,    5],\n",
              "       [  16,   13,    4,  881,    0,    9,   14,   10,    3,    3,   16,\n",
              "          10,    6,    8,   13,    9,   12,    3,   17,    9,   13],\n",
              "       [  25,   12,    4,   19, 1221,    1,    1,   24,   11,    5,   43,\n",
              "          18,    8,   11,   20,    9,   22,   13,   11,   10,   27],\n",
              "       [  17,   15,    3,    5,    1,  404,    4,   17,    5,    3,    1,\n",
              "           6,    5,    4,    2,    4,   15,    3,   17,    2,    1],\n",
              "       [  14,   20,    3,   23,   10,    7,  645,   23,    7,    4,   19,\n",
              "           6,   64,    6,    6,    9,   14,    5,   12,   13,    2],\n",
              "       [  33,   25,   15,    9,   11,   20,   13, 1902,   10,    3,   31,\n",
              "          16,    7,   10,   25,   26,   52,   26,   68,   12,   14],\n",
              "       [  71,    9,    2,    4,    8,    5,    5,   11,  602,    1,    6,\n",
              "           3,    1,    7,    4,    9,    5,    0,    8,    4,    3],\n",
              "       [   7,    1,   25,    7,    9,    2,    6,   12,    4, 1226,   11,\n",
              "           9,    1,    6,   18,   14,   18,   16,   10,    6,    9],\n",
              "       [  38,   18,   15,   12,   45,    9,    7,   52,    3,   11, 1736,\n",
              "          63,   13,   15,   50,   46,   52,   11,   42,   11,   53],\n",
              "       [  39,   19,    9,   20,   31,    7,    8,   26,   10,    4,   70,\n",
              "        1235,    7,   15,   28,   23,   31,   13,   36,    8,   28],\n",
              "       [  18,   26,    8,   11,    7,    4,   53,   18,    8,    2,   14,\n",
              "           8,  731,    4,    7,    7,   14,    2,   18,    9,    5],\n",
              "       [  16,   59,    5,    8,    5,    4,    7,   11,    9,    0,    7,\n",
              "           7,    2,  536,    7,   12,    6,    3,   11,    8,    2],\n",
              "       [  19,   12,    8,   13,   10,    9,    6,   17,    2,    3,   16,\n",
              "           3,    1,    5, 1420,   62,   21,    3,   20,    6,    8],\n",
              "       [  25,   23,    4,   14,   20,   10,    7,   37,    4,    7,   22,\n",
              "          22,    9,   17,   63, 1630,   34,   14,   32,   10,    9],\n",
              "       [  23,   21,   14,   12,   12,   19,   11,   58,    4,    9,   34,\n",
              "          13,    9,    7,   31,   27, 1473,   21,   57,    7,    8],\n",
              "       [  15,    8,    7,    9,   11,   11,    8,   30,    7,    3,   17,\n",
              "          11,    1,    2,   19,   15,   28,  993,   32,    6,    7],\n",
              "       [  27,   18,   11,   12,   11,    9,   10,   65,    5,    3,   25,\n",
              "          14,    6,   18,   22,   25,   39,   21, 1729,    9,    7],\n",
              "       [   7,   12,    2,   18,    5,    4,    8,   11,    3,    2,    9,\n",
              "           6,    7,    6,    7,    6,   14,    3,   11,  783,    6],\n",
              "       [   6,   11,    5,    7,   26,    1,    3,    9,    4,    5,   31,\n",
              "          17,    5,    7,    8,   11,   11,    3,    7,    9,  808]])"
            ]
          },
          "metadata": {},
          "execution_count": 77
        }
      ]
    },
    {
      "cell_type": "code",
      "source": [
        "import pandas as pd\n",
        "\n",
        "# Lê o arquivo .csv\n",
        "df = pd.read_pickle(\"/content/drive/My Drive/DatasetColab/ge_df.pkl\")\n",
        "\n",
        "# Total de classes (times de futebol)\n",
        "classes = df['label'].nunique()"
      ],
      "metadata": {
        "id": "W8zaC1Y0BpYN"
      },
      "execution_count": null,
      "outputs": []
    },
    {
      "cell_type": "code",
      "source": [
        "import matplotlib.pyplot as plt\n",
        "\n",
        "# Define o tamanho da figura\n",
        "plt.figure(figsize=(15, 10))\n",
        "\n",
        "# Define mapa de cores\n",
        "cmap = plt.cm.Blues\n",
        "\n",
        "# Plota matriz de confusão\n",
        "plt.imshow(conf_mat, cmap=cmap)\n",
        "plt.colorbar()\n",
        "\n",
        "# Adiciona rótulos a matriz\n",
        "plt.xticks([int(i) for i in range(classes)], [str(i) for i in range(classes)])\n",
        "plt.yticks([int(i) for i in range(classes)], [str(i) for i in range(classes)])\n",
        "\n",
        "for i in range(classes):\n",
        "    for j in range(classes):\n",
        "        plt.text(j, i, str(conf_mat[i, j]), ha='center', va='center', color='white' if conf_mat[i, j] > len(y_true_labels)/ classes else 'black')\n",
        "\n",
        "# Adiciona rótulos dos eixos\n",
        "plt.xlabel('Predicted Class')\n",
        "plt.ylabel('True Class')\n",
        "\n",
        "# Mostra o plot\n",
        "plt.show()"
      ],
      "metadata": {
        "colab": {
          "base_uri": "https://localhost:8080/",
          "height": 779
        },
        "id": "O7Vx5QbMBrc9",
        "outputId": "71095527-ad4e-4dbf-daae-8a19ccaf2fb9"
      },
      "execution_count": null,
      "outputs": [
        {
          "output_type": "display_data",
          "data": {
            "text/plain": [
              "<Figure size 1500x1000 with 2 Axes>"
            ],
            "image/png": "[encoded data removed]"
          },
          "metadata": {}
        }
      ]
    },
    {
      "cell_type": "code",
      "source": [
        "import numpy as np\n",
        "from sklearn.metrics import precision_score, recall_score, f1_score\n",
        "\n",
        "# Calcula precisão, recall e f1-score para cada classe\n",
        "precisions = []\n",
        "recalls = []\n",
        "f1_scores = []\n",
        "for i in range(classes):\n",
        "    precision = precision_score(y_true=y_true_labels == i, y_pred=y_pred_labels == i, zero_division=0)\n",
        "    recall = recall_score(y_true=y_true_labels == i, y_pred=y_pred_labels == i, zero_division=0)\n",
        "    f1 = f1_score(y_true=y_true_labels == i, y_pred=y_pred_labels == i, zero_division=0)\n",
        "    precisions.append(precision)\n",
        "    recalls.append(recall)\n",
        "    f1_scores.append(f1)\n",
        "\n",
        "# Printa resultados\n",
        "for i in range(classes):\n",
        "    print(f\"Class '{i}': Precision={precisions[i]:.4f}, Recall={recalls[i]:.4f}, F1-Score={f1_scores[i]:.4f}\")\n",
        "\n",
        "# Calcula e printa a média dos f1-scores\n",
        "f1_average = np.mean(f1_scores)\n",
        "print(f\"Average F1-Score: {f1_average:.4f}\")"
      ],
      "metadata": {
        "colab": {
          "base_uri": "https://localhost:8080/"
        },
        "id": "zhQIipTLBxN4",
        "outputId": "fdb38caa-4044-4bbd-b079-976f93538888"
      },
      "execution_count": null,
      "outputs": [
        {
          "output_type": "stream",
          "name": "stdout",
          "text": [
            "Class '0': Precision=0.7318, Recall=0.7730, F1-Score=0.7518\n",
            "Class '1': Precision=0.5341, Recall=0.7058, F1-Score=0.6081\n",
            "Class '2': Precision=0.8775, Recall=0.7801, F1-Score=0.8260\n",
            "Class '3': Precision=0.7852, Recall=0.8241, F1-Score=0.8042\n",
            "Class '4': Precision=0.8300, Recall=0.8059, F1-Score=0.8178\n",
            "Class '5': Precision=0.7266, Recall=0.7566, F1-Score=0.7413\n",
            "Class '6': Precision=0.7771, Recall=0.7072, F1-Score=0.7405\n",
            "Class '7': Precision=0.7955, Recall=0.8170, F1-Score=0.8061\n",
            "Class '8': Precision=0.7808, Recall=0.7839, F1-Score=0.7823\n",
            "Class '9': Precision=0.9008, Recall=0.8652, F1-Score=0.8826\n",
            "Class '10': Precision=0.8030, Recall=0.7541, F1-Score=0.7778\n",
            "Class '11': Precision=0.8239, Recall=0.7409, F1-Score=0.7802\n",
            "Class '12': Precision=0.8068, Recall=0.7505, F1-Score=0.7777\n",
            "Class '13': Precision=0.7062, Recall=0.7393, F1-Score=0.7224\n",
            "Class '14': Precision=0.7920, Recall=0.8534, F1-Score=0.8215\n",
            "Class '15': Precision=0.8179, Recall=0.8097, F1-Score=0.8138\n",
            "Class '16': Precision=0.7597, Recall=0.7877, F1-Score=0.7734\n",
            "Class '17': Precision=0.8422, Recall=0.8008, F1-Score=0.8210\n",
            "Class '18': Precision=0.7863, Recall=0.8289, F1-Score=0.8070\n",
            "Class '19': Precision=0.8339, Recall=0.8419, F1-Score=0.8379\n",
            "Class '20': Precision=0.7914, Recall=0.8129, F1-Score=0.8020\n",
            "Average F1-Score: 0.7855\n"
          ]
        }
      ]
    },
    {
      "cell_type": "markdown",
      "source": [
        "### Inferência"
      ],
      "metadata": {
        "id": "BBUq_03OFPAk"
      }
    },
    {
      "cell_type": "code",
      "source": [
        "# Criei um dataframe simples com uma notícia só para aplicarmos a função preprocess_data\n",
        "import pandas as pd\n",
        "\n",
        "value = \"\"\"Santos diz que grupo do Flamengo na Libertadores é difícil e mira tetracampeonato\n",
        "\n",
        "Flamengo desfruta de dias livres para treinar com foco na final do Campeonato Carioca, mas também já mira a estreia na Libertadores. A estreia na competição continental acontece na próxima quarta-feira, entre as finais do Estadual.\n",
        "\n",
        "O primeiro jogo será em Quito, no Equador, contra o Aucas, e o goleiro Santos comentou o desejo do Rubro-Negro em conquistar o tetracampeonato na Libertadores.\n",
        "\n",
        "- A expectativa é sempre muito boa para que essa competição comece. É a principal competição do nosso continente. O grupo é muito difícil, a gente sabe a dificuldade que é a Libertadores. Cada time teve a sua dificuldade para se classificar. A gente está vivendo uma expectativa boa para a estreia, queremos fazer uma boa competição em busca do objetivo que é ser campeão mais uma vez.\n",
        "\n",
        "Mas, antes de focar na estreia da Libertadores, o Flamengo disputa a primeira partida da final com o Fluminense, no sábado. Para o goleiro, o tempo para treinar em meio ao calendário apertado do futebol brasileiro é algo a ser valorizado.\n",
        "\n",
        "- Semana muito boa com essa pausa para treinarmos. Estamos muito focados nessa decisão. Os treinos estão com muita intensidade e a gente tem aproveitado o máximo possível para chegarmos preparados.\n",
        "\n",
        "O Flamengo é o atual campeão da Libertadores e luta pelo tetracampeonato. No Carioca, o Rubro-Negro tenta a revanche em cima do Fluminense, que terminou campeão na temporada de 2022. O segundo e decisivo jogo do Estadual acontece no domingo, dia 9.\n",
        "\"\"\"\n",
        "\n",
        "# Crie um DataFrame com uma linha e a coluna 'data'\n",
        "df_predict = pd.DataFrame(data={'data': [value]})\n",
        "\n",
        "# Faz pré-processamento\n",
        "preprocess_data(df_predict, 'data')\n",
        "\n",
        "# Conversão dos dados para serem usados no modelo (rede neural)\n",
        "preprocessed_articles = df_predict['data'].tolist()\n",
        "\n",
        "# Tokenização\n",
        "sequences = tokenizer.texts_to_sequences(preprocessed_articles)\n",
        "\n",
        "# Padding das sequências para garantir que todas tenham o mesmo comprimento\n",
        "data = pad_sequences(sequences)\n",
        "\n",
        "# Fazer a previsão usando o modelo\n",
        "predictions = model.predict(data)"
      ],
      "metadata": {
        "colab": {
          "base_uri": "https://localhost:8080/"
        },
        "id": "D4JB2I17B0qI",
        "outputId": "a69f9c5e-4ba8-4343-db0f-fbf05cfc2c07"
      },
      "execution_count": null,
      "outputs": [
        {
          "output_type": "stream",
          "name": "stdout",
          "text": [
            "Removendo pontuação...\n"
          ]
        },
        {
          "output_type": "stream",
          "name": "stderr",
          "text": [
            "100%|██████████| 1/1 [00:00<00:00, 1493.17it/s]\n"
          ]
        },
        {
          "output_type": "stream",
          "name": "stdout",
          "text": [
            "Removendo números...\n"
          ]
        },
        {
          "output_type": "stream",
          "name": "stderr",
          "text": [
            "100%|██████████| 1/1 [00:00<00:00, 1861.65it/s]\n"
          ]
        },
        {
          "output_type": "stream",
          "name": "stdout",
          "text": [
            "Removendo acentos e símbolos diversos...\n"
          ]
        },
        {
          "output_type": "stream",
          "name": "stderr",
          "text": [
            "100%|██████████| 1/1 [00:00<00:00, 1136.98it/s]\n"
          ]
        },
        {
          "output_type": "stream",
          "name": "stdout",
          "text": [
            "Convertendo para minúsculas...\n"
          ]
        },
        {
          "output_type": "stream",
          "name": "stderr",
          "text": [
            "100%|██████████| 1/1 [00:00<00:00, 3006.67it/s]\n"
          ]
        },
        {
          "output_type": "stream",
          "name": "stdout",
          "text": [
            "Computando Lematização...\n",
            "Processando segmento 1 de 10\n"
          ]
        },
        {
          "output_type": "stream",
          "name": "stderr",
          "text": [
            "100%|██████████| 1/1 [00:00<00:00, 47.07it/s]\n"
          ]
        },
        {
          "output_type": "stream",
          "name": "stdout",
          "text": [
            "Processando segmento 2 de 10\n"
          ]
        },
        {
          "output_type": "stream",
          "name": "stderr",
          "text": [
            "0it [00:00, ?it/s]\n"
          ]
        },
        {
          "output_type": "stream",
          "name": "stdout",
          "text": [
            "Processando segmento 3 de 10\n"
          ]
        },
        {
          "output_type": "stream",
          "name": "stderr",
          "text": [
            "0it [00:00, ?it/s]\n"
          ]
        },
        {
          "output_type": "stream",
          "name": "stdout",
          "text": [
            "Processando segmento 4 de 10\n"
          ]
        },
        {
          "output_type": "stream",
          "name": "stderr",
          "text": [
            "0it [00:00, ?it/s]\n"
          ]
        },
        {
          "output_type": "stream",
          "name": "stdout",
          "text": [
            "Processando segmento 5 de 10\n"
          ]
        },
        {
          "output_type": "stream",
          "name": "stderr",
          "text": [
            "0it [00:00, ?it/s]\n"
          ]
        },
        {
          "output_type": "stream",
          "name": "stdout",
          "text": [
            "Processando segmento 6 de 10\n"
          ]
        },
        {
          "output_type": "stream",
          "name": "stderr",
          "text": [
            "0it [00:00, ?it/s]\n"
          ]
        },
        {
          "output_type": "stream",
          "name": "stdout",
          "text": [
            "Processando segmento 7 de 10\n"
          ]
        },
        {
          "output_type": "stream",
          "name": "stderr",
          "text": [
            "0it [00:00, ?it/s]\n"
          ]
        },
        {
          "output_type": "stream",
          "name": "stdout",
          "text": [
            "Processando segmento 8 de 10\n"
          ]
        },
        {
          "output_type": "stream",
          "name": "stderr",
          "text": [
            "0it [00:00, ?it/s]\n"
          ]
        },
        {
          "output_type": "stream",
          "name": "stdout",
          "text": [
            "Processando segmento 9 de 10\n"
          ]
        },
        {
          "output_type": "stream",
          "name": "stderr",
          "text": [
            "0it [00:00, ?it/s]\n"
          ]
        },
        {
          "output_type": "stream",
          "name": "stdout",
          "text": [
            "Processando segmento 10 de 10\n"
          ]
        },
        {
          "output_type": "stream",
          "name": "stderr",
          "text": [
            "0it [00:00, ?it/s]\n"
          ]
        },
        {
          "output_type": "stream",
          "name": "stdout",
          "text": [
            "Remover tokens com espaços vazios...\n"
          ]
        },
        {
          "output_type": "stream",
          "name": "stderr",
          "text": [
            "100%|██████████| 1/1 [00:00<00:00, 2012.62it/s]\n"
          ]
        },
        {
          "output_type": "stream",
          "name": "stdout",
          "text": [
            "1/1 [==============================] - 2s 2s/step\n"
          ]
        }
      ]
    },
    {
      "cell_type": "code",
      "source": [
        "predictions"
      ],
      "metadata": {
        "colab": {
          "base_uri": "https://localhost:8080/"
        },
        "id": "1DGJQ4zJEZhU",
        "outputId": "e47f1466-10b8-4f3e-88bd-851b192416e1"
      },
      "execution_count": null,
      "outputs": [
        {
          "output_type": "execute_result",
          "data": {
            "text/plain": [
              "array([[4.9087359e-04, 2.0878924e-04, 5.0157442e-04, 1.3185853e-04,\n",
              "        2.2089542e-03, 6.4655156e-05, 1.7983837e-05, 5.6940888e-04,\n",
              "        2.5481852e-06, 2.5654686e-04, 8.1520826e-01, 1.1511928e-02,\n",
              "        3.8676197e-05, 2.8938348e-06, 6.1320381e-05, 2.5625931e-04,\n",
              "        1.2446906e-03, 1.6453256e-01, 2.3956098e-04, 1.9233347e-03,\n",
              "        5.2733225e-04]], dtype=float32)"
            ]
          },
          "metadata": {},
          "execution_count": 84
        }
      ]
    },
    {
      "cell_type": "code",
      "source": [
        "# Identificar a classe com a maior probabilidade\n",
        "predicted_class = np.argmax(predictions)\n",
        "\n",
        "# Exibir a classe prevista\n",
        "print(f\"Classe prevista: {predicted_class}\")"
      ],
      "metadata": {
        "colab": {
          "base_uri": "https://localhost:8080/"
        },
        "id": "KdzqamaDE0AI",
        "outputId": "92be16ca-77d4-481e-d729-77c5cc926b07"
      },
      "execution_count": null,
      "outputs": [
        {
          "output_type": "stream",
          "name": "stdout",
          "text": [
            "Classe prevista: 10\n"
          ]
        }
      ]
    },
    {
      "cell_type": "code",
      "source": [
        "from sklearn.preprocessing import LabelEncoder\n",
        "\n",
        "# Lê o arquivo .csv\n",
        "df = pd.read_csv('/content/drive/My Drive/DatasetColab/ge_news.csv')\n",
        "\n",
        "# Cria um objeto LabelEncoder\n",
        "le = LabelEncoder()\n",
        "\n",
        "# Transforma os rótulos de times de futebol para variáveis categóricas\n",
        "df['label'] = le.fit_transform(df['club'])\n",
        "\n",
        "original_class = le.inverse_transform([predicted_class]) # Transforma a classe predita de variável categórica para o nome do clube, de volta\n",
        "print(f\"Classe original: {original_class[0]}\")"
      ],
      "metadata": {
        "colab": {
          "base_uri": "https://localhost:8080/"
        },
        "id": "RU2vApdhE4ko",
        "outputId": "a9b956cf-7c71-427c-e12d-d1b0dd0e210d"
      },
      "execution_count": null,
      "outputs": [
        {
          "output_type": "stream",
          "name": "stdout",
          "text": [
            "Classe original: flamengo\n"
          ]
        }
      ]
    },
    {
      "cell_type": "markdown",
      "source": [
        "### Inferência 2"
      ],
      "metadata": {
        "id": "PTcgKGecFfZU"
      }
    },
    {
      "cell_type": "code",
      "source": [
        "# Criei um dataframe simples e com uma notícia só apenas por conta da função preprocess_data\n",
        "\n",
        "import pandas as pd\n",
        "\n",
        "value = \"\"\"Nova camisa do Corinthians: vazam imagens de supostos uniformes para 2023; veja fotos\n",
        "\n",
        "Imagens de supostas novas camisas do Corinthians para 2023 vazaram nas redes sociais nessa quarta-feira. Foram divulgadas fotos do que seriam os modelos 1 e 2 do uniforme do Timão.\n",
        "\n",
        "Uma loja de um shopping na Zona Sul de São Paulo já está comercializando as novas camisas branca e listrada. A reportagem do ge entrou em contato com o estabelecimento e teve a confirmação de um funcionário de que as peças já estão à venda por R$ 300 (modelo de torcedor). Confira as imagens abaixo:\n",
        "\n",
        "As supostas novas camisas do Corinthians para 2023 possui detalhes na cor vermelha ao redor da logomarca da Nike, fornecedora do material esportivo do clube.\n",
        "\n",
        "Os uniformes alvinegros para este ano homenagearão a Democracia Corinthiana, movimento organizado na década de 1980. CLIQUE AQUI e saiba mais sobre o tema.\n",
        "\n",
        "Usualmente, o Corinthians lança seus novos uniformes principais entre o fim de abril e o início de maio. Já a terceira camisa costuma ser estreada em setembro, mês de aniversário do clube.\n",
        "\n",
        "O Timão volta a campo na próxima quinta-feira, na estreia da Libertadores, contra o Liverpool-URU, às 19h, no estádio Centenário de Montevidéu.\n",
        "\"\"\"\n",
        "\n",
        "# Crie um DataFrame com uma linha e a coluna 'data'\n",
        "df_predict = pd.DataFrame(data={'data': [value]})\n",
        "\n",
        "# Faz pré-processamento\n",
        "preprocess_data(df_predict, 'data')\n",
        "\n",
        "# Conversão dos dados para serem usados no modelo (rede neural)\n",
        "preprocessed_articles = df_predict['data'].tolist()\n",
        "\n",
        "# Tokenização\n",
        "sequences = tokenizer.texts_to_sequences(preprocessed_articles)\n",
        "\n",
        "# Padding das sequências para garantir que todas tenham o mesmo comprimento\n",
        "data = pad_sequences(sequences)\n",
        "\n",
        "# Fazer a previsão usando o modelo\n",
        "predictions = model.predict(data)"
      ],
      "metadata": {
        "colab": {
          "base_uri": "https://localhost:8080/"
        },
        "id": "jVhjiWR8Fg9L",
        "outputId": "0c8ac3bb-8248-41f0-861c-a7f6622868c7"
      },
      "execution_count": null,
      "outputs": [
        {
          "output_type": "stream",
          "name": "stdout",
          "text": [
            "Removendo pontuação...\n"
          ]
        },
        {
          "output_type": "stream",
          "name": "stderr",
          "text": [
            "100%|██████████| 1/1 [00:00<00:00, 1025.00it/s]\n"
          ]
        },
        {
          "output_type": "stream",
          "name": "stdout",
          "text": [
            "Removendo números...\n"
          ]
        },
        {
          "output_type": "stream",
          "name": "stderr",
          "text": [
            "100%|██████████| 1/1 [00:00<00:00, 1663.75it/s]\n"
          ]
        },
        {
          "output_type": "stream",
          "name": "stdout",
          "text": [
            "Removendo acentos e símbolos diversos...\n"
          ]
        },
        {
          "output_type": "stream",
          "name": "stderr",
          "text": [
            "100%|██████████| 1/1 [00:00<00:00, 958.04it/s]\n"
          ]
        },
        {
          "output_type": "stream",
          "name": "stdout",
          "text": [
            "Convertendo para minúsculas...\n"
          ]
        },
        {
          "output_type": "stream",
          "name": "stderr",
          "text": [
            "100%|██████████| 1/1 [00:00<00:00, 1912.59it/s]\n"
          ]
        },
        {
          "output_type": "stream",
          "name": "stdout",
          "text": [
            "Computando Lematização...\n",
            "Processando segmento 1 de 10\n"
          ]
        },
        {
          "output_type": "stream",
          "name": "stderr",
          "text": [
            "100%|██████████| 1/1 [00:00<00:00, 41.77it/s]\n"
          ]
        },
        {
          "output_type": "stream",
          "name": "stdout",
          "text": [
            "Processando segmento 2 de 10\n"
          ]
        },
        {
          "output_type": "stream",
          "name": "stderr",
          "text": [
            "0it [00:00, ?it/s]\n"
          ]
        },
        {
          "output_type": "stream",
          "name": "stdout",
          "text": [
            "Processando segmento 3 de 10\n"
          ]
        },
        {
          "output_type": "stream",
          "name": "stderr",
          "text": [
            "0it [00:00, ?it/s]\n"
          ]
        },
        {
          "output_type": "stream",
          "name": "stdout",
          "text": [
            "Processando segmento 4 de 10\n"
          ]
        },
        {
          "output_type": "stream",
          "name": "stderr",
          "text": [
            "0it [00:00, ?it/s]\n"
          ]
        },
        {
          "output_type": "stream",
          "name": "stdout",
          "text": [
            "Processando segmento 5 de 10\n"
          ]
        },
        {
          "output_type": "stream",
          "name": "stderr",
          "text": [
            "0it [00:00, ?it/s]\n"
          ]
        },
        {
          "output_type": "stream",
          "name": "stdout",
          "text": [
            "Processando segmento 6 de 10\n"
          ]
        },
        {
          "output_type": "stream",
          "name": "stderr",
          "text": [
            "0it [00:00, ?it/s]\n"
          ]
        },
        {
          "output_type": "stream",
          "name": "stdout",
          "text": [
            "Processando segmento 7 de 10\n"
          ]
        },
        {
          "output_type": "stream",
          "name": "stderr",
          "text": [
            "0it [00:00, ?it/s]\n"
          ]
        },
        {
          "output_type": "stream",
          "name": "stdout",
          "text": [
            "Processando segmento 8 de 10\n"
          ]
        },
        {
          "output_type": "stream",
          "name": "stderr",
          "text": [
            "0it [00:00, ?it/s]\n"
          ]
        },
        {
          "output_type": "stream",
          "name": "stdout",
          "text": [
            "Processando segmento 9 de 10\n"
          ]
        },
        {
          "output_type": "stream",
          "name": "stderr",
          "text": [
            "0it [00:00, ?it/s]\n"
          ]
        },
        {
          "output_type": "stream",
          "name": "stdout",
          "text": [
            "Processando segmento 10 de 10\n"
          ]
        },
        {
          "output_type": "stream",
          "name": "stderr",
          "text": [
            "0it [00:00, ?it/s]\n"
          ]
        },
        {
          "output_type": "stream",
          "name": "stdout",
          "text": [
            "Remover tokens com espaços vazios...\n"
          ]
        },
        {
          "output_type": "stream",
          "name": "stderr",
          "text": [
            "100%|██████████| 1/1 [00:00<00:00, 305.26it/s]\n"
          ]
        },
        {
          "output_type": "stream",
          "name": "stdout",
          "text": [
            "1/1 [==============================] - 0s 38ms/step\n"
          ]
        }
      ]
    },
    {
      "cell_type": "code",
      "source": [
        "predictions"
      ],
      "metadata": {
        "colab": {
          "base_uri": "https://localhost:8080/"
        },
        "id": "B_ydt7U4H4eR",
        "outputId": "6fa35d2f-5601-4325-a16d-8ba185054efb"
      },
      "execution_count": null,
      "outputs": [
        {
          "output_type": "execute_result",
          "data": {
            "text/plain": [
              "array([[4.8945744e-06, 2.2905922e-07, 6.0897232e-06, 1.3830193e-05,\n",
              "        3.1221356e-05, 1.2485384e-06, 4.7044409e-06, 9.9974483e-01,\n",
              "        2.2312489e-07, 1.0135480e-05, 3.8598087e-06, 4.2463504e-05,\n",
              "        2.0327768e-07, 1.0201612e-06, 4.0590781e-05, 5.1940962e-05,\n",
              "        2.0751662e-05, 1.0438144e-05, 8.0751315e-06, 1.7004786e-06,\n",
              "        1.7365032e-06]], dtype=float32)"
            ]
          },
          "metadata": {},
          "execution_count": 88
        }
      ]
    },
    {
      "cell_type": "code",
      "source": [
        "# Identificar a classe com a maior probabilidade\n",
        "predicted_class = np.argmax(predictions)\n",
        "\n",
        "# Exibir a classe prevista\n",
        "print(f\"Classe prevista: {predicted_class}\")"
      ],
      "metadata": {
        "colab": {
          "base_uri": "https://localhost:8080/"
        },
        "id": "DLXtnAQ0FvkW",
        "outputId": "b940179a-f462-48a3-cf6b-3a2a7a12f5d5"
      },
      "execution_count": null,
      "outputs": [
        {
          "output_type": "stream",
          "name": "stdout",
          "text": [
            "Classe prevista: 7\n"
          ]
        }
      ]
    },
    {
      "cell_type": "code",
      "source": [
        "from sklearn.preprocessing import LabelEncoder\n",
        "\n",
        "# Lê o arquivo .csv\n",
        "df = pd.read_csv('/content/drive/My Drive/DatasetColab/ge_news.csv')\n",
        "\n",
        "# Cria um objeto LabelEncoder\n",
        "le = LabelEncoder()\n",
        "\n",
        "# Transforma os rótulos de times de futebol para variáveis categóricas\n",
        "df['label'] = le.fit_transform(df['club'])\n",
        "\n",
        "original_class = le.inverse_transform([predicted_class]) # Transforma a classe predita de variável categórica para o nome do clube, de volta\n",
        "print(f\"Classe original: {original_class[0]}\")"
      ],
      "metadata": {
        "colab": {
          "base_uri": "https://localhost:8080/"
        },
        "id": "FKUOsdI2FzBC",
        "outputId": "ef372345-ff26-4c51-e8d3-cc15fe2e68d0"
      },
      "execution_count": null,
      "outputs": [
        {
          "output_type": "stream",
          "name": "stdout",
          "text": [
            "Classe original: corinthians\n"
          ]
        }
      ]
    },
    {
      "cell_type": "markdown",
      "source": [
        "# Referências\n",
        "\n",
        "* https://nlp.stanford.edu/projects/glove/\n",
        "* https://towardsdatascience.com/light-on-math-ml-intuitive-guide-to-understanding-glove-embeddings-b13b4f19c010"
      ],
      "metadata": {
        "id": "M30Mi5Ym2qJG"
      }
    }
  ]
}