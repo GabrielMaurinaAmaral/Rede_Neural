{
  "nbformat": 4,
  "nbformat_minor": 0,
  "metadata": {
    "colab": {
      "provenance": []
    },
    "kernelspec": {
      "name": "python3",
      "display_name": "Python 3"
    },
    "language_info": {
      "name": "python"
    }
  },
  "cells": [
    {
      "cell_type": "code",
      "source": [
        "from google.colab import drive\n",
        "drive.mount('/content/drive')\n",
        "\n",
        "DRIVE_FOLDER = '/content/drive/My Drive/DatasetColab/'"
      ],
      "metadata": {
        "colab": {
          "base_uri": "https://localhost:8080/"
        },
        "id": "qVSt0ejr8y2Q",
        "outputId": "4af54806-ab40-4d83-da1d-964de902eea7"
      },
      "execution_count": null,
      "outputs": [
        {
          "output_type": "stream",
          "name": "stdout",
          "text": [
            "Mounted at /content/drive\n"
          ]
        }
      ]
    },
    {
      "cell_type": "code",
      "execution_count": null,
      "metadata": {
        "colab": {
          "base_uri": "https://localhost:8080/"
        },
        "id": "IYtW4aKJ8n02",
        "outputId": "df5dca34-f772-44a3-fcaa-8fc7689e7e32"
      },
      "outputs": [
        {
          "output_type": "execute_result",
          "data": {
            "text/plain": [
              "[('queen', 0.7698540687561035)]"
            ]
          },
          "metadata": {},
          "execution_count": 4
        }
      ],
      "source": [
        "from gensim.models import KeyedVectors # Permite trabalhar com modelos como Word2Vec e GloVe\n",
        "\n",
        "# Caminho para o arquivo GloVe (substitua pelo caminho do seu arquivo)\n",
        "glove_input_file = DRIVE_FOLDER + 'glove.6B.100d.txt'\n",
        "\n",
        "# Aqui, o método load_word2vec_format é utilizado para carregar o arquivo GloVe.\n",
        "# A opção binary=False indica que o arquivo não está em formato binário.\n",
        "# O parâmetro no_header=True é essencial aqui, pois os arquivos GloVe não possuem\n",
        "# um cabeçalho com informações sobre o número de palavras e dimensões, diferentemente dos arquivos Word2Vec.\n",
        "model = KeyedVectors.load_word2vec_format(glove_input_file, binary=False, no_header=True)\n",
        "\n",
        "# Encontra a palavra cujo vetor é o mais similar ao resultado da operação vetorial 'woman' + 'king' - 'man'.\n",
        "# A função retorna o resultado mais relevante (topn=1).\n",
        "result = model.most_similar(positive=['woman', 'king'], negative=['man'], topn=1)\n",
        "\n",
        "result"
      ]
    }
  ]
}