{
 "cells": [
  {
   "cell_type": "code",
   "execution_count": 1,
   "id": "18017341",
   "metadata": {},
   "outputs": [],
   "source": [
    "from sklearn.datasets import load_digits \n",
    "from sklearn.linear_model import Perceptron "
   ]
  },
  {
   "cell_type": "markdown",
   "id": "a40bd4de",
   "metadata": {},
   "source": [
    "# CARREGANDO DADOS"
   ]
  },
  {
   "cell_type": "code",
   "execution_count": 5,
   "id": "db2051e4",
   "metadata": {},
   "outputs": [
    {
     "name": "stdout",
     "output_type": "stream",
     "text": [
      "1797\n",
      "[ 0.  0.  5. 13.  9.  1.  0.  0.  0.  0. 13. 15. 10. 15.  5.  0.  0.  3.\n",
      " 15.  2.  0. 11.  8.  0.  0.  4. 12.  0.  0.  8.  8.  0.  0.  5.  8.  0.\n",
      "  0.  9.  8.  0.  0.  4. 11.  0.  1. 12.  7.  0.  0.  2. 14.  5. 10. 12.\n",
      "  0.  0.  0.  0.  6. 13. 10.  0.  0.  0.]\n"
     ]
    }
   ],
   "source": [
    "X, y = load_digits(return_X_y=True) #retorna a base de dados\n",
    "print(len(X))\n",
    "print(X[0])"
   ]
  },
  {
   "cell_type": "code",
   "execution_count": 7,
   "id": "6f78d984",
   "metadata": {},
   "outputs": [
    {
     "name": "stdout",
     "output_type": "stream",
     "text": [
      "1797\n",
      "[0 1 2 ... 8 9 8]\n"
     ]
    }
   ],
   "source": [
    "print(len(y))\n",
    "print(y)"
   ]
  },
  {
   "cell_type": "markdown",
   "id": "edfc3351",
   "metadata": {},
   "source": [
    "# CREIANDO MODELO PERCEPTRON E TREINANDO"
   ]
  },
  {
   "cell_type": "code",
   "execution_count": 8,
   "id": "8fc2adcf",
   "metadata": {},
   "outputs": [
    {
     "data": {
      "text/plain": [
       "0.9393433500278241"
      ]
     },
     "execution_count": 8,
     "metadata": {},
     "output_type": "execute_result"
    }
   ],
   "source": [
    "modelo = Perceptron(random_state=0) #random_state -> randomiza a inicialização dos peso \n",
    "modelo.fit(X, y)\n",
    "modelo.score(X, y)"
   ]
  },
  {
   "cell_type": "markdown",
   "id": "64c836cb",
   "metadata": {},
   "source": [
    "# Links Extras\n",
    "\n",
    "* https://www.youtube.com/playlist?list=PLeo1K3hjS3uu7CxAacxVndI4bE_o3BDtO\n",
    "* https://www.youtube.com/watch?v=aircAruvnKk\n",
    "* https://www.youtube.com/watch?v=c6NBkkKNZXw&list=PLxt59R_fWVzT9bDxA76AHm3ig0Gg9S3So&index=5\n",
    "* https://machinelearningmastery.com/implement-perceptron-algorithm-scratch-python/\n",
    "* https://scikit-learn.org/0.15/modules/generated/sklearn.linear_model.Perceptron.html\n",
    "* https://chrisalbon.com/machine_learning/basics/perceptron_in_scikit-learn/"
   ]
  }
 ],
 "metadata": {
  "kernelspec": {
   "display_name": "Python 3",
   "language": "python",
   "name": "python3"
  },
  "language_info": {
   "codemirror_mode": {
    "name": "ipython",
    "version": 3
   },
   "file_extension": ".py",
   "mimetype": "text/x-python",
   "name": "python",
   "nbconvert_exporter": "python",
   "pygments_lexer": "ipython3",
   "version": "3.11.3"
  }
 },
 "nbformat": 4,
 "nbformat_minor": 5
}
